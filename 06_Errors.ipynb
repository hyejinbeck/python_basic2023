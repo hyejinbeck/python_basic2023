{
 "cells": [
  {
   "cell_type": "markdown",
   "id": "f25719f0-a2b8-4300-9a22-9f95737954bc",
   "metadata": {},
   "source": [
    "# 06. Error "
   ]
  },
  {
   "cell_type": "markdown",
   "id": "8c13e7f0-bc13-4c51-88cd-25b153444930",
   "metadata": {},
   "source": [
    "## 01. syntax error 문법 에러"
   ]
  },
  {
   "cell_type": "code",
   "execution_count": 2,
   "id": "774820d7-1d12-41de-a6b7-5541abff9470",
   "metadata": {},
   "outputs": [
    {
     "ename": "SyntaxError",
     "evalue": "invalid syntax (2790534044.py, line 3)",
     "output_type": "error",
     "traceback": [
      "\u001b[0;36m  File \u001b[0;32m\"/var/folders/ld/lw14806d1tnctxswkwdvry_80000gn/T/ipykernel_4400/2790534044.py\"\u001b[0;36m, line \u001b[0;32m3\u001b[0m\n\u001b[0;31m    else\u001b[0m\n\u001b[0m         ^\u001b[0m\n\u001b[0;31mSyntaxError\u001b[0m\u001b[0;31m:\u001b[0m invalid syntax\n"
     ]
    }
   ],
   "source": [
    "if True : \n",
    "    pass \n",
    "else "
   ]
  },
  {
   "cell_type": "markdown",
   "id": "3c2280e2-6223-42c5-be4a-12ca5feb9357",
   "metadata": {},
   "source": [
    "문법적으로 파이썬에서 지원하지 않는 에러 "
   ]
  },
  {
   "cell_type": "code",
   "execution_count": 5,
   "id": "9843f41b-6ea6-4a03-8196-3c81a150e675",
   "metadata": {},
   "outputs": [
    {
     "ename": "SyntaxError",
     "evalue": "unexpected EOF while parsing (2401491204.py, line 1)",
     "output_type": "error",
     "traceback": [
      "\u001b[0;36m  File \u001b[0;32m\"/var/folders/ld/lw14806d1tnctxswkwdvry_80000gn/T/ipykernel_4400/2401491204.py\"\u001b[0;36m, line \u001b[0;32m1\u001b[0m\n\u001b[0;31m    print('hi'\u001b[0m\n\u001b[0m              ^\u001b[0m\n\u001b[0;31mSyntaxError\u001b[0m\u001b[0;31m:\u001b[0m unexpected EOF while parsing\n"
     ]
    }
   ],
   "source": [
    "print('hi'"
   ]
  },
  {
   "cell_type": "markdown",
   "id": "980a3b90-e931-48ba-aff6-d6d0d7cc89c2",
   "metadata": {},
   "source": [
    "어느 위치에 에러가 나왔는지 대략적으로 알려줌 "
   ]
  },
  {
   "cell_type": "code",
   "execution_count": 7,
   "id": "ffcc85fd-6379-4100-8f48-137ea96c734b",
   "metadata": {},
   "outputs": [
    {
     "ename": "SyntaxError",
     "evalue": "invalid syntax (208852302.py, line 1)",
     "output_type": "error",
     "traceback": [
      "\u001b[0;36m  File \u001b[0;32m\"/var/folders/ld/lw14806d1tnctxswkwdvry_80000gn/T/ipykernel_4400/208852302.py\"\u001b[0;36m, line \u001b[0;32m1\u001b[0m\n\u001b[0;31m    if True print('hello')\u001b[0m\n\u001b[0m            ^\u001b[0m\n\u001b[0;31mSyntaxError\u001b[0m\u001b[0;31m:\u001b[0m invalid syntax\n"
     ]
    }
   ],
   "source": [
    "if True print('hello') "
   ]
  },
  {
   "cell_type": "markdown",
   "id": "dbdfca9b-ff4e-4e70-bb7d-c3e49d6bc726",
   "metadata": {},
   "source": [
    "## 02. exception 예외"
   ]
  },
  {
   "cell_type": "code",
   "execution_count": 8,
   "id": "c33fd8f4-8d45-459c-8605-7f7a0d07ecc9",
   "metadata": {},
   "outputs": [
    {
     "ename": "ZeroDivisionError",
     "evalue": "division by zero",
     "output_type": "error",
     "traceback": [
      "\u001b[0;31m---------------------------------------------------------------------------\u001b[0m",
      "\u001b[0;31mZeroDivisionError\u001b[0m                         Traceback (most recent call last)",
      "\u001b[0;32m/var/folders/ld/lw14806d1tnctxswkwdvry_80000gn/T/ipykernel_4400/933387868.py\u001b[0m in \u001b[0;36m<module>\u001b[0;34m\u001b[0m\n\u001b[0;32m----> 1\u001b[0;31m \u001b[0mprint\u001b[0m\u001b[0;34m(\u001b[0m\u001b[0;36m5\u001b[0m\u001b[0;34m/\u001b[0m\u001b[0;36m0\u001b[0m\u001b[0;34m)\u001b[0m    \u001b[0;31m# 5를 0 으로 나누어보자\u001b[0m\u001b[0;34m\u001b[0m\u001b[0;34m\u001b[0m\u001b[0m\n\u001b[0m",
      "\u001b[0;31mZeroDivisionError\u001b[0m: division by zero"
     ]
    }
   ],
   "source": [
    "print(5/0)    # 5를 0 으로 나누어보자 "
   ]
  },
  {
   "cell_type": "markdown",
   "id": "de962108-1b3f-49a9-8a70-9b4869171632",
   "metadata": {},
   "source": [
    "해당 줄에 문제가 있다고 알려줌 "
   ]
  },
  {
   "cell_type": "code",
   "execution_count": 9,
   "id": "e149c4d6-1800-40fb-850f-7714799ffb7d",
   "metadata": {},
   "outputs": [
    {
     "ename": "NameError",
     "evalue": "name 'my_name' is not defined",
     "output_type": "error",
     "traceback": [
      "\u001b[0;31m---------------------------------------------------------------------------\u001b[0m",
      "\u001b[0;31mNameError\u001b[0m                                 Traceback (most recent call last)",
      "\u001b[0;32m/var/folders/ld/lw14806d1tnctxswkwdvry_80000gn/T/ipykernel_4400/2807883850.py\u001b[0m in \u001b[0;36m<module>\u001b[0;34m\u001b[0m\n\u001b[0;32m----> 1\u001b[0;31m \u001b[0mprint\u001b[0m\u001b[0;34m(\u001b[0m\u001b[0mmy_name\u001b[0m\u001b[0;34m)\u001b[0m\u001b[0;34m\u001b[0m\u001b[0;34m\u001b[0m\u001b[0m\n\u001b[0m",
      "\u001b[0;31mNameError\u001b[0m: name 'my_name' is not defined"
     ]
    }
   ],
   "source": [
    "print(my_name)"
   ]
  },
  {
   "cell_type": "markdown",
   "id": "c08bbe8b-8f75-42e5-b2fd-ee83897982d3",
   "metadata": {},
   "source": [
    "철자나 기호 빼먹었을 때"
   ]
  },
  {
   "cell_type": "code",
   "execution_count": 10,
   "id": "e945102f-cda4-48c6-9e36-22557f42d4d6",
   "metadata": {},
   "outputs": [
    {
     "ename": "TypeError",
     "evalue": "unsupported operand type(s) for +: 'int' and 'str'",
     "output_type": "error",
     "traceback": [
      "\u001b[0;31m---------------------------------------------------------------------------\u001b[0m",
      "\u001b[0;31mTypeError\u001b[0m                                 Traceback (most recent call last)",
      "\u001b[0;32m/var/folders/ld/lw14806d1tnctxswkwdvry_80000gn/T/ipykernel_4400/2530726733.py\u001b[0m in \u001b[0;36m<module>\u001b[0;34m\u001b[0m\n\u001b[0;32m----> 1\u001b[0;31m \u001b[0mprint\u001b[0m\u001b[0;34m(\u001b[0m \u001b[0;36m1\u001b[0m \u001b[0;34m+\u001b[0m \u001b[0;34m'1'\u001b[0m \u001b[0;34m)\u001b[0m\u001b[0;34m\u001b[0m\u001b[0;34m\u001b[0m\u001b[0m\n\u001b[0m",
      "\u001b[0;31mTypeError\u001b[0m: unsupported operand type(s) for +: 'int' and 'str'"
     ]
    }
   ],
   "source": [
    "print( 1 + '1' )"
   ]
  },
  {
   "cell_type": "markdown",
   "id": "06116412-494c-4221-8aef-59c590fa87dd",
   "metadata": {},
   "source": [
    "int 와 str 는 연산을 할 수가 없다. 타입을 체크해보세요 "
   ]
  },
  {
   "cell_type": "code",
   "execution_count": 11,
   "id": "2258e820-cd13-4109-aff4-73502d987f0b",
   "metadata": {},
   "outputs": [
    {
     "ename": "TypeError",
     "evalue": "can only concatenate str (not \"int\") to str",
     "output_type": "error",
     "traceback": [
      "\u001b[0;31m---------------------------------------------------------------------------\u001b[0m",
      "\u001b[0;31mTypeError\u001b[0m                                 Traceback (most recent call last)",
      "\u001b[0;32m/var/folders/ld/lw14806d1tnctxswkwdvry_80000gn/T/ipykernel_4400/1203145316.py\u001b[0m in \u001b[0;36m<module>\u001b[0;34m\u001b[0m\n\u001b[0;32m----> 1\u001b[0;31m \u001b[0;34m'1'\u001b[0m \u001b[0;34m+\u001b[0m \u001b[0;36m1\u001b[0m\u001b[0;34m\u001b[0m\u001b[0;34m\u001b[0m\u001b[0m\n\u001b[0m",
      "\u001b[0;31mTypeError\u001b[0m: can only concatenate str (not \"int\") to str"
     ]
    }
   ],
   "source": [
    "'1' + 1 "
   ]
  },
  {
   "cell_type": "markdown",
   "id": "d72c74ef-2802-418f-abce-d6a107d4da1b",
   "metadata": {},
   "source": [
    "글자 str 가 먼저 나오기 때문에, \"concatenate\" 연결 할 수가 없습니다. "
   ]
  },
  {
   "cell_type": "code",
   "execution_count": 12,
   "id": "cbcbf906-1da0-461f-adb4-e9c1d52de72c",
   "metadata": {},
   "outputs": [],
   "source": [
    "import random"
   ]
  },
  {
   "cell_type": "code",
   "execution_count": 18,
   "id": "3d48528a-251c-43a7-a1ec-ff4c84fc35a7",
   "metadata": {},
   "outputs": [
    {
     "ename": "TypeError",
     "evalue": "sample() missing 1 required positional argument: 'k'",
     "output_type": "error",
     "traceback": [
      "\u001b[0;31m---------------------------------------------------------------------------\u001b[0m",
      "\u001b[0;31mTypeError\u001b[0m                                 Traceback (most recent call last)",
      "\u001b[0;32m/var/folders/ld/lw14806d1tnctxswkwdvry_80000gn/T/ipykernel_4400/3764758727.py\u001b[0m in \u001b[0;36m<module>\u001b[0;34m\u001b[0m\n\u001b[0;32m----> 1\u001b[0;31m \u001b[0mrandom\u001b[0m\u001b[0;34m.\u001b[0m\u001b[0msample\u001b[0m\u001b[0;34m(\u001b[0m\u001b[0;34m[\u001b[0m\u001b[0;36m1\u001b[0m\u001b[0;34m,\u001b[0m\u001b[0;36m3\u001b[0m\u001b[0;34m,\u001b[0m\u001b[0;36m5\u001b[0m\u001b[0;34m]\u001b[0m\u001b[0;34m)\u001b[0m       \u001b[0;31m# 여러개의 데이터중에 몇개를 랜덤으로 추출해라\u001b[0m\u001b[0;34m\u001b[0m\u001b[0;34m\u001b[0m\u001b[0m\n\u001b[0m",
      "\u001b[0;31mTypeError\u001b[0m: sample() missing 1 required positional argument: 'k'"
     ]
    }
   ],
   "source": [
    "random.sample([1,3,5])       # 여러개의 데이터중에 몇개를 랜덤으로 추출해라 "
   ]
  },
  {
   "cell_type": "markdown",
   "id": "e7d6566e-191b-4ffc-8997-0e2979eeddfb",
   "metadata": {},
   "source": [
    "너무 적게 넣어서 문제 "
   ]
  },
  {
   "cell_type": "code",
   "execution_count": 17,
   "id": "6310bd17-8728-4e76-ba95-4d96aa797500",
   "metadata": {},
   "outputs": [
    {
     "ename": "TypeError",
     "evalue": "sample() takes 3 positional arguments but 9 were given",
     "output_type": "error",
     "traceback": [
      "\u001b[0;31m---------------------------------------------------------------------------\u001b[0m",
      "\u001b[0;31mTypeError\u001b[0m                                 Traceback (most recent call last)",
      "\u001b[0;32m/var/folders/ld/lw14806d1tnctxswkwdvry_80000gn/T/ipykernel_4400/4171493785.py\u001b[0m in \u001b[0;36m<module>\u001b[0;34m\u001b[0m\n\u001b[0;32m----> 1\u001b[0;31m \u001b[0mrandom\u001b[0m\u001b[0;34m.\u001b[0m\u001b[0msample\u001b[0m\u001b[0;34m(\u001b[0m\u001b[0;34m[\u001b[0m\u001b[0;36m1\u001b[0m\u001b[0;34m,\u001b[0m\u001b[0;36m2\u001b[0m\u001b[0;34m,\u001b[0m\u001b[0;36m3\u001b[0m\u001b[0;34m,\u001b[0m\u001b[0;36m4\u001b[0m\u001b[0;34m,\u001b[0m\u001b[0;36m5\u001b[0m\u001b[0;34m]\u001b[0m\u001b[0;34m,\u001b[0m\u001b[0;36m2\u001b[0m\u001b[0;34m,\u001b[0m\u001b[0;36m2\u001b[0m\u001b[0;34m,\u001b[0m\u001b[0;36m2\u001b[0m\u001b[0;34m,\u001b[0m\u001b[0;36m2\u001b[0m\u001b[0;34m,\u001b[0m\u001b[0;36m2\u001b[0m\u001b[0;34m,\u001b[0m\u001b[0;36m2\u001b[0m\u001b[0;34m,\u001b[0m\u001b[0;36m2\u001b[0m\u001b[0;34m)\u001b[0m\u001b[0;34m\u001b[0m\u001b[0;34m\u001b[0m\u001b[0m\n\u001b[0m",
      "\u001b[0;31mTypeError\u001b[0m: sample() takes 3 positional arguments but 9 were given"
     ]
    }
   ],
   "source": [
    "random.sample([1,2,3,4,5],2,2,2,2,2,2,2)"
   ]
  },
  {
   "cell_type": "markdown",
   "id": "628a6b2e-012e-4b0f-8703-8afe66b3af60",
   "metadata": {},
   "source": [
    "너무 많이 넣어서 문제"
   ]
  },
  {
   "cell_type": "code",
   "execution_count": 19,
   "id": "7391afe1-047e-48ce-b145-0a6adbd6dd86",
   "metadata": {},
   "outputs": [
    {
     "ename": "ValueError",
     "evalue": "invalid literal for int() with base 10: '3,5'",
     "output_type": "error",
     "traceback": [
      "\u001b[0;31m---------------------------------------------------------------------------\u001b[0m",
      "\u001b[0;31mValueError\u001b[0m                                Traceback (most recent call last)",
      "\u001b[0;32m/var/folders/ld/lw14806d1tnctxswkwdvry_80000gn/T/ipykernel_4400/1767278268.py\u001b[0m in \u001b[0;36m<module>\u001b[0;34m\u001b[0m\n\u001b[0;32m----> 1\u001b[0;31m \u001b[0mint\u001b[0m\u001b[0;34m(\u001b[0m\u001b[0;34m'3,5'\u001b[0m\u001b[0;34m)\u001b[0m    \u001b[0;31m# 글자를 숫자로 바꿔줌 str -> int\u001b[0m\u001b[0;34m\u001b[0m\u001b[0;34m\u001b[0m\u001b[0m\n\u001b[0m",
      "\u001b[0;31mValueError\u001b[0m: invalid literal for int() with base 10: '3,5'"
     ]
    }
   ],
   "source": [
    "int('3,5')    # 글자를 숫자로 바꿔줌 str -> int "
   ]
  },
  {
   "cell_type": "markdown",
   "id": "845e6d3b-a151-43b2-b85c-84d87168c683",
   "metadata": {},
   "source": [
    "int 함수를 실행하기 위해서는, 10진수 데이터가 필요합니다. (3.5는 10진수가 아닌, 실수 라서 불가) "
   ]
  },
  {
   "cell_type": "code",
   "execution_count": 20,
   "id": "81606867-e11f-43c3-8242-2b9429c9be93",
   "metadata": {},
   "outputs": [
    {
     "ename": "ValueError",
     "evalue": "100 is not in list",
     "output_type": "error",
     "traceback": [
      "\u001b[0;31m---------------------------------------------------------------------------\u001b[0m",
      "\u001b[0;31mValueError\u001b[0m                                Traceback (most recent call last)",
      "\u001b[0;32m/var/folders/ld/lw14806d1tnctxswkwdvry_80000gn/T/ipykernel_4400/2981441303.py\u001b[0m in \u001b[0;36m<module>\u001b[0;34m\u001b[0m\n\u001b[1;32m      1\u001b[0m \u001b[0mnumbers\u001b[0m \u001b[0;34m=\u001b[0m \u001b[0;34m[\u001b[0m\u001b[0;36m1\u001b[0m\u001b[0;34m,\u001b[0m\u001b[0;36m2\u001b[0m\u001b[0;34m,\u001b[0m\u001b[0;36m3\u001b[0m\u001b[0;34m,\u001b[0m\u001b[0;36m4\u001b[0m\u001b[0;34m]\u001b[0m\u001b[0;34m\u001b[0m\u001b[0;34m\u001b[0m\u001b[0m\n\u001b[0;32m----> 2\u001b[0;31m \u001b[0mnumbers\u001b[0m\u001b[0;34m.\u001b[0m\u001b[0mindex\u001b[0m\u001b[0;34m(\u001b[0m\u001b[0;36m100\u001b[0m\u001b[0;34m)\u001b[0m        \u001b[0;31m# 100 이라는 값이 있나요?\u001b[0m\u001b[0;34m\u001b[0m\u001b[0;34m\u001b[0m\u001b[0m\n\u001b[0m",
      "\u001b[0;31mValueError\u001b[0m: 100 is not in list"
     ]
    }
   ],
   "source": [
    "numbers = [1,2,3,4] \n",
    "numbers.index(100)        # 100 이라는 값이 있나요? "
   ]
  },
  {
   "cell_type": "markdown",
   "id": "d25bec20-dd53-4d57-af7e-e13af6b6f076",
   "metadata": {},
   "source": [
    "요청하는 값이 없습니다. "
   ]
  },
  {
   "cell_type": "code",
   "execution_count": 22,
   "id": "6f75e9b9-ff70-4566-a3d0-5dd4c436658b",
   "metadata": {},
   "outputs": [
    {
     "ename": "IndexError",
     "evalue": "list index out of range",
     "output_type": "error",
     "traceback": [
      "\u001b[0;31m---------------------------------------------------------------------------\u001b[0m",
      "\u001b[0;31mIndexError\u001b[0m                                Traceback (most recent call last)",
      "\u001b[0;32m/var/folders/ld/lw14806d1tnctxswkwdvry_80000gn/T/ipykernel_4400/1394149503.py\u001b[0m in \u001b[0;36m<module>\u001b[0;34m\u001b[0m\n\u001b[0;32m----> 1\u001b[0;31m \u001b[0mnumbers\u001b[0m\u001b[0;34m[\u001b[0m\u001b[0;36m100\u001b[0m\u001b[0;34m]\u001b[0m       \u001b[0;31m# numbers 의 100번째 데이터 값이 뭔지 가져다줘.\u001b[0m\u001b[0;34m\u001b[0m\u001b[0;34m\u001b[0m\u001b[0m\n\u001b[0m",
      "\u001b[0;31mIndexError\u001b[0m: list index out of range"
     ]
    }
   ],
   "source": [
    "numbers[100]       # numbers 의 100번째 데이터 값이 뭔지 가져다줘. "
   ]
  },
  {
   "cell_type": "markdown",
   "id": "8802c370-bab6-4149-876f-0bfdea4dc127",
   "metadata": {},
   "source": [
    "100번째 인덱스가 없음 "
   ]
  },
  {
   "cell_type": "code",
   "execution_count": 23,
   "id": "0666f2f8-5603-4064-9747-b23aae052209",
   "metadata": {},
   "outputs": [],
   "source": [
    "my_dict = { \n",
    "    'apple' : '사과',\n",
    "    'banana' : '바나나', \n",
    "}"
   ]
  },
  {
   "cell_type": "code",
   "execution_count": 24,
   "id": "d3c0b03d-05d3-4563-a50a-fb6b9325a54d",
   "metadata": {},
   "outputs": [
    {
     "data": {
      "text/plain": [
       "'사과'"
      ]
     },
     "execution_count": 24,
     "metadata": {},
     "output_type": "execute_result"
    }
   ],
   "source": [
    "my_dict['apple'] "
   ]
  },
  {
   "cell_type": "code",
   "execution_count": 25,
   "id": "d3de49a1-5645-4a7f-8b35-9b2ea8e01fa9",
   "metadata": {},
   "outputs": [
    {
     "ename": "KeyError",
     "evalue": "'melon'",
     "output_type": "error",
     "traceback": [
      "\u001b[0;31m---------------------------------------------------------------------------\u001b[0m",
      "\u001b[0;31mKeyError\u001b[0m                                  Traceback (most recent call last)",
      "\u001b[0;32m/var/folders/ld/lw14806d1tnctxswkwdvry_80000gn/T/ipykernel_4400/3294912877.py\u001b[0m in \u001b[0;36m<module>\u001b[0;34m\u001b[0m\n\u001b[0;32m----> 1\u001b[0;31m \u001b[0mmy_dict\u001b[0m\u001b[0;34m[\u001b[0m\u001b[0;34m'melon'\u001b[0m\u001b[0;34m]\u001b[0m\u001b[0;34m\u001b[0m\u001b[0;34m\u001b[0m\u001b[0m\n\u001b[0m",
      "\u001b[0;31mKeyError\u001b[0m: 'melon'"
     ]
    }
   ],
   "source": [
    "my_dict['melon']"
   ]
  },
  {
   "cell_type": "markdown",
   "id": "2849407c-3df0-4ae9-8c84-c812f38d4cd0",
   "metadata": {},
   "source": [
    "입력한 'melon' 값이 없습니다. "
   ]
  },
  {
   "cell_type": "code",
   "execution_count": 26,
   "id": "ddd16650-3b53-44b7-8ca1-a80e63e0b427",
   "metadata": {},
   "outputs": [
    {
     "ename": "ModuleNotFoundError",
     "evalue": "No module named 'asdf'",
     "output_type": "error",
     "traceback": [
      "\u001b[0;31m---------------------------------------------------------------------------\u001b[0m",
      "\u001b[0;31mModuleNotFoundError\u001b[0m                       Traceback (most recent call last)",
      "\u001b[0;32m/var/folders/ld/lw14806d1tnctxswkwdvry_80000gn/T/ipykernel_4400/1176635523.py\u001b[0m in \u001b[0;36m<module>\u001b[0;34m\u001b[0m\n\u001b[0;32m----> 1\u001b[0;31m \u001b[0;32mimport\u001b[0m \u001b[0masdf\u001b[0m\u001b[0;34m\u001b[0m\u001b[0;34m\u001b[0m\u001b[0m\n\u001b[0m",
      "\u001b[0;31mModuleNotFoundError\u001b[0m: No module named 'asdf'"
     ]
    }
   ],
   "source": [
    "import asdf      "
   ]
  },
  {
   "cell_type": "markdown",
   "id": "649ef9c5-3b59-4802-b728-f52f771da834",
   "metadata": {},
   "source": [
    "파이썬이 가지고 있지 않는 모듈을 불러 올 때 "
   ]
  },
  {
   "cell_type": "code",
   "execution_count": 27,
   "id": "bd691d2e-d7bc-4ed8-b988-c6d941663d65",
   "metadata": {},
   "outputs": [],
   "source": [
    "# while True: \n",
    "#     continue\n",
    "# 하게되면 무한히 돌아감 \n",
    "\n",
    "# KeyboardInterrupt:   \n",
    "# 코드의 진행상황을 멈춰버림 "
   ]
  },
  {
   "cell_type": "markdown",
   "id": "c0b6141f-ff8e-4485-9be3-74d5170de6dd",
   "metadata": {},
   "source": [
    "# 3. 예외처리"
   ]
  },
  {
   "cell_type": "markdown",
   "id": "0228fbc7-3601-48b4-8a0e-6c6c7d1810bb",
   "metadata": {},
   "source": [
    "```python \n",
    "try: \n",
    "    code \n",
    "except 예외: \n",
    "    code\n",
    "```"
   ]
  },
  {
   "cell_type": "code",
   "execution_count": 29,
   "id": "d7823233-81d8-4a59-9cc9-0e463aec9d65",
   "metadata": {},
   "outputs": [
    {
     "ename": "SyntaxError",
     "evalue": "unexpected EOF while parsing (2310609651.py, line 2)",
     "output_type": "error",
     "traceback": [
      "\u001b[0;36m  File \u001b[0;32m\"/var/folders/ld/lw14806d1tnctxswkwdvry_80000gn/T/ipykernel_4400/2310609651.py\"\u001b[0;36m, line \u001b[0;32m2\u001b[0m\n\u001b[0;31m    num = input('숫자를 입력해주세요: '\u001b[0m\n\u001b[0m                               ^\u001b[0m\n\u001b[0;31mSyntaxError\u001b[0m\u001b[0;31m:\u001b[0m unexpected EOF while parsing\n"
     ]
    }
   ],
   "source": [
    "try: \n",
    "    num = input('숫자를 입력해주세요: ' "
   ]
  },
  {
   "cell_type": "code",
   "execution_count": 30,
   "id": "6ccda8d7-0c10-447d-8a64-f3d079cbfd05",
   "metadata": {},
   "outputs": [
    {
     "name": "stdin",
     "output_type": "stream",
     "text": [
      "숫자를 입력해주세요:  23\n"
     ]
    },
    {
     "ename": "TypeError",
     "evalue": "unsupported operand type(s) for ** or pow(): 'str' and 'int'",
     "output_type": "error",
     "traceback": [
      "\u001b[0;31m---------------------------------------------------------------------------\u001b[0m",
      "\u001b[0;31mTypeError\u001b[0m                                 Traceback (most recent call last)",
      "\u001b[0;32m/var/folders/ld/lw14806d1tnctxswkwdvry_80000gn/T/ipykernel_4400/972129091.py\u001b[0m in \u001b[0;36m<module>\u001b[0;34m\u001b[0m\n\u001b[1;32m      1\u001b[0m \u001b[0;32mtry\u001b[0m\u001b[0;34m:\u001b[0m\u001b[0;34m\u001b[0m\u001b[0;34m\u001b[0m\u001b[0m\n\u001b[1;32m      2\u001b[0m     \u001b[0mnum\u001b[0m \u001b[0;34m=\u001b[0m \u001b[0minput\u001b[0m\u001b[0;34m(\u001b[0m\u001b[0;34m'숫자를 입력해주세요: '\u001b[0m\u001b[0;34m)\u001b[0m\u001b[0;34m\u001b[0m\u001b[0;34m\u001b[0m\u001b[0m\n\u001b[0;32m----> 3\u001b[0;31m     \u001b[0mprint\u001b[0m\u001b[0;34m(\u001b[0m\u001b[0;34mf'{num}의 세제곱은 {num**3}입니다.'\u001b[0m\u001b[0;34m)\u001b[0m\u001b[0;34m\u001b[0m\u001b[0;34m\u001b[0m\u001b[0m\n\u001b[0m\u001b[1;32m      4\u001b[0m \u001b[0;32mexcept\u001b[0m \u001b[0mValueError\u001b[0m\u001b[0;34m:\u001b[0m\u001b[0;34m\u001b[0m\u001b[0;34m\u001b[0m\u001b[0m\n\u001b[1;32m      5\u001b[0m     \u001b[0mprint\u001b[0m\u001b[0;34m(\u001b[0m\u001b[0;34m'숫자를 입력하세요!!'\u001b[0m\u001b[0;34m)\u001b[0m\u001b[0;34m\u001b[0m\u001b[0;34m\u001b[0m\u001b[0m\n",
      "\u001b[0;31mTypeError\u001b[0m: unsupported operand type(s) for ** or pow(): 'str' and 'int'"
     ]
    }
   ],
   "source": [
    "try: \n",
    "    num = input('숫자를 입력해주세요: ')\n",
    "    print(f'{num}의 세제곱은 {num**3}입니다.') \n",
    "except ValueError: \n",
    "    print('숫자를 입력하세요!!') "
   ]
  },
  {
   "cell_type": "code",
   "execution_count": 31,
   "id": "260fa005-9747-4ad9-99a5-b8e8f7e585ba",
   "metadata": {},
   "outputs": [
    {
     "name": "stdin",
     "output_type": "stream",
     "text": [
      "숫자를 입력해주세요:  23\n"
     ]
    },
    {
     "name": "stdout",
     "output_type": "stream",
     "text": [
      "23의 세제곱은 12167입니다.\n"
     ]
    }
   ],
   "source": [
    "try: \n",
    "    num = int(input('숫자를 입력해주세요: '))           # 숫자니까 int \n",
    "    print(f'{num}의 세제곱은 {num**3}입니다.') \n",
    "except ValueError: \n",
    "    print('숫자를 입력하세요!!') "
   ]
  },
  {
   "cell_type": "code",
   "execution_count": 32,
   "id": "b6a91bcd-9b18-4ee1-b223-059513ecfe81",
   "metadata": {},
   "outputs": [
    {
     "name": "stdin",
     "output_type": "stream",
     "text": [
      "숫자를 입력해주세요:  a\n"
     ]
    },
    {
     "name": "stdout",
     "output_type": "stream",
     "text": [
      "숫자를 입력하세요!!\n"
     ]
    }
   ],
   "source": [
    "try: \n",
    "    num = int(input('숫자를 입력해주세요: '))           # 숫자니까 int \n",
    "    print(f'{num}의 세제곱은 {num**3}입니다.') \n",
    "except ValueError: \n",
    "    print('숫자를 입력하세요!!') "
   ]
  },
  {
   "cell_type": "code",
   "execution_count": 34,
   "id": "71a9eee4-6eb1-4585-aada-13ec12576715",
   "metadata": {},
   "outputs": [
    {
     "name": "stdin",
     "output_type": "stream",
     "text": [
      "나눔값을 입력해주세요: 5\n"
     ]
    },
    {
     "name": "stdout",
     "output_type": "stream",
     "text": [
      "100을 5으로 나누면 20.0입니다.\n"
     ]
    }
   ],
   "source": [
    "try: \n",
    "    num = int(input('나눔값을 입력해주세요:')) \n",
    "    print(f'100을 {num}으로 나누면 {100/num}입니다.') \n",
    "except: \n",
    "    print('문제발생')"
   ]
  },
  {
   "cell_type": "code",
   "execution_count": 35,
   "id": "0442a27e-5425-433f-b58b-b1f45e855f0d",
   "metadata": {},
   "outputs": [
    {
     "name": "stdin",
     "output_type": "stream",
     "text": [
      "나눔값을 입력해주세요: 0\n"
     ]
    },
    {
     "name": "stdout",
     "output_type": "stream",
     "text": [
      "문제발생\n"
     ]
    }
   ],
   "source": [
    "try: \n",
    "    num = int(input('나눔값을 입력해주세요:')) \n",
    "    print(f'100을 {num}으로 나누면 {100/num}입니다.') \n",
    "except: \n",
    "    print('문제발생')"
   ]
  },
  {
   "cell_type": "code",
   "execution_count": 38,
   "id": "8074d5cf-b0d5-4472-9ce2-9fe4eff18f42",
   "metadata": {},
   "outputs": [
    {
     "name": "stdin",
     "output_type": "stream",
     "text": [
      "나눔값을 입력해주세요: 0\n"
     ]
    },
    {
     "name": "stdout",
     "output_type": "stream",
     "text": [
      "수학적으로 0으로 나눌 수 없습니다.\n"
     ]
    }
   ],
   "source": [
    "try: \n",
    "    num = int(input('나눔값을 입력해주세요:')) \n",
    "    print(f'100을 {num}으로 나누면 {100/num}입니다.') \n",
    "except ValueError: \n",
    "    print('입력한 정보는 숫자가 아닙니다.')\n",
    "except ZeroDivisionError: \n",
    "    print('수학적으로 0으로 나눌 수 없습니다.')"
   ]
  },
  {
   "cell_type": "code",
   "execution_count": 39,
   "id": "983d1a3d-45ea-4535-8cf5-0ab70447d408",
   "metadata": {},
   "outputs": [
    {
     "name": "stdin",
     "output_type": "stream",
     "text": [
      "나눔값을 입력해주세요: e\n"
     ]
    },
    {
     "name": "stdout",
     "output_type": "stream",
     "text": [
      "입력한 정보는 숫자가 아닙니다.\n"
     ]
    }
   ],
   "source": [
    "try: \n",
    "    num = int(input('나눔값을 입력해주세요:')) \n",
    "    print(f'100을 {num}으로 나누면 {100/num}입니다.') \n",
    "except ValueError: \n",
    "    print('입력한 정보는 숫자가 아닙니다.')\n",
    "except ZeroDivisionError: \n",
    "    print('수학적으로 0으로 나눌 수 없습니다.')"
   ]
  },
  {
   "cell_type": "code",
   "execution_count": 40,
   "id": "7defdfe4-40de-458a-81a8-030595fa6078",
   "metadata": {},
   "outputs": [
    {
     "name": "stdout",
     "output_type": "stream",
     "text": [
      "범위가 문제있어요.\n"
     ]
    }
   ],
   "source": [
    "try: \n",
    "    my_list = []\n",
    "    print(my_list[10]) \n",
    "except: \n",
    "    print('범위가 문제있어요.')"
   ]
  },
  {
   "cell_type": "code",
   "execution_count": 45,
   "id": "95fce25b-e05d-4a04-b42b-f0e27b87d873",
   "metadata": {},
   "outputs": [
    {
     "name": "stdout",
     "output_type": "stream",
     "text": [
      "범위가 문제있어요.\n",
      "list index out of range\n"
     ]
    }
   ],
   "source": [
    "try: \n",
    "    my_list = []\n",
    "    print(my_list[10])        # 빈 변수에 10번째 인덱스를 찾는다 -> error 가 난다. \n",
    "except IndexError as err:     # 그러나 예외적으로, indexerror 가 날 경우, \n",
    "    print('범위가 문제있어요.')    # 이렇게 출력하게 해줘\n",
    "    print(err)"
   ]
  },
  {
   "cell_type": "code",
   "execution_count": 50,
   "id": "900e7777-1f0d-4d72-a4e5-af623b2eef40",
   "metadata": {},
   "outputs": [
    {
     "name": "stdout",
     "output_type": "stream",
     "text": [
      "오류발생\n"
     ]
    }
   ],
   "source": [
    "try: \n",
    "    numbers = [1,2,3]\n",
    "    num = numbers[5]\n",
    "except: \n",
    "    print('오류발생') \n",
    "else: \n",
    "    print(num * 100) "
   ]
  },
  {
   "cell_type": "code",
   "execution_count": 52,
   "id": "f8b760ca-e90b-4559-b01a-67412ce74b7f",
   "metadata": {},
   "outputs": [
    {
     "name": "stdout",
     "output_type": "stream",
     "text": [
      "200\n"
     ]
    }
   ],
   "source": [
    "try: \n",
    "    numbers = [1,2,3]\n",
    "    num = numbers[1]\n",
    "except: \n",
    "    print('오류발생') \n",
    "else:                      # 예외문을 실행하지 않을 때, 실행되는 코드 \n",
    "    print(num * 100) "
   ]
  },
  {
   "cell_type": "code",
   "execution_count": 53,
   "id": "115e63c9-c1fe-4878-99d3-25e125837ca9",
   "metadata": {},
   "outputs": [
    {
     "ename": "SyntaxError",
     "evalue": "unexpected EOF while parsing (1436087529.py, line 6)",
     "output_type": "error",
     "traceback": [
      "\u001b[0;36m  File \u001b[0;32m\"/var/folders/ld/lw14806d1tnctxswkwdvry_80000gn/T/ipykernel_4400/1436087529.py\"\u001b[0;36m, line \u001b[0;32m6\u001b[0m\n\u001b[0;31m    info['phone']\u001b[0m\n\u001b[0m                 ^\u001b[0m\n\u001b[0;31mSyntaxError\u001b[0m\u001b[0;31m:\u001b[0m unexpected EOF while parsing\n"
     ]
    }
   ],
   "source": [
    "try : \n",
    "    info = { \n",
    "        'name': 'hyejin',\n",
    "        'location': 'anyang',\n",
    "    }\n",
    "    info['phone']"
   ]
  },
  {
   "cell_type": "code",
   "execution_count": 54,
   "id": "c8b27f7d-710d-4b26-be7f-33b97a58c653",
   "metadata": {},
   "outputs": [
    {
     "name": "stdout",
     "output_type": "stream",
     "text": [
      "없는 키입니다.\n"
     ]
    }
   ],
   "source": [
    "try : \n",
    "    info = { \n",
    "        'name': 'hyejin',\n",
    "        'location': 'anyang',\n",
    "    }\n",
    "    info['phone']\n",
    "    \n",
    "except: \n",
    "    print('없는 키입니다.')"
   ]
  },
  {
   "cell_type": "code",
   "execution_count": 59,
   "id": "a76e8c73-c74a-4c6c-b54d-040c8a127cd4",
   "metadata": {},
   "outputs": [
    {
     "name": "stdout",
     "output_type": "stream",
     "text": [
      "없는 키입니다.\n",
      "끝\n"
     ]
    }
   ],
   "source": [
    "try : \n",
    "    info = { \n",
    "        'name': 'hyejin',\n",
    "        'location': 'anyang',\n",
    "    }\n",
    "    info['phone']\n",
    "    \n",
    "except: \n",
    "    print('없는 키입니다.')\n",
    "finally :                        # 예외문 발생 상관 없이, 무조건 실행되는 코드 \n",
    "    print('끝')"
   ]
  },
  {
   "cell_type": "code",
   "execution_count": 61,
   "id": "5050d20c-6ba0-483d-96f2-a19afbacaa46",
   "metadata": {},
   "outputs": [
    {
     "name": "stdout",
     "output_type": "stream",
     "text": [
      "끝\n"
     ]
    }
   ],
   "source": [
    "try : \n",
    "    info = { \n",
    "        'name': 'hyejin',\n",
    "        'location': 'anyang',\n",
    "    }\n",
    "    info['location']\n",
    "    \n",
    "except:                         # except 예외문 이 실행 안되더라도 \n",
    "    print('없는 키입니다.')\n",
    "finally :                       # finally 문은 실행된다. \n",
    "    print('끝')"
   ]
  },
  {
   "cell_type": "code",
   "execution_count": 63,
   "id": "a0817fb8-84bb-4466-95d5-68cc2ffd6b4d",
   "metadata": {},
   "outputs": [
    {
     "ename": "RuntimeError",
     "evalue": "No active exception to reraise",
     "output_type": "error",
     "traceback": [
      "\u001b[0;31m---------------------------------------------------------------------------\u001b[0m",
      "\u001b[0;31mRuntimeError\u001b[0m                              Traceback (most recent call last)",
      "\u001b[0;32m/var/folders/ld/lw14806d1tnctxswkwdvry_80000gn/T/ipykernel_4400/3440610888.py\u001b[0m in \u001b[0;36m<module>\u001b[0;34m\u001b[0m\n\u001b[0;32m----> 1\u001b[0;31m \u001b[0;32mraise\u001b[0m         \u001b[0;31m# 예외를 강제로 발생\u001b[0m\u001b[0;34m\u001b[0m\u001b[0;34m\u001b[0m\u001b[0m\n\u001b[0m",
      "\u001b[0;31mRuntimeError\u001b[0m: No active exception to reraise"
     ]
    }
   ],
   "source": [
    "raise         # 예외를 강제로 발생 "
   ]
  },
  {
   "cell_type": "markdown",
   "id": "1f533ca5-015d-4d33-8561-9282538e1a7d",
   "metadata": {},
   "source": [
    "잠깐 코드를 멈추고 일부러 에러를 일으킬 때 사용 "
   ]
  },
  {
   "cell_type": "code",
   "execution_count": 67,
   "id": "0130e9d7-2838-4773-84d4-66bed9b0df17",
   "metadata": {},
   "outputs": [
    {
     "name": "stdout",
     "output_type": "stream",
     "text": [
      "None\n",
      "None\n",
      "None\n"
     ]
    }
   ],
   "source": [
    "# 연습 \n",
    "\n",
    "def my_div(num1, num2) :     # num1 과 num2 를 나눌 때 \n",
    "    pass                     # 위에 있는 코드들을 참고해서, 에러 발생하지 않도록 코드 작성하라 \n",
    "\n",
    "print(my_div(5,0)) \n",
    "print(my_div('5','0'))\n",
    "print(my_div(5,2))"
   ]
  },
  {
   "cell_type": "code",
   "execution_count": 71,
   "id": "fca63f6e-83a5-4906-a759-918bab96d033",
   "metadata": {},
   "outputs": [],
   "source": [
    "def my_div(num1, num2) :     \n",
    "    try:                          # 이 함수 내에서 뭔가 시도 해보자 \n",
    "        result = num1 / num2      # num1 과 num2 를 나눈 값을 result 에 저장 \n",
    "    except ZeroDivisionError: \n",
    "        print('0으로 나눌 수 없습니다.') \n",
    "    except : \n",
    "        print('숫자를 넣어야 합니다') \n",
    "    else :                           # 사용자가 숫자를 잘 넣어서, 에러 발생하지 않았다면 \n",
    "        return result                 # 최종으로 result 값을 반환한다. "
   ]
  },
  {
   "cell_type": "code",
   "execution_count": 72,
   "id": "153a2c5e-8de3-4345-95dd-8ba2014714e5",
   "metadata": {},
   "outputs": [
    {
     "name": "stdout",
     "output_type": "stream",
     "text": [
      "0으로 나눌 수 없습니다.\n",
      "None\n"
     ]
    }
   ],
   "source": [
    "print(my_div(5,0)) "
   ]
  },
  {
   "cell_type": "code",
   "execution_count": 73,
   "id": "52a4c2b5-0808-4ff1-a313-d592428525f5",
   "metadata": {},
   "outputs": [
    {
     "name": "stdout",
     "output_type": "stream",
     "text": [
      "숫자를 넣어야 합니다\n",
      "None\n"
     ]
    }
   ],
   "source": [
    "print(my_div('5','0'))"
   ]
  },
  {
   "cell_type": "code",
   "execution_count": 74,
   "id": "3c05329f-5cab-4498-9e78-bb864cb4e444",
   "metadata": {},
   "outputs": [
    {
     "name": "stdout",
     "output_type": "stream",
     "text": [
      "2.5\n"
     ]
    }
   ],
   "source": [
    "print(my_div(5,2))"
   ]
  },
  {
   "cell_type": "code",
   "execution_count": null,
   "id": "98d5b062-82af-43e5-927f-8541cfdd5ea6",
   "metadata": {},
   "outputs": [],
   "source": []
  }
 ],
 "metadata": {
  "kernelspec": {
   "display_name": "Python 3 (ipykernel)",
   "language": "python",
   "name": "python3"
  },
  "language_info": {
   "codemirror_mode": {
    "name": "ipython",
    "version": 3
   },
   "file_extension": ".py",
   "mimetype": "text/x-python",
   "name": "python",
   "nbconvert_exporter": "python",
   "pygments_lexer": "ipython3",
   "version": "3.9.13"
  }
 },
 "nbformat": 4,
 "nbformat_minor": 5
}
