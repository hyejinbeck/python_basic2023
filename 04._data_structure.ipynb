{
 "cells": [
  {
   "cell_type": "markdown",
   "id": "bef2e85c-746b-4321-a370-b54592ebffe2",
   "metadata": {},
   "source": [
    "### 메소드 : "
   ]
  },
  {
   "cell_type": "code",
   "execution_count": 1,
   "id": "d1d203d4-a372-4f63-b6fb-41da0e5bf71d",
   "metadata": {},
   "outputs": [
    {
     "data": {
      "text/plain": [
       "'1 2 3'"
      ]
     },
     "execution_count": 1,
     "metadata": {},
     "output_type": "execute_result"
    }
   ],
   "source": [
    "' ' .join (['1','2','3']) "
   ]
  },
  {
   "cell_type": "code",
   "execution_count": 3,
   "id": "9307c5e8-8837-4783-9502-8ac978cdaa59",
   "metadata": {},
   "outputs": [
    {
     "data": {
      "text/plain": [
       "['__add__',\n",
       " '__class__',\n",
       " '__contains__',\n",
       " '__delattr__',\n",
       " '__dir__',\n",
       " '__doc__',\n",
       " '__eq__',\n",
       " '__format__',\n",
       " '__ge__',\n",
       " '__getattribute__',\n",
       " '__getitem__',\n",
       " '__getnewargs__',\n",
       " '__gt__',\n",
       " '__hash__',\n",
       " '__init__',\n",
       " '__init_subclass__',\n",
       " '__iter__',\n",
       " '__le__',\n",
       " '__len__',\n",
       " '__lt__',\n",
       " '__mod__',\n",
       " '__mul__',\n",
       " '__ne__',\n",
       " '__new__',\n",
       " '__reduce__',\n",
       " '__reduce_ex__',\n",
       " '__repr__',\n",
       " '__rmod__',\n",
       " '__rmul__',\n",
       " '__setattr__',\n",
       " '__sizeof__',\n",
       " '__str__',\n",
       " '__subclasshook__',\n",
       " 'capitalize',\n",
       " 'casefold',\n",
       " 'center',\n",
       " 'count',\n",
       " 'encode',\n",
       " 'endswith',\n",
       " 'expandtabs',\n",
       " 'find',\n",
       " 'format',\n",
       " 'format_map',\n",
       " 'index',\n",
       " 'isalnum',\n",
       " 'isalpha',\n",
       " 'isascii',\n",
       " 'isdecimal',\n",
       " 'isdigit',\n",
       " 'isidentifier',\n",
       " 'islower',\n",
       " 'isnumeric',\n",
       " 'isprintable',\n",
       " 'isspace',\n",
       " 'istitle',\n",
       " 'isupper',\n",
       " 'join',\n",
       " 'ljust',\n",
       " 'lower',\n",
       " 'lstrip',\n",
       " 'maketrans',\n",
       " 'partition',\n",
       " 'removeprefix',\n",
       " 'removesuffix',\n",
       " 'replace',\n",
       " 'rfind',\n",
       " 'rindex',\n",
       " 'rjust',\n",
       " 'rpartition',\n",
       " 'rsplit',\n",
       " 'rstrip',\n",
       " 'split',\n",
       " 'splitlines',\n",
       " 'startswith',\n",
       " 'strip',\n",
       " 'swapcase',\n",
       " 'title',\n",
       " 'translate',\n",
       " 'upper',\n",
       " 'zfill']"
      ]
     },
     "execution_count": 3,
     "metadata": {},
     "output_type": "execute_result"
    }
   ],
   "source": [
    "dir('hello') #di함수를 'hello'문자열 객체를 이용하여 할 수 있는 기능들 "
   ]
  },
  {
   "cell_type": "markdown",
   "id": "710d1952-4089-486e-9391-91b2309104c7",
   "metadata": {},
   "source": [
    "# 1. 문자열 메소드"
   ]
  },
  {
   "cell_type": "code",
   "execution_count": 14,
   "id": "702e76a7-ed32-429b-a0a5-1e9a5caaeac4",
   "metadata": {},
   "outputs": [],
   "source": [
    "a = 'hello my name is hyejin'"
   ]
  },
  {
   "cell_type": "code",
   "execution_count": 16,
   "id": "28c8dd7d-2daa-445a-bb5c-f31ae88c2a76",
   "metadata": {},
   "outputs": [
    {
     "ename": "TypeError",
     "evalue": "'str' object does not support item assignment",
     "output_type": "error",
     "traceback": [
      "\u001b[0;31m---------------------------------------------------------------------------\u001b[0m",
      "\u001b[0;31mTypeError\u001b[0m                                 Traceback (most recent call last)",
      "\u001b[0;32m/var/folders/ld/lw14806d1tnctxswkwdvry_80000gn/T/ipykernel_1385/2195168045.py\u001b[0m in \u001b[0;36m<module>\u001b[0;34m\u001b[0m\n\u001b[0;32m----> 1\u001b[0;31m \u001b[0ma\u001b[0m\u001b[0;34m[\u001b[0m\u001b[0;36m0\u001b[0m\u001b[0;34m]\u001b[0m \u001b[0;34m=\u001b[0m \u001b[0;34m'h'\u001b[0m\u001b[0;34m\u001b[0m\u001b[0;34m\u001b[0m\u001b[0m\n\u001b[0m",
      "\u001b[0;31mTypeError\u001b[0m: 'str' object does not support item assignment"
     ]
    }
   ],
   "source": [
    "a[0] = 'h'"
   ]
  },
  {
   "cell_type": "code",
   "execution_count": 17,
   "id": "6d4fd745-76cd-446b-a335-4f657d2e3287",
   "metadata": {},
   "outputs": [
    {
     "data": {
      "text/plain": [
       "'Hello my name is hyejin'"
      ]
     },
     "execution_count": 17,
     "metadata": {},
     "output_type": "execute_result"
    }
   ],
   "source": [
    "a.capitalize()"
   ]
  },
  {
   "cell_type": "code",
   "execution_count": 18,
   "id": "2d7f4db9-6dcd-4a03-86bd-0f82279de3bf",
   "metadata": {},
   "outputs": [
    {
     "name": "stdout",
     "output_type": "stream",
     "text": [
      "hello my name is hyejin\n"
     ]
    }
   ],
   "source": [
    "print(a)     # 위에 capitalize 메소드를 실행한게 영향에 미치지는 않는다."
   ]
  },
  {
   "cell_type": "code",
   "execution_count": 19,
   "id": "d452887c-d325-4f9b-99ff-5e6d395ec70f",
   "metadata": {},
   "outputs": [
    {
     "name": "stdout",
     "output_type": "stream",
     "text": [
      "Hello my name is hyejin\n"
     ]
    }
   ],
   "source": [
    "a = a.capitalize()      # 수정본을 저장하고 싶으면 a = \n",
    "print(a)"
   ]
  },
  {
   "cell_type": "code",
   "execution_count": 23,
   "id": "5aeb996a-c3fd-4058-bc3c-dd877ee57d7b",
   "metadata": {},
   "outputs": [
    {
     "data": {
      "text/plain": [
       "'Hello My Name Is Hyejin'"
      ]
     },
     "execution_count": 23,
     "metadata": {},
     "output_type": "execute_result"
    }
   ],
   "source": [
    "a.title()     # 띄어쓰기 기준 단어 하나하나마다 대문자 "
   ]
  },
  {
   "cell_type": "code",
   "execution_count": 24,
   "id": "9e81114d-6cd9-4578-a06e-d31da0d10cf9",
   "metadata": {},
   "outputs": [
    {
     "data": {
      "text/plain": [
       "'HELLO MY NAME IS HYEJIN'"
      ]
     },
     "execution_count": 24,
     "metadata": {},
     "output_type": "execute_result"
    }
   ],
   "source": [
    "a.upper()"
   ]
  },
  {
   "cell_type": "code",
   "execution_count": 25,
   "id": "d624ea9d-a476-4446-a869-27720e6e9355",
   "metadata": {},
   "outputs": [
    {
     "data": {
      "text/plain": [
       "'hello my name is hyejin'"
      ]
     },
     "execution_count": 25,
     "metadata": {},
     "output_type": "execute_result"
    }
   ],
   "source": [
    "a.lower() "
   ]
  },
  {
   "cell_type": "code",
   "execution_count": 27,
   "id": "f49857fc-5868-4b4f-b565-115c820d2b10",
   "metadata": {},
   "outputs": [
    {
     "name": "stdout",
     "output_type": "stream",
     "text": [
      "hello my name is hyejin\n"
     ]
    }
   ],
   "source": [
    "print(a)     # 여기서 출력되는 a = a.capitalize"
   ]
  },
  {
   "cell_type": "code",
   "execution_count": 32,
   "id": "1a9b18bf-ac1d-4b89-9c5b-d9892bac6c04",
   "metadata": {},
   "outputs": [
    {
     "data": {
      "text/plain": [
       "'hi  , my  , name'"
      ]
     },
     "execution_count": 32,
     "metadata": {},
     "output_type": "execute_result"
    }
   ],
   "source": [
    "# ''.join(iterable) \n",
    "my_list = ['hi','my','name'] \n",
    "\n",
    "'  , '.join(my_list)              # join메소드를 통해  , 기준으로 모든 객체를 같이 보여준다."
   ]
  },
  {
   "cell_type": "code",
   "execution_count": 34,
   "id": "45dabeb6-0f25-47eb-8e12-948842c43fc2",
   "metadata": {},
   "outputs": [
    {
     "ename": "TypeError",
     "evalue": "replace expected at least 2 arguments, got 1",
     "output_type": "error",
     "traceback": [
      "\u001b[0;31m---------------------------------------------------------------------------\u001b[0m",
      "\u001b[0;31mTypeError\u001b[0m                                 Traceback (most recent call last)",
      "\u001b[0;32m/var/folders/ld/lw14806d1tnctxswkwdvry_80000gn/T/ipykernel_1385/1319038247.py\u001b[0m in \u001b[0;36m<module>\u001b[0;34m\u001b[0m\n\u001b[0;32m----> 1\u001b[0;31m \u001b[0ma\u001b[0m\u001b[0;34m.\u001b[0m\u001b[0mreplace\u001b[0m\u001b[0;34m(\u001b[0m\u001b[0mmy_list\u001b[0m\u001b[0;34m)\u001b[0m\u001b[0;34m\u001b[0m\u001b[0;34m\u001b[0m\u001b[0m\n\u001b[0m",
      "\u001b[0;31mTypeError\u001b[0m: replace expected at least 2 arguments, got 1"
     ]
    }
   ],
   "source": [
    "a.replace(my_list)"
   ]
  },
  {
   "cell_type": "code",
   "execution_count": 36,
   "id": "37a081ad-cac5-46b7-bc29-dd41bad71727",
   "metadata": {},
   "outputs": [],
   "source": [
    "#    str.replace(old,new[, count]) \n",
    "#   문자열.               [, count]는 생략 가능하다는 뜻  "
   ]
  },
  {
   "cell_type": "code",
   "execution_count": 38,
   "id": "4e7c7735-c8f4-498c-85ec-04869582865e",
   "metadata": {},
   "outputs": [
    {
     "data": {
      "text/plain": [
       "'hellzzzzoooooo'"
      ]
     },
     "execution_count": 38,
     "metadata": {},
     "output_type": "execute_result"
    }
   ],
   "source": [
    "'helloooooooooo'.replace('o','z',4)\n",
    "                                      # 'o' -> 'z' 로 '4'번 바꾼다는 메소드"
   ]
  },
  {
   "cell_type": "code",
   "execution_count": 40,
   "id": "aa94def9-c140-4199-92e8-adf981cf73ff",
   "metadata": {},
   "outputs": [
    {
     "name": "stdout",
     "output_type": "stream",
     "text": [
      "      hell  _ \n",
      "hell  _\n"
     ]
    }
   ],
   "source": [
    "#    .strip()      \n",
    "my_string = '      hell  _ '  \n",
    "print(my_string)                  # 단순 출력 (그대로) \n",
    "print(my_string.strip())          # 띄어쓰기,공백,엔터(|n)제거 "
   ]
  },
  {
   "cell_type": "code",
   "execution_count": 150,
   "id": "f33faaea-cd37-4d3a-a105-10f74a29a08e",
   "metadata": {},
   "outputs": [
    {
     "name": "stdout",
     "output_type": "stream",
     "text": [
      "ello\n",
      "ellohihi\n",
      "hihihihihihihihihihello\n"
     ]
    }
   ],
   "source": [
    "#    .strip([])         여기서 []는 선택적이라는 뜻 \n",
    "my_string2 = 'hihihihihihihihihihellohihi'\n",
    "print(my_string2.strip('hi'))   # [] 안에 있는 단어를 지움\n",
    "print(my_string2.lstrip('hi'))\n",
    "print(my_string2.rstrip('hi'))"
   ]
  },
  {
   "cell_type": "code",
   "execution_count": 49,
   "id": "53e4c49f-5008-49da-bcc4-ebac3760f42c",
   "metadata": {},
   "outputs": [
    {
     "name": "stdout",
     "output_type": "stream",
     "text": [
      "1\n",
      "-1\n"
     ]
    }
   ],
   "source": [
    "#    .find(x) \n",
    "a = 'apple' \n",
    "print(a.find('p'))      # 찾는 단어가 있으면 양수 1 \n",
    "print(a.find('z'))      # 찾는 단어가 없으면 음수 - 1 "
   ]
  },
  {
   "cell_type": "code",
   "execution_count": 52,
   "id": "85abe0d5-dc7f-45ff-937b-eaf56bd8729d",
   "metadata": {},
   "outputs": [
    {
     "name": "stdout",
     "output_type": "stream",
     "text": [
      "1\n"
     ]
    }
   ],
   "source": [
    "#     .index(x) \n",
    "a = 'apple' \n",
    "print(a.index('p'))     # 찾는 단어가 있으면 양수 1\n",
    "#print(a.index('z'))    # 찾는 단어가 없으면 error      -> 찾는 단어가 없을 때 에러 떠야 할 경우 index 를 쓴다 (코드 멈춰버림) "
   ]
  },
  {
   "cell_type": "code",
   "execution_count": 67,
   "id": "a82f42c0-d6aa-40ce-b0a3-34b8490dec45",
   "metadata": {},
   "outputs": [
    {
     "name": "stdout",
     "output_type": "stream",
     "text": [
      "2\n",
      "1\n",
      "0\n"
     ]
    }
   ],
   "source": [
    "#      .count(x) \n",
    "a = 'apple' \n",
    "print(a.count('p'))\n",
    "print(a.count('e'))\n",
    "print(a.count('z'))"
   ]
  },
  {
   "cell_type": "code",
   "execution_count": 62,
   "id": "4a231e16-abab-4eb8-9487-832e33731955",
   "metadata": {},
   "outputs": [
    {
     "name": "stdout",
     "output_type": "stream",
     "text": [
      "1\n",
      "2\n"
     ]
    }
   ],
   "source": [
    "a = 'apple' \n",
    "\n",
    "for i in range(len(a)) :     # a가 가지고 있는 글자 수만큼 반복 돌릴거야. \n",
    "    if 'p' == a[i]:       # 만약 'p' 라는 글자가 a의 인덱스 \n",
    "        print(i) "
   ]
  },
  {
   "cell_type": "code",
   "execution_count": 64,
   "id": "cc9c12af-6ee0-4fcc-aa89-785862d10a03",
   "metadata": {},
   "outputs": [],
   "source": [
    "name = 'he he hhe lo'\n",
    "\n",
    "for n in range(len(name)): \n",
    "    if 'h' == name[i]: \n",
    "        print(n)"
   ]
  },
  {
   "cell_type": "code",
   "execution_count": 68,
   "id": "df85ca3b-6599-421d-8dc2-932fbef6fa23",
   "metadata": {},
   "outputs": [
    {
     "data": {
      "text/plain": [
       "['my_n', 'me_is_beck']"
      ]
     },
     "execution_count": 68,
     "metadata": {},
     "output_type": "execute_result"
    }
   ],
   "source": [
    "#     .split(x) \n",
    "a = 'my_name_is_beck'\n",
    "a.split('a')                #split(x) 기준 ,를 넣어 2개로 나뉜다. "
   ]
  },
  {
   "cell_type": "markdown",
   "id": "6f8c035c-bc09-4de3-9547-6502d16468de",
   "metadata": {},
   "source": [
    "```\n",
    "islower() \n",
    "isupper()\n",
    "isspace()\n",
    "isprintable()\n",
    "```\n",
    "\n",
    "### 등등 is 가 들어있는 경우 return 이 들어가기 때문에 결과가 주로 True, False 로 나온다. "
   ]
  },
  {
   "cell_type": "markdown",
   "id": "d25633fb-4730-4582-9780-1750d6885474",
   "metadata": {},
   "source": [
    "## 2. 리스트 메소드 "
   ]
  },
  {
   "cell_type": "code",
   "execution_count": 78,
   "id": "552e9374-e2c5-4872-a220-771ec450630f",
   "metadata": {},
   "outputs": [],
   "source": [
    "numbers = [1, 2, 2, 5, 2, 1, 6, 2, 4, 8] "
   ]
  },
  {
   "cell_type": "code",
   "execution_count": 81,
   "id": "0afe8c80-df9c-45d9-b6fb-df1146d48067",
   "metadata": {},
   "outputs": [],
   "source": [
    "#    .append(x) \n",
    "numbers.append(99)          # 이건 예외적으로 원본에 저장한다. 이대로 실행하면 값이 나오지 않는다. "
   ]
  },
  {
   "cell_type": "code",
   "execution_count": 80,
   "id": "2f12a367-b77b-4ee3-8ca1-e330bc699381",
   "metadata": {},
   "outputs": [
    {
     "name": "stdout",
     "output_type": "stream",
     "text": [
      "[1, 2, 2, 5, 2, 1, 6, 2, 4, 8, 99]\n"
     ]
    }
   ],
   "source": [
    "print(numbers) "
   ]
  },
  {
   "cell_type": "code",
   "execution_count": 85,
   "id": "749ff83a-5da3-4770-b043-fac933a888a1",
   "metadata": {},
   "outputs": [
    {
     "name": "stdout",
     "output_type": "stream",
     "text": [
      "[1, 2, 2, 5, 2, 1, 6, 2, 4, 8, 99, 99]\n"
     ]
    }
   ],
   "source": [
    "print(numbers)              # 한 번 더 실행하면 똑같이 추가된다. "
   ]
  },
  {
   "cell_type": "code",
   "execution_count": 88,
   "id": "b287761d-185f-4192-ba81-733237255e95",
   "metadata": {},
   "outputs": [
    {
     "name": "stdout",
     "output_type": "stream",
     "text": [
      "[1, 2, 2, 5, 2, 1, 6, 2, 4, 8, 99, 99, 99, 100, 99, 100, 99, 100]\n"
     ]
    }
   ],
   "source": [
    "#     .extend(iterable) \n",
    "a = [99,100] \n",
    "numbers.extend(a)           # [ ] 안에 있는 값을 a 에 넣어준다. \n",
    "print(numbers)              # 이것도 여러번 실행할 수록 늘어난다.}"
   ]
  },
  {
   "cell_type": "code",
   "execution_count": 92,
   "id": "261ced10-ef6b-47b9-8657-1ce2ab3e8dd3",
   "metadata": {},
   "outputs": [
    {
     "name": "stdout",
     "output_type": "stream",
     "text": [
      "[1, 2, 2, 5, 2, 1, 6, 2, 4, 8, 99, 99, 99, 100, 99, 100, 99, 100, 99, 100]\n"
     ]
    }
   ],
   "source": [
    "numbers.extend(a)\n",
    "print(numbers)"
   ]
  },
  {
   "cell_type": "code",
   "execution_count": 93,
   "id": "8d2fdb24-1d75-4a4a-b32a-66699bfd7524",
   "metadata": {},
   "outputs": [],
   "source": [
    "# append 는 하나를 , extend 는 여러개를 추가 할 때 사용 "
   ]
  },
  {
   "cell_type": "code",
   "execution_count": 99,
   "id": "892e2d84-168f-4de2-b5f3-82fc5d9e4d06",
   "metadata": {},
   "outputs": [],
   "source": [
    "#       .insert(idx, x)    \n",
    "numbers = [1, 2, 3, 44, 6,3 ] \n",
    "numbers.insert ( 3 , 9999) "
   ]
  },
  {
   "cell_type": "code",
   "execution_count": 100,
   "id": "4aa0c440-9c12-406e-ad2e-a71cb9cd220e",
   "metadata": {},
   "outputs": [
    {
     "name": "stdout",
     "output_type": "stream",
     "text": [
      "[1, 2, 3, 9999, 44, 6, 3]\n"
     ]
    }
   ],
   "source": [
    "print(numbers)                 #    .insert (넣을 인덱스 번호. 넣고 싶은 값) "
   ]
  },
  {
   "cell_type": "code",
   "execution_count": 101,
   "id": "e7f5f38f-0645-41e4-8815-f3fb5c91a99d",
   "metadata": {},
   "outputs": [
    {
     "name": "stdout",
     "output_type": "stream",
     "text": [
      "[1, 2, 3, 44, 6, 3]\n"
     ]
    }
   ],
   "source": [
    "#        .remove(x) \n",
    "numbers.remove(9999)           # 9999 값을 지우고 싶을 때\n",
    "print(numbers)"
   ]
  },
  {
   "cell_type": "code",
   "execution_count": 102,
   "id": "fdd53d57-24e2-4f21-9058-e4bf9f7aac3e",
   "metadata": {},
   "outputs": [
    {
     "ename": "ValueError",
     "evalue": "list.remove(x): x not in list",
     "output_type": "error",
     "traceback": [
      "\u001b[0;31m---------------------------------------------------------------------------\u001b[0m",
      "\u001b[0;31mValueError\u001b[0m                                Traceback (most recent call last)",
      "\u001b[0;32m/var/folders/ld/lw14806d1tnctxswkwdvry_80000gn/T/ipykernel_1385/4131980694.py\u001b[0m in \u001b[0;36m<module>\u001b[0;34m\u001b[0m\n\u001b[0;32m----> 1\u001b[0;31m \u001b[0mnumbers\u001b[0m\u001b[0;34m.\u001b[0m\u001b[0mremove\u001b[0m\u001b[0;34m(\u001b[0m\u001b[0;36m9999\u001b[0m\u001b[0;34m)\u001b[0m            \u001b[0;31m# 이미 위에 9999값을 지웠기 때문에, 한 번 더 실행시 에러\u001b[0m\u001b[0;34m\u001b[0m\u001b[0;34m\u001b[0m\u001b[0m\n\u001b[0m",
      "\u001b[0;31mValueError\u001b[0m: list.remove(x): x not in list"
     ]
    }
   ],
   "source": [
    "numbers.remove(9999)            # 이미 위에 9999값을 지웠기 때문에, 한 번 더 실행시 에러 "
   ]
  },
  {
   "cell_type": "code",
   "execution_count": 105,
   "id": "5de771af-4140-40d0-93bd-afa612fb2d45",
   "metadata": {},
   "outputs": [
    {
     "name": "stdout",
     "output_type": "stream",
     "text": [
      "[1, 2, 3, 4, 5]\n",
      "[1, 2, 4, 5]\n"
     ]
    }
   ],
   "source": [
    "#        .pop([i])        \n",
    "numbers = [1,2,3,4,5,6]  \n",
    "numbers.pop()             # 인덱스 값이 없으면 맨 뒤 \n",
    "print(numbers) \n",
    "\n",
    "numbers.pop(2)            # 2번째 인덱스 값 삭제 \n",
    "print(numbers)"
   ]
  },
  {
   "cell_type": "code",
   "execution_count": 109,
   "id": "6f889bd1-43e2-4bb7-b5b8-bf7c51650628",
   "metadata": {},
   "outputs": [
    {
     "name": "stdout",
     "output_type": "stream",
     "text": [
      "[1, 1, 1, 3, 4, 5, 6, 9, 26, 99]\n",
      "[99, 26, 9, 6, 5, 4, 3, 1, 1, 1]\n"
     ]
    }
   ],
   "source": [
    "#       .sort() \n",
    "numbers = [1,1,1,4,99,3,5,9,6,26] \n",
    "numbers.sort()                       # 작은 값 순으로 재정렬 \n",
    "print(numbers) \n",
    "\n",
    "numbers.sort(reverse=True)           # 큰 값 순으로 재정렬 (역순) \n",
    "print(numbers) "
   ]
  },
  {
   "cell_type": "code",
   "execution_count": 114,
   "id": "be753b78-954b-4562-aeeb-fbc900122cb5",
   "metadata": {},
   "outputs": [
    {
     "name": "stdout",
     "output_type": "stream",
     "text": [
      "[99, 26, 9, 6, 5, 4, 3, 1, 1, 1]\n",
      "[1, 1, 1, 3, 4, 5, 6, 9, 26, 99]\n",
      "[99, 26, 9, 6, 5, 4, 3, 1, 1, 1]\n"
     ]
    }
   ],
   "source": [
    "#       .reverse() \n",
    "print(numbers)                    # 바로 위 큰 값 역순으로 했기 때문에 \n",
    "\n",
    "numbers.reverse()                 # 다시 역순으로 뒤집는 값  \n",
    "print(numbers) \n",
    "\n",
    "numbers = numbers [ : : -1]        # 시작점이 비어있으면 0부터, 종료값 비어있으면 맨 뒤인 -1, \n",
    "print(numbers)"
   ]
  },
  {
   "cell_type": "markdown",
   "id": "baaee7c4-c842-432b-b897-863f1bf0f47a",
   "metadata": {},
   "source": [
    "## 2.1 List Copy "
   ]
  },
  {
   "cell_type": "code",
   "execution_count": 117,
   "id": "3b1497bf-4834-4cbc-9d1a-f9c60c84cd0e",
   "metadata": {},
   "outputs": [],
   "source": [
    "origin_list = [ 1, 2, 3 ] \n",
    "copy_list = origin_list        # copy_list 를 만들어 복제 "
   ]
  },
  {
   "cell_type": "code",
   "execution_count": 118,
   "id": "899e9620-0ef4-4420-a8fb-dc0727fc9cdf",
   "metadata": {},
   "outputs": [
    {
     "name": "stdout",
     "output_type": "stream",
     "text": [
      "[1, 2, 3]\n",
      "[1, 2, 3]\n"
     ]
    }
   ],
   "source": [
    "print(origin_list)           # 원본 \n",
    "print(copy_list)             # 복제본 "
   ]
  },
  {
   "cell_type": "code",
   "execution_count": 120,
   "id": "029445d3-1fc4-43a4-a97e-8c92c0db2178",
   "metadata": {},
   "outputs": [
    {
     "name": "stdout",
     "output_type": "stream",
     "text": [
      "[99, 2, 3]\n",
      "[99, 2, 3]\n"
     ]
    }
   ],
   "source": [
    "copy_list[0] = 99            # 복제본 값 수정 \n",
    "\n",
    "print(origin_list)           # 복제본을 수정하면, 원본도 수정됨 \n",
    "print(copy_list)"
   ]
  },
  {
   "cell_type": "code",
   "execution_count": 123,
   "id": "35ee6467-35fc-4dea-b513-a29c5c0b76ea",
   "metadata": {},
   "outputs": [
    {
     "name": "stdout",
     "output_type": "stream",
     "text": [
      "[1, 2, 3]\n",
      "[1, 2, 3]\n",
      "[1, 2, 3]\n",
      "[99, 2, 3]\n"
     ]
    }
   ],
   "source": [
    "a = [1,2,3] \n",
    "b = a[:]        # 시작점없을경우 0번부터, 종료값없을경우 끝까지 = 처음부터 끝까지 \n",
    "\n",
    "print(a) \n",
    "print(b)\n",
    "\n",
    "b[0] = 99       # 슬라이싱으로 복제할경우 \n",
    "print(a)  \n",
    "print(b)        # 복제본만 수정된다. 원본은 그대로"
   ]
  },
  {
   "cell_type": "code",
   "execution_count": 124,
   "id": "b4677195-a649-46f1-9bb3-a2714345be59",
   "metadata": {},
   "outputs": [
    {
     "name": "stdout",
     "output_type": "stream",
     "text": [
      "[1, 2, 3]\n",
      "[1, 2, 3]\n",
      "[1, 2, 3]\n",
      "[99, 2, 3]\n"
     ]
    }
   ],
   "source": [
    "a = [1,2,3] \n",
    "b = list(a)        # 새로운 리스트 값으로 복제하면 \n",
    "\n",
    "print(a) \n",
    "print(b)\n",
    "\n",
    "b[0] = 99       \n",
    "print(a)  \n",
    "print(b)        # 복제본만 수정된다. 원본은 그대로"
   ]
  },
  {
   "cell_type": "code",
   "execution_count": 126,
   "id": "3fa48000-a1e7-492c-8145-36d2b67f128e",
   "metadata": {},
   "outputs": [
    {
     "name": "stdout",
     "output_type": "stream",
     "text": [
      "[1, 2, [100, 4]]\n",
      "[1, 2, [100, 4]]\n"
     ]
    }
   ],
   "source": [
    "#    0  1    2\n",
    "a = [1, 2, [3,4]]      # 이중으로 리스트로 값을 넣으면\n",
    "b = a[ : ]             # 0번인덱스부터 마지막인덱스까지 \n",
    "\n",
    "b[2][0] = 100          # b의 2번째 인덱스값 = 3,4   의 0번째 인덱스값   3 \n",
    "\n",
    "print(a) \n",
    "print(b) "
   ]
  },
  {
   "cell_type": "code",
   "execution_count": 129,
   "id": "e0823d3f-ad45-48d8-86d6-a16e82a356aa",
   "metadata": {},
   "outputs": [
    {
     "name": "stdout",
     "output_type": "stream",
     "text": [
      "[1, 2, [3, 4]]\n",
      "[1, 2, [3, 4]]\n",
      "[1, 2, [99, 4]]\n"
     ]
    }
   ],
   "source": [
    "import copy     # copy 라는 도구를 불러올거야. \n",
    "a = [1,2, [3,4]] \n",
    "b = copy.deepcopy(a)         \n",
    "\n",
    "print(a)               # 원본 \n",
    "\n",
    "b[2][0] = 99 \n",
    "\n",
    "print(a)               # 원본은 그대로 \n",
    "print(b)                      # 복제본만 수정됨 "
   ]
  },
  {
   "cell_type": "markdown",
   "id": "d25a1cc0-7167-4eb0-9e4a-df8b05309203",
   "metadata": {},
   "source": [
    "## 2.2 List comprehension "
   ]
  },
  {
   "cell_type": "code",
   "execution_count": 130,
   "id": "2958821d-df23-4dd2-a48f-395833540775",
   "metadata": {},
   "outputs": [
    {
     "name": "stdout",
     "output_type": "stream",
     "text": [
      "[1, 2, 3, 4, 5, 6, 7, 8, 9, 10]\n"
     ]
    }
   ],
   "source": [
    "numbers = list(range(1,11)) \n",
    "print(numbers)"
   ]
  },
  {
   "cell_type": "code",
   "execution_count": 140,
   "id": "a20890a7-e2ef-4ea5-93e7-af65a29518cd",
   "metadata": {},
   "outputs": [
    {
     "ename": "SyntaxError",
     "evalue": "'return' outside function (4007206040.py, line 8)",
     "output_type": "error",
     "traceback": [
      "\u001b[0;36m  File \u001b[0;32m\"/var/folders/ld/lw14806d1tnctxswkwdvry_80000gn/T/ipykernel_1385/4007206040.py\"\u001b[0;36m, line \u001b[0;32m8\u001b[0m\n\u001b[0;31m    return result\u001b[0m\n\u001b[0m    ^\u001b[0m\n\u001b[0;31mSyntaxError\u001b[0m\u001b[0;31m:\u001b[0m 'return' outside function\n"
     ]
    }
   ],
   "source": [
    "# 이 안에 있는 모든 수를 반복문을 돌면서 \n",
    "# 세제곱수의 수로 바꾸어서 새로운 result 리스트 값에 넣어라. \n",
    "\n",
    "result = [] \n",
    "\n",
    "for n in numbers : \n",
    "    result = n ** 3 \n",
    "    return result \n",
    "\n",
    "print(result)"
   ]
  },
  {
   "cell_type": "code",
   "execution_count": 135,
   "id": "c264bc6d-81c7-4333-ac1f-f94eb1f2ab49",
   "metadata": {},
   "outputs": [
    {
     "name": "stdout",
     "output_type": "stream",
     "text": [
      "[1, 8, 27, 64, 125, 216, 343, 512, 729, 1000]\n"
     ]
    }
   ],
   "source": [
    "# 정답 \n",
    "\n",
    "result = [ ] \n",
    "for n in numbers: \n",
    "    result.append(n **3) \n",
    "    \n",
    "print(result)"
   ]
  },
  {
   "cell_type": "code",
   "execution_count": 137,
   "id": "82169fbd-ffc0-4999-8978-388380f68869",
   "metadata": {},
   "outputs": [
    {
     "name": "stdout",
     "output_type": "stream",
     "text": [
      "[1, 8, 27, 64, 125, 216, 343, 512, 729, 1000]\n"
     ]
    }
   ],
   "source": [
    "# 정답2 \n",
    "\n",
    "result2 = [ n **3 for n in numbers]         # 리스트 안에 for 문 넣기 \n",
    "print(result2)"
   ]
  },
  {
   "cell_type": "code",
   "execution_count": 143,
   "id": "3ec48cea-0ec3-42fa-bdd8-81facd29495d",
   "metadata": {},
   "outputs": [
    {
     "name": "stdout",
     "output_type": "stream",
     "text": [
      "[3, 4, 5, 6, 7, 8, 9, 10, 11, 12]\n"
     ]
    }
   ],
   "source": [
    "result2 = [ n + 2 for n in numbers] \n",
    "print(result2)"
   ]
  },
  {
   "cell_type": "code",
   "execution_count": 146,
   "id": "337db11c-a332-4f2d-8a98-289c5987b5a2",
   "metadata": {},
   "outputs": [
    {
     "name": "stdout",
     "output_type": "stream",
     "text": [
      "[2, 4, 6, 8, 10]\n"
     ]
    }
   ],
   "source": [
    "# 짝수만 고르기 (반복문 버전) \n",
    "\n",
    "even_list = [ ] \n",
    "for i in numbers : \n",
    "    if i % 2 == 0 : \n",
    "        even_list.append(i) \n",
    "        \n",
    "print(even_list)"
   ]
  },
  {
   "cell_type": "code",
   "execution_count": 147,
   "id": "7ed03695-2037-4113-90ef-d15cdb551cef",
   "metadata": {},
   "outputs": [
    {
     "name": "stdout",
     "output_type": "stream",
     "text": [
      "[2, 4, 6, 8, 10]\n"
     ]
    }
   ],
   "source": [
    "# 짝수만 고르기 ( List comprehension 버전) \n",
    "\n",
    "#   even_list2 = [    for i in numbers                   ]                 \n",
    "#   even_list2 = [    for i in numbers     if i % 2 == 0 ] \n",
    "#   even_list2 = [ i  for i in numbers     if i % 2 == 0 ] \n",
    "#                 결과     for문              if문\n",
    "even_list2 = [i for i in numbers if i % 2 == 0] \n",
    "print(even_list2)"
   ]
  },
  {
   "cell_type": "code",
   "execution_count": 148,
   "id": "6664d889-b88d-47ce-8d1a-f38a55c0e050",
   "metadata": {},
   "outputs": [],
   "source": [
    "words = 'my name is hyejin' \n",
    "vowels = 'aeiou'               # 모음\n",
    "\n",
    "# => my nm s hyjn        으로 출력하기 \n",
    "\n",
    "# 1. for 문 버전 \n",
    "# 2. list comprehesion 버전 "
   ]
  },
  {
   "cell_type": "code",
   "execution_count": 151,
   "id": "75e67897-c739-401c-97fe-b687b717edc2",
   "metadata": {},
   "outputs": [
    {
     "name": "stdout",
     "output_type": "stream",
     "text": [
      "my name is hyejin\n",
      "my name is hyejin\n"
     ]
    }
   ],
   "source": [
    "# 1. for 문 버전 \n",
    "# my nm s hyjn \n",
    "\n",
    "print(words) \n",
    "print(words.strip('aeiou'))"
   ]
  },
  {
   "cell_type": "code",
   "execution_count": 152,
   "id": "4b0ae1e5-8c88-48f5-a0d8-dd9812cd8b54",
   "metadata": {},
   "outputs": [
    {
     "name": "stdout",
     "output_type": "stream",
     "text": [
      "m\n",
      "y\n",
      " \n",
      "n\n",
      "a\n",
      "m\n",
      "e\n",
      " \n",
      "i\n",
      "s\n",
      " \n",
      "h\n",
      "y\n",
      "e\n",
      "j\n",
      "i\n",
      "n\n"
     ]
    }
   ],
   "source": [
    "# 1. for 문 버전 \n",
    "# my nm s hyjn \n",
    "\n",
    "result = [ ]       # 모음을 뺀 자음만 넣을 곳 생성 \n",
    "for char in words: \n",
    "    print(char)"
   ]
  },
  {
   "cell_type": "code",
   "execution_count": 161,
   "id": "3dbc8d81-f1e9-46b0-9a45-61424637579f",
   "metadata": {},
   "outputs": [
    {
     "name": "stdout",
     "output_type": "stream",
     "text": [
      "['m', 'y', ' ', 'n', 'm', ' ', 's', ' ', 'h', 'y', 'j', 'n']\n",
      "my nm s hyjn\n"
     ]
    }
   ],
   "source": [
    "# 1. for 문 버전 \n",
    "# my nm s hyjn \n",
    "\n",
    "result = [ ]             # 모음을 뺀 자음만 넣을 곳 생성 \n",
    "for char in words: \n",
    "    if char not in vowels:        # 글자에 모음이 없나요? (모음을 제외한 자음만) \n",
    "        result.append(char)       # 그럼 그것만 result 변수에 넣어주세요. \n",
    "\n",
    "print(result)                    \n",
    "print(''.join(result))            # 하나의 문자열로 합쳐서 출력합니다."
   ]
  },
  {
   "cell_type": "code",
   "execution_count": 160,
   "id": "f551d448-07f6-4301-b401-a086e8325fd5",
   "metadata": {},
   "outputs": [
    {
     "name": "stdout",
     "output_type": "stream",
     "text": [
      "['M', 'Y', ' ', 'N', 'M', ' ', 'S', ' ', 'H', 'Y', 'J', 'N']\n",
      "MY NM S HYJN\n"
     ]
    }
   ],
   "source": [
    "# 2. List comprehesion \n",
    "\n",
    "result2 = [char.upper() for char in words if char not in vowels]\n",
    "print(result2) \n",
    "print(''.join(result2))"
   ]
  },
  {
   "cell_type": "code",
   "execution_count": 164,
   "id": "bcded32a-aa62-41a5-927e-c62143a0fcd3",
   "metadata": {},
   "outputs": [
    {
     "name": "stdout",
     "output_type": "stream",
     "text": [
      "['M', 'Y', ' ', 'N', 'M', ' ', 'S', ' ', 'H', 'Y', 'J', 'N']\n",
      "MY NM S HYJN\n"
     ]
    }
   ],
   "source": [
    "result2 = [ ] \n",
    "for char in words: \n",
    "    if char not in vowels: \n",
    "        result2.append(char.upper())     # result2.upper(char) 아님  \n",
    "print(result2)\n",
    "print(''.join(result2))"
   ]
  },
  {
   "cell_type": "markdown",
   "id": "44127e64-dcd9-469e-b1ac-226075d78bb0",
   "metadata": {},
   "source": [
    "## 3. 딕셔너리 메소드 "
   ]
  },
  {
   "cell_type": "code",
   "execution_count": 165,
   "id": "2d4f7350-80c4-4835-80a9-d3edf6824fa5",
   "metadata": {},
   "outputs": [],
   "source": [
    "info = { \n",
    "    'name' : 'hyejin',\n",
    "    'location' : 'anyang',\n",
    "} "
   ]
  },
  {
   "cell_type": "code",
   "execution_count": 169,
   "id": "7d13321d-192b-4340-a672-b11d08da1729",
   "metadata": {},
   "outputs": [
    {
     "name": "stdout",
     "output_type": "stream",
     "text": [
      "soonok\n"
     ]
    }
   ],
   "source": [
    "info['name'] = 'soonok'            # info의 key'name' 의 value값 수정 \n",
    "print(info['name']) "
   ]
  },
  {
   "cell_type": "code",
   "execution_count": 167,
   "id": "1cfecc1a-c265-4a45-8da2-63bebf2dfcf0",
   "metadata": {},
   "outputs": [
    {
     "name": "stdout",
     "output_type": "stream",
     "text": [
      "{'name': 'soonok'}\n"
     ]
    }
   ],
   "source": [
    "#    .pop() \n",
    "info.pop('location') \n",
    "print(info) "
   ]
  },
  {
   "cell_type": "code",
   "execution_count": 168,
   "id": "6f039aa5-b321-43df-8ddd-fd7af55c3b03",
   "metadata": {},
   "outputs": [
    {
     "ename": "KeyError",
     "evalue": "'laction'",
     "output_type": "error",
     "traceback": [
      "\u001b[0;31m---------------------------------------------------------------------------\u001b[0m",
      "\u001b[0;31mKeyError\u001b[0m                                  Traceback (most recent call last)",
      "\u001b[0;32m/var/folders/ld/lw14806d1tnctxswkwdvry_80000gn/T/ipykernel_1385/4195800163.py\u001b[0m in \u001b[0;36m<module>\u001b[0;34m\u001b[0m\n\u001b[0;32m----> 1\u001b[0;31m \u001b[0minfo\u001b[0m\u001b[0;34m.\u001b[0m\u001b[0mpop\u001b[0m\u001b[0;34m(\u001b[0m\u001b[0;34m'laction'\u001b[0m\u001b[0;34m)\u001b[0m       \u001b[0;31m# .pop 은 지워지는 함수\u001b[0m\u001b[0;34m\u001b[0m\u001b[0;34m\u001b[0m\u001b[0m\n\u001b[0m\u001b[1;32m      2\u001b[0m \u001b[0mprint\u001b[0m\u001b[0;34m(\u001b[0m\u001b[0minfo\u001b[0m\u001b[0;34m)\u001b[0m               \u001b[0;31m# 위에 이미 지웠기 때문에 한 번더 실행시 에러\u001b[0m\u001b[0;34m\u001b[0m\u001b[0;34m\u001b[0m\u001b[0m\n",
      "\u001b[0;31mKeyError\u001b[0m: 'laction'"
     ]
    }
   ],
   "source": [
    "info.pop('laction')       # .pop 은 지워지는 함수 \n",
    "print(info)               # 위에 이미 지웠기 때문에 한 번더 실행시 에러"
   ]
  },
  {
   "cell_type": "code",
   "execution_count": 170,
   "id": "0cfe8aea-7ca8-4043-a90a-40ca12073ab1",
   "metadata": {},
   "outputs": [
    {
     "name": "stdout",
     "output_type": "stream",
     "text": [
      "{'name': 'soonok'}\n"
     ]
    }
   ],
   "source": [
    "#       .pop (key[ , default]) \n",
    "print(info) "
   ]
  },
  {
   "cell_type": "code",
   "execution_count": 172,
   "id": "10e91b51-95b6-41cb-8a3a-18c727d35e27",
   "metadata": {},
   "outputs": [
    {
     "name": "stdout",
     "output_type": "stream",
     "text": [
      "None\n",
      "{'name': 'soonok'}\n"
     ]
    }
   ],
   "source": [
    "print(info.pop('location',None))      # 만약 'location' 키가 info 딕셔너리에 존재하지 않는다면, None을 반환\n",
    "print(info)"
   ]
  },
  {
   "cell_type": "code",
   "execution_count": 173,
   "id": "7ee9f647-b108-47a0-b825-dbe079ea3666",
   "metadata": {},
   "outputs": [
    {
     "name": "stdout",
     "output_type": "stream",
     "text": [
      "{'name': 'hyejin'}\n"
     ]
    }
   ],
   "source": [
    "#        .update(key=value) \n",
    "info.update(name = 'hyejin') \n",
    "print(info)"
   ]
  },
  {
   "cell_type": "code",
   "execution_count": 179,
   "id": "e561e3dd-1a76-4fae-95ba-433bceb6ae8a",
   "metadata": {},
   "outputs": [
    {
     "name": "stdout",
     "output_type": "stream",
     "text": [
      "hyejin\n",
      "None\n",
      "hyejin\n"
     ]
    }
   ],
   "source": [
    "#        .get(key[, defalut]) \n",
    "print(info.get('name'))        # key 값에 해당하는 value 값을 가져와라\n",
    "print(info.get('school'))             # 없으면 none \n",
    "\n",
    "print(info['name'])"
   ]
  },
  {
   "cell_type": "code",
   "execution_count": 180,
   "id": "33f9956b-e05a-4db2-8a15-d9f77733c57a",
   "metadata": {},
   "outputs": [
    {
     "ename": "KeyError",
     "evalue": "'school'",
     "output_type": "error",
     "traceback": [
      "\u001b[0;31m---------------------------------------------------------------------------\u001b[0m",
      "\u001b[0;31mKeyError\u001b[0m                                  Traceback (most recent call last)",
      "\u001b[0;32m/var/folders/ld/lw14806d1tnctxswkwdvry_80000gn/T/ipykernel_1385/703362072.py\u001b[0m in \u001b[0;36m<module>\u001b[0;34m\u001b[0m\n\u001b[0;32m----> 1\u001b[0;31m \u001b[0mprint\u001b[0m\u001b[0;34m(\u001b[0m\u001b[0minfo\u001b[0m\u001b[0;34m[\u001b[0m\u001b[0;34m'school'\u001b[0m\u001b[0;34m]\u001b[0m\u001b[0;34m)\u001b[0m          \u001b[0;31m# 찾고 있는 key 값이 없으면 error\u001b[0m\u001b[0;34m\u001b[0m\u001b[0;34m\u001b[0m\u001b[0m\n\u001b[0m",
      "\u001b[0;31mKeyError\u001b[0m: 'school'"
     ]
    }
   ],
   "source": [
    "print(info['school'])          # 찾고 있는 key 값이 없으면 error "
   ]
  },
  {
   "cell_type": "code",
   "execution_count": 181,
   "id": "c6cae76f-4862-4250-933d-40c44e633866",
   "metadata": {},
   "outputs": [],
   "source": [
    "# pop = 뽑아오는것 \n",
    "# update = \n",
    "# get = 수정 "
   ]
  },
  {
   "cell_type": "markdown",
   "id": "38c43cf5-8a05-4505-93af-574db3a2d0f5",
   "metadata": {},
   "source": [
    "## 3.1 dict comprehension"
   ]
  },
  {
   "cell_type": "code",
   "execution_count": 182,
   "id": "22423a18-53e6-4ccb-b3dd-513131ccc34d",
   "metadata": {},
   "outputs": [],
   "source": [
    "# { 1: 3, 2: 8 , 3: 27}       # 세 제곱을 만드는 딕셔너리 "
   ]
  },
  {
   "cell_type": "code",
   "execution_count": 183,
   "id": "e53002fb-3644-49b8-8ec8-a1d251d3f3cf",
   "metadata": {},
   "outputs": [
    {
     "name": "stdout",
     "output_type": "stream",
     "text": [
      "{1: 1, 2: 8, 3: 27}\n"
     ]
    }
   ],
   "source": [
    "# for 문으로 만들 경우 \n",
    "\n",
    "cube_dict = {} \n",
    "\n",
    "for i in range(1, 4) :         # cube_dict 에 1,2,3 을 key값으로 넣어줄거야. \n",
    "    cube_dict[i] = i **3       # cube_dict 에 key값은 위의 i (1,2,3) 으로 넣을거고    value 값은 i의 세제곱 ( 3, 8, 27) 로 넣을거야. \n",
    "\n",
    "print(cube_dict)"
   ]
  },
  {
   "cell_type": "code",
   "execution_count": 186,
   "id": "1e7d2cd8-b814-4e74-aa84-cffdf39ebb53",
   "metadata": {},
   "outputs": [
    {
     "name": "stdout",
     "output_type": "stream",
     "text": [
      "{1: 1, 2: 8, 3: 27}\n"
     ]
    }
   ],
   "source": [
    "# comp \n",
    "\n",
    "cube_dict2 = {i : i **3 for i in range(1,4)}     # 위와 동일하게 \n",
    "print(cube_dict2) "
   ]
  },
  {
   "cell_type": "code",
   "execution_count": 198,
   "id": "854f2b95-842d-4f42-b169-bad5ba15156e",
   "metadata": {},
   "outputs": [],
   "source": [
    "dust = {\n",
    "    '서울': 100, \n",
    "    '대구': 30 , \n",
    "    '대전': 10, \n",
    "    '부산': 80 , \n",
    "    '광주': 50 \n",
    "}\n",
    "\n",
    "# 해당 값을 \n",
    "# result = { \n",
    "#     '서울': 100, \n",
    "#     '부산': 80, \n",
    "#     '광주': 50,   \n",
    "# }\n",
    "# 으로 바꾸는 for 문과 comp 문을 작성하라 "
   ]
  },
  {
   "cell_type": "code",
   "execution_count": 199,
   "id": "b8b236c5-30ac-4408-a82a-c67828223a0a",
   "metadata": {},
   "outputs": [
    {
     "name": "stdout",
     "output_type": "stream",
     "text": [
      "{'서울': 100, '부산': 80, '광주': 50}\n"
     ]
    }
   ],
   "source": [
    "# 1. for \n",
    "\n",
    "result = { }\n",
    "result = dust\n",
    "dust.pop('대구')\n",
    "dust.pop('대전')\n",
    "print(result)\n"
   ]
  },
  {
   "cell_type": "code",
   "execution_count": 201,
   "id": "28d71dc7-8643-4077-9e93-855c294895f3",
   "metadata": {},
   "outputs": [
    {
     "name": "stdout",
     "output_type": "stream",
     "text": [
      "{'서울': 100, '부산': 80, '광주': 50}\n"
     ]
    }
   ],
   "source": [
    "dust = {\n",
    "    '서울': 100, \n",
    "    '대구': 30 , \n",
    "    '대전': 10, \n",
    "    '부산': 80 , \n",
    "    '광주': 50 \n",
    "}\n",
    "\n",
    "# 1. for 정답 \n",
    "result = {} \n",
    "\n",
    "for k, v in dust.items() : \n",
    "    if v >= 50 : \n",
    "        result[k] = v \n",
    "\n",
    "print(result)\n",
    "        "
   ]
  },
  {
   "cell_type": "code",
   "execution_count": 204,
   "id": "f29cdeb9-cd42-4865-8db4-53df86822fbc",
   "metadata": {},
   "outputs": [
    {
     "name": "stdout",
     "output_type": "stream",
     "text": [
      "{'서울': 100, '부산': 80, '광주': 50}\n"
     ]
    }
   ],
   "source": [
    "dust = {\n",
    "    '서울': 100, \n",
    "    '대구': 30 , \n",
    "    '대전': 10, \n",
    "    '부산': 80 , \n",
    "    '광주': 50 \n",
    "}\n",
    "\n",
    "# 2. comp\n",
    "result2 = {k: v for k, v in dust.items() if v >= 50 }\n",
    "print(result2)"
   ]
  },
  {
   "cell_type": "code",
   "execution_count": 205,
   "id": "29bc2dd3-60fa-472c-898a-7c5383f620f8",
   "metadata": {},
   "outputs": [
    {
     "name": "stdout",
     "output_type": "stream",
     "text": [
      "{'서울': '가고싶다', '부산': '가고싶다', '광주': '가고싶다'}\n"
     ]
    }
   ],
   "source": [
    "result2 = {k: '가고싶다' for k, v in dust.items() if v >= 50 }\n",
    "print(result2)"
   ]
  },
  {
   "cell_type": "code",
   "execution_count": 206,
   "id": "2b6e87a2-560a-44df-92c8-8c1a11ea1c35",
   "metadata": {},
   "outputs": [],
   "source": [
    "# .items() 메서드는 파이썬의 딕셔너리(dict)에서 사용되는 메서드로, 딕셔너리의 각 키-값 쌍을 (key, value) 형태의 튜플로 반환하는 함수"
   ]
  },
  {
   "cell_type": "markdown",
   "id": "f8c453a7-c21a-4b56-bd0b-42ec2095a47a",
   "metadata": {},
   "source": [
    "## 4. set 메소드 \n",
    "중복값 제거 "
   ]
  },
  {
   "cell_type": "code",
   "execution_count": 234,
   "id": "ab1931bf-feea-460c-acf0-b87883fbb145",
   "metadata": {},
   "outputs": [],
   "source": [
    "fruits = {'apple', 'banana', 'melon'}"
   ]
  },
  {
   "cell_type": "code",
   "execution_count": 235,
   "id": "684e2587-183b-4e4c-ab73-161e234a7e8b",
   "metadata": {},
   "outputs": [
    {
     "name": "stdout",
     "output_type": "stream",
     "text": [
      "{'melon', 'watermelon', 'banana', 'apple'}\n"
     ]
    }
   ],
   "source": [
    "#     .add(x) \n",
    "fruits.add('watermelon')          # 순서 상관없이 더해진다. \n",
    "print(fruits)"
   ]
  },
  {
   "cell_type": "code",
   "execution_count": 236,
   "id": "fb49cfb4-452f-4808-bd80-08212187aa62",
   "metadata": {},
   "outputs": [
    {
     "name": "stdout",
     "output_type": "stream",
     "text": [
      "{'장바구니', 'melon', 'watermelon', 'banana', 'apple'}\n"
     ]
    }
   ],
   "source": [
    "fruits.add('장바구니')          # 순서 상관없이 더해진다. \n",
    "print(fruits)"
   ]
  },
  {
   "cell_type": "code",
   "execution_count": 237,
   "id": "70a47ef2-ce82-43b6-b29a-b73afe40b95b",
   "metadata": {},
   "outputs": [
    {
     "name": "stdout",
     "output_type": "stream",
     "text": [
      "{'장바구니', 'berrys', 'melon', 'watermelon', 'banana', 'apple'}\n"
     ]
    }
   ],
   "source": [
    "fruits.add('berrys')          # 순서 상관없이 더해진다. \n",
    "print(fruits)"
   ]
  },
  {
   "cell_type": "code",
   "execution_count": 238,
   "id": "fcc036a0-9740-4318-9187-e39b7123d683",
   "metadata": {},
   "outputs": [
    {
     "name": "stdout",
     "output_type": "stream",
     "text": [
      "{'장바구니', 'berrys', 'a', 'g', 'p', 'melon', 'watermelon', 'e', 'r', 's', 'banana', 'apple'}\n"
     ]
    }
   ],
   "source": [
    "#       .updat()\n",
    "fruits.update('grapes')       \n",
    "print(fruits)"
   ]
  },
  {
   "cell_type": "code",
   "execution_count": 239,
   "id": "caac2930-8e68-418c-ba47-25ced8a75997",
   "metadata": {},
   "outputs": [
    {
     "name": "stdout",
     "output_type": "stream",
     "text": [
      "{'장바구니', 'berrys', 'a', 'g', 'p', 'melon', 'pears', 'grapes', 'watermelon', 'e', 'r', 's', 'banana', 'apple'}\n"
     ]
    }
   ],
   "source": [
    "#       .updat()\n",
    "fruits.update({'grapes','pears'})       # 정상적으로 더해진다. \n",
    "print(fruits)"
   ]
  },
  {
   "cell_type": "code",
   "execution_count": 240,
   "id": "88ddec05-f8c3-4d4e-8672-67f8e7194a25",
   "metadata": {},
   "outputs": [
    {
     "name": "stdout",
     "output_type": "stream",
     "text": [
      "{'장바구니', 'berrys', 'a', 'g', 'p', 'melon', 'pears', 'watermelon', 'e', 'r', 's', 'banana', 'apple'}\n"
     ]
    }
   ],
   "source": [
    "#        .remove() \n",
    "fruits.remove('grapes')\n",
    "print(fruits)"
   ]
  },
  {
   "cell_type": "code",
   "execution_count": 241,
   "id": "64b74580-6b4a-4ca5-893a-5a638f58ec40",
   "metadata": {},
   "outputs": [
    {
     "name": "stdout",
     "output_type": "stream",
     "text": [
      "{'berrys', 'a', 'g', 'p', 'melon', 'pears', 'watermelon', 'e', 'r', 's', 'banana', 'apple'}\n"
     ]
    }
   ],
   "source": [
    "#         .pop() \n",
    "fruits.pop()           # 랜덤하게 뽑아낸다. (랜덤하게 제거) \n",
    "print(fruits)  "
   ]
  },
  {
   "cell_type": "code",
   "execution_count": 242,
   "id": "9601d7f0-bac9-47d6-8b59-b9f3cb5471dc",
   "metadata": {},
   "outputs": [
    {
     "name": "stdout",
     "output_type": "stream",
     "text": [
      "{'a', 'g', 'p', 'melon', 'pears', 'watermelon', 'e', 'r', 's', 'banana', 'apple'}\n"
     ]
    }
   ],
   "source": [
    "fruits.pop()           # 랜덤하게 뽑아낸다. (랜덤하게 제거) \n",
    "print(fruits)  "
   ]
  },
  {
   "cell_type": "code",
   "execution_count": 243,
   "id": "bd35d766-274f-4c8f-9fdf-8c60d6a96466",
   "metadata": {},
   "outputs": [
    {
     "name": "stdout",
     "output_type": "stream",
     "text": [
      "{'g', 'p', 'melon', 'pears', 'watermelon', 'e', 'r', 's', 'banana', 'apple'}\n"
     ]
    }
   ],
   "source": [
    "fruits.pop()           # 랜덤하게 뽑아낸다. (랜덤하게 제거) \n",
    "print(fruits)  "
   ]
  },
  {
   "cell_type": "code",
   "execution_count": 245,
   "id": "29dec895-fb1f-4be1-8d41-93b9646c8964",
   "metadata": {},
   "outputs": [
    {
     "name": "stdout",
     "output_type": "stream",
     "text": [
      "{'melon', 'pears', 'watermelon', 'e', 'r', 's', 'banana', 'apple'}\n",
      "{'pears', 'watermelon', 'e', 'r', 's', 'banana', 'apple'}\n",
      "{'watermelon', 'e', 'r', 's', 'banana', 'apple'}\n",
      "{'e', 'r', 's', 'banana', 'apple'}\n"
     ]
    }
   ],
   "source": [
    "fruits.pop()           # 랜덤하게 뽑아낸다. (랜덤하게 제거) \n",
    "print(fruits)  \n",
    "\n",
    "fruits.pop()           # 랜덤하게 뽑아낸다. (랜덤하게 제거) \n",
    "print(fruits)  \n",
    "\n",
    "fruits.pop()           # 랜덤하게 뽑아낸다. (랜덤하게 제거) \n",
    "print(fruits)  \n",
    "\n",
    "fruits.pop()           # 랜덤하게 뽑아낸다. (랜덤하게 제거) \n",
    "print(fruits)  "
   ]
  },
  {
   "cell_type": "markdown",
   "id": "3b44895d-d107-4fab-a0eb-0b87c960ced9",
   "metadata": {},
   "source": [
    "## 5. map() , zip()  , filter() "
   ]
  },
  {
   "cell_type": "markdown",
   "id": "d09c3b46-bcba-4c82-be46-773414811432",
   "metadata": {},
   "source": [
    "## 5.1 map( ) \n",
    "```\n",
    "map ( 함수funtion   ,  반복가능시퀀스 iterable) \n",
    "```\n",
    "\n",
    "### 변수안에 하나하나 대입하고 싶을 때 사용 "
   ]
  },
  {
   "cell_type": "code",
   "execution_count": 246,
   "id": "9bfd5fb2-f149-494e-b5af-4ba6e6b6772b",
   "metadata": {},
   "outputs": [
    {
     "name": "stdout",
     "output_type": "stream",
     "text": [
      "<map object at 0x7fa1c8691880>\n"
     ]
    }
   ],
   "source": [
    "a = [ 1, 2, 3 ] \n",
    "\n",
    "number_str = map( str, a)      # str이라는 문자로 바꾸어주는 함수 와 변수 a \n",
    "\n",
    "print(number_str)              # map object 에 저장된 위치를 알려준다. \n",
    "                               # 실제 연산되는게 아니라, 위치만 알려준다. very lazy "
   ]
  },
  {
   "cell_type": "code",
   "execution_count": 247,
   "id": "60d3cb7b-eb97-43cd-8100-cd95c663e780",
   "metadata": {},
   "outputs": [
    {
     "name": "stdout",
     "output_type": "stream",
     "text": [
      "['1', '2', '3']\n"
     ]
    }
   ],
   "source": [
    "print(list(number_str))        # 실제로 출력하고 싶다면, list 형식으로 출력해야함 "
   ]
  },
  {
   "cell_type": "code",
   "execution_count": 248,
   "id": "7a000715-89b4-4553-b486-70579a05f6a1",
   "metadata": {},
   "outputs": [],
   "source": [
    "def cube(x): \n",
    "    return x ** 3 "
   ]
  },
  {
   "cell_type": "code",
   "execution_count": 250,
   "id": "a25535fe-8c61-4d36-a452-6f3260c0ed01",
   "metadata": {},
   "outputs": [
    {
     "name": "stdout",
     "output_type": "stream",
     "text": [
      "[1, 8, 27]\n"
     ]
    }
   ],
   "source": [
    "# for 문을 활용하여, 모든 items에 cube함수 실행 \n",
    "\n",
    "result = [] \n",
    "\n",
    "for i in a : \n",
    "    result.append(cube(i)) \n",
    "print(result)"
   ]
  },
  {
   "cell_type": "code",
   "execution_count": 252,
   "id": "8e0250b9-f721-4885-973f-cfb6ca93911b",
   "metadata": {},
   "outputs": [
    {
     "name": "stdout",
     "output_type": "stream",
     "text": [
      "[1, 8, 27]\n"
     ]
    }
   ],
   "source": [
    "result2 = map(cube,a)    # cube라는 함수에 a변수를 하나하나 돌면서 넣어서 실행할거야. \n",
    "\n",
    "print(list(result2))"
   ]
  },
  {
   "cell_type": "code",
   "execution_count": 265,
   "id": "c0e5c6ec-e229-4b21-9d6c-e8fce5ccf145",
   "metadata": {},
   "outputs": [
    {
     "name": "stdin",
     "output_type": "stream",
     "text": [
      " 12345\n"
     ]
    },
    {
     "name": "stdout",
     "output_type": "stream",
     "text": [
      "12345\n"
     ]
    }
   ],
   "source": [
    "numbers = input()                  #input 안에 숫자 받기\n",
    "print(numbers)"
   ]
  },
  {
   "cell_type": "code",
   "execution_count": 264,
   "id": "f2d82c53-3910-4bed-a295-1326bf8e376a",
   "metadata": {},
   "outputs": [
    {
     "name": "stdin",
     "output_type": "stream",
     "text": [
      " 12345\n"
     ]
    },
    {
     "name": "stdout",
     "output_type": "stream",
     "text": [
      "[1, 2, 2, 5, 2, 1, 6, 2, 4, 99]\n"
     ]
    }
   ],
   "source": [
    "numbers = input().split()         # input 안에 숫자 넣으면 -> 하나하나 쪼개기 \n",
    "print(number)"
   ]
  },
  {
   "cell_type": "code",
   "execution_count": 263,
   "id": "19a7e169-b4b3-41b9-9e4f-1b25d8eb50a4",
   "metadata": {},
   "outputs": [
    {
     "name": "stdin",
     "output_type": "stream",
     "text": [
      " 12345\n"
     ]
    },
    {
     "name": "stdout",
     "output_type": "stream",
     "text": [
      "<map object at 0x7fa1c8691df0>\n"
     ]
    }
   ],
   "source": [
    "numbers = map(int,input().split())        # input 안에 숫자 넣으면 -> 하나하나 쪼개기 \n",
    "print(numbers)"
   ]
  },
  {
   "cell_type": "code",
   "execution_count": 270,
   "id": "d2893ab7-9319-4d8d-a524-b0946105a7e5",
   "metadata": {},
   "outputs": [
    {
     "name": "stdin",
     "output_type": "stream",
     "text": [
      " 12345\n"
     ]
    },
    {
     "name": "stdout",
     "output_type": "stream",
     "text": [
      "[12345]\n"
     ]
    }
   ],
   "source": [
    "numbers = list(map(int,input().split()))\n",
    "print(numbers)"
   ]
  },
  {
   "cell_type": "markdown",
   "id": "dc15970f-19fb-408d-9016-5c2462c025f4",
   "metadata": {},
   "source": [
    "## 5.2 zip "
   ]
  },
  {
   "cell_type": "code",
   "execution_count": 267,
   "id": "430020cb-6dd6-454d-9f54-13edd8625350",
   "metadata": {},
   "outputs": [],
   "source": [
    "a = [1,2,3] \n",
    "b = [100,200,300] "
   ]
  },
  {
   "cell_type": "code",
   "execution_count": 269,
   "id": "7fb8527c-e542-4570-91ea-7e100dcabc20",
   "metadata": {},
   "outputs": [
    {
     "name": "stdout",
     "output_type": "stream",
     "text": [
      "<zip object at 0x7fa19005b680>\n",
      "[(1, 100), (2, 200), (3, 300)]\n"
     ]
    }
   ],
   "source": [
    "result = zip(a,b) \n",
    "print(result)\n",
    "print(list(result))"
   ]
  },
  {
   "cell_type": "markdown",
   "id": "8eb7df68-6581-4b33-b562-76cbd2911039",
   "metadata": {},
   "source": [
    "## 5.3 filter\n",
    "```\n",
    "filter (function, iterable) \n",
    "```\n",
    "\n",
    "### filter 에 들어가는 function 은 T or F 로 답이 나와야 한다. (반환해야 한다)"
   ]
  },
  {
   "cell_type": "code",
   "execution_count": 274,
   "id": "448d3fb1-a884-4e9c-889e-6803967171e8",
   "metadata": {},
   "outputs": [],
   "source": [
    "def is_odd(x) :            # x를 받고, 홀수인가요? 묻는 함수 생성 \n",
    "    return bool(x % 2)     # 1이면 T , 0 이면 F \n",
    "\n",
    "# def is_odd(x) :          이것과 동일하다 \n",
    "#     if x % 2 == 1: \n",
    "#         return True \n",
    "#     else: \n",
    "#         return False "
   ]
  },
  {
   "cell_type": "code",
   "execution_count": 276,
   "id": "eb95dad0-f681-4fd8-ac07-21e3982b520b",
   "metadata": {},
   "outputs": [
    {
     "name": "stdout",
     "output_type": "stream",
     "text": [
      "<filter object at 0x7fa1900585e0>\n",
      "[1, 5, 1, 99]\n"
     ]
    }
   ],
   "source": [
    "numbers = [ 1, 2, 3, 4, 5] \n",
    "result = filter(is_odd,number)       \n",
    "print(result) \n",
    "print(list(result))"
   ]
  },
  {
   "cell_type": "code",
   "execution_count": null,
   "id": "fae7336d-87f8-46f4-b971-451b2df6800d",
   "metadata": {},
   "outputs": [],
   "source": []
  }
 ],
 "metadata": {
  "kernelspec": {
   "display_name": "Python 3 (ipykernel)",
   "language": "python",
   "name": "python3"
  },
  "language_info": {
   "codemirror_mode": {
    "name": "ipython",
    "version": 3
   },
   "file_extension": ".py",
   "mimetype": "text/x-python",
   "name": "python",
   "nbconvert_exporter": "python",
   "pygments_lexer": "ipython3",
   "version": "3.9.13"
  }
 },
 "nbformat": 4,
 "nbformat_minor": 5
}
