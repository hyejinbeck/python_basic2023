{
 "cells": [
  {
   "cell_type": "markdown",
   "id": "96fd8a2d-a9cc-45e6-b060-19b99ee51d88",
   "metadata": {},
   "source": [
    "# 03. 함수 function \n",
    "\n",
    "-  1. 함수 \n",
    "   - 1.1 함수의 선언과 호출 (def, return)\n",
    "   - 1.2 함수의 Return \n",
    "   - 1.3 함수의 인수\n",
    "      - 1.3.1 위치인수\n",
    "      - 1.3.2 기본값\n",
    "      - 1.3.3 키워드 인자\n",
    "      - 1.3.4 가변 인자 리스트\n",
    "      - 1.3.5 정의되지 않은 키워드 인자 처리\n",
    "      - 1.3.6 딕셔너리를 인자로(unpacking) \n",
    "      - 1.3.7 lambda 표현식 \n",
    "      - 1.3.8 타입 힌트 \n",
    "      - 1.3.9 이름공간 (scope) \n",
    "      - 1.3.10 재귀함수 (recursive) \n",
    "      - 1.3.11 피보나치 수열 "
   ]
  },
  {
   "cell_type": "code",
   "execution_count": 2,
   "id": "df5690b0-87ec-4c4e-b3af-aea3941ee940",
   "metadata": {},
   "outputs": [
    {
     "name": "stdout",
     "output_type": "stream",
     "text": [
      "직사각형의 둘레는 60, 면적은 200입니다.\n",
      "직사각형의 둘레는 260, 면적은 4000입니다.\n"
     ]
    }
   ],
   "source": [
    "# 직사각형의 둘레와 면적을 구하는 함수를 작성하라 \n",
    "\n",
    "height = 10\n",
    "width = 20\n",
    "\n",
    "height2 = 50\n",
    "width2 = 80\n",
    "\n",
    "# 직사각형의 둘레는 ***, 면적은 *** 입니다.\n",
    "\n",
    "area = height * width\n",
    "perimeter = (height + width) * 2\n",
    "print(f'직사각형의 둘레는 {perimeter}, 면적은 {area}입니다.')\n",
    "\n",
    "area = height2 * width2\n",
    "perimeter = (height2 + width2) * 2\n",
    "print(f'직사각형의 둘레는 {perimeter}, 면적은 {area}입니다.')"
   ]
  },
  {
   "cell_type": "markdown",
   "id": "46dbbea1-2542-4cfe-b023-b89548e35d32",
   "metadata": {},
   "source": [
    "## 1.1 함수의 선언과 호출"
   ]
  },
  {
   "cell_type": "markdown",
   "id": "cf3f6437-6673-454b-8e66-f1ad027caa80",
   "metadata": {},
   "source": [
    "### 함수의 선언\n",
    "```\n",
    "def func_name (parameter1, parameter2...): \n",
    "    code1\n",
    "    code2 \n",
    "    ... \n",
    "    return value\n",
    "```\n",
    "### 함수의 호출(실행) \n",
    "func_name(parameter1, parameter2) "
   ]
  },
  {
   "cell_type": "code",
   "execution_count": 5,
   "id": "84e19a3c-8ada-4414-855a-e111d6140b5e",
   "metadata": {},
   "outputs": [
    {
     "name": "stdout",
     "output_type": "stream",
     "text": [
      "직사각형의 둘레는 160,면적은1500입니다.\n"
     ]
    }
   ],
   "source": [
    "def rectangle(height, width): \n",
    "    # height= 30 높이\n",
    "    # width = 50 너비 \n",
    "    area = height * width \n",
    "    perimeter = (height + width) * 2 \n",
    "    print(f'직사각형의 둘레는 {perimeter},면적은{area}입니다.') \n",
    "    \n",
    "rectangle(30,50)"
   ]
  },
  {
   "cell_type": "code",
   "execution_count": 7,
   "id": "5cc59f22-bedd-45f8-9c88-b24f91e7bec6",
   "metadata": {},
   "outputs": [
    {
     "data": {
      "text/plain": [
       "['ArithmeticError',\n",
       " 'AssertionError',\n",
       " 'AttributeError',\n",
       " 'BaseException',\n",
       " 'BlockingIOError',\n",
       " 'BrokenPipeError',\n",
       " 'BufferError',\n",
       " 'BytesWarning',\n",
       " 'ChildProcessError',\n",
       " 'ConnectionAbortedError',\n",
       " 'ConnectionError',\n",
       " 'ConnectionRefusedError',\n",
       " 'ConnectionResetError',\n",
       " 'DeprecationWarning',\n",
       " 'EOFError',\n",
       " 'Ellipsis',\n",
       " 'EnvironmentError',\n",
       " 'Exception',\n",
       " 'False',\n",
       " 'FileExistsError',\n",
       " 'FileNotFoundError',\n",
       " 'FloatingPointError',\n",
       " 'FutureWarning',\n",
       " 'GeneratorExit',\n",
       " 'IOError',\n",
       " 'ImportError',\n",
       " 'ImportWarning',\n",
       " 'IndentationError',\n",
       " 'IndexError',\n",
       " 'InterruptedError',\n",
       " 'IsADirectoryError',\n",
       " 'KeyError',\n",
       " 'KeyboardInterrupt',\n",
       " 'LookupError',\n",
       " 'MemoryError',\n",
       " 'ModuleNotFoundError',\n",
       " 'NameError',\n",
       " 'None',\n",
       " 'NotADirectoryError',\n",
       " 'NotImplemented',\n",
       " 'NotImplementedError',\n",
       " 'OSError',\n",
       " 'OverflowError',\n",
       " 'PendingDeprecationWarning',\n",
       " 'PermissionError',\n",
       " 'ProcessLookupError',\n",
       " 'RecursionError',\n",
       " 'ReferenceError',\n",
       " 'ResourceWarning',\n",
       " 'RuntimeError',\n",
       " 'RuntimeWarning',\n",
       " 'StopAsyncIteration',\n",
       " 'StopIteration',\n",
       " 'SyntaxError',\n",
       " 'SyntaxWarning',\n",
       " 'SystemError',\n",
       " 'SystemExit',\n",
       " 'TabError',\n",
       " 'TimeoutError',\n",
       " 'True',\n",
       " 'TypeError',\n",
       " 'UnboundLocalError',\n",
       " 'UnicodeDecodeError',\n",
       " 'UnicodeEncodeError',\n",
       " 'UnicodeError',\n",
       " 'UnicodeTranslateError',\n",
       " 'UnicodeWarning',\n",
       " 'UserWarning',\n",
       " 'ValueError',\n",
       " 'Warning',\n",
       " 'ZeroDivisionError',\n",
       " '__IPYTHON__',\n",
       " '__build_class__',\n",
       " '__debug__',\n",
       " '__doc__',\n",
       " '__import__',\n",
       " '__loader__',\n",
       " '__name__',\n",
       " '__package__',\n",
       " '__spec__',\n",
       " 'abs',\n",
       " 'all',\n",
       " 'any',\n",
       " 'ascii',\n",
       " 'bin',\n",
       " 'bool',\n",
       " 'breakpoint',\n",
       " 'bytearray',\n",
       " 'bytes',\n",
       " 'callable',\n",
       " 'chr',\n",
       " 'classmethod',\n",
       " 'compile',\n",
       " 'complex',\n",
       " 'copyright',\n",
       " 'credits',\n",
       " 'delattr',\n",
       " 'dict',\n",
       " 'dir',\n",
       " 'display',\n",
       " 'divmod',\n",
       " 'enumerate',\n",
       " 'eval',\n",
       " 'exec',\n",
       " 'execfile',\n",
       " 'filter',\n",
       " 'float',\n",
       " 'format',\n",
       " 'frozenset',\n",
       " 'get_ipython',\n",
       " 'getattr',\n",
       " 'globals',\n",
       " 'hasattr',\n",
       " 'hash',\n",
       " 'help',\n",
       " 'hex',\n",
       " 'id',\n",
       " 'input',\n",
       " 'int',\n",
       " 'isinstance',\n",
       " 'issubclass',\n",
       " 'iter',\n",
       " 'len',\n",
       " 'license',\n",
       " 'list',\n",
       " 'locals',\n",
       " 'map',\n",
       " 'max',\n",
       " 'memoryview',\n",
       " 'min',\n",
       " 'next',\n",
       " 'object',\n",
       " 'oct',\n",
       " 'open',\n",
       " 'ord',\n",
       " 'pow',\n",
       " 'print',\n",
       " 'property',\n",
       " 'range',\n",
       " 'repr',\n",
       " 'reversed',\n",
       " 'round',\n",
       " 'runfile',\n",
       " 'set',\n",
       " 'setattr',\n",
       " 'slice',\n",
       " 'sorted',\n",
       " 'staticmethod',\n",
       " 'str',\n",
       " 'sum',\n",
       " 'super',\n",
       " 'tuple',\n",
       " 'type',\n",
       " 'vars',\n",
       " 'zip']"
      ]
     },
     "execution_count": 7,
     "metadata": {},
     "output_type": "execute_result"
    }
   ],
   "source": [
    "dir(__builtins__)     #내장함수"
   ]
  },
  {
   "cell_type": "code",
   "execution_count": 8,
   "id": "defd8d65-9e3e-4eba-af59-dd654157e5d1",
   "metadata": {},
   "outputs": [
    {
     "data": {
      "text/plain": [
       "5"
      ]
     },
     "execution_count": 8,
     "metadata": {},
     "output_type": "execute_result"
    }
   ],
   "source": [
    "max(1,5)      #가장 큰 값을 구하는 함수"
   ]
  },
  {
   "cell_type": "code",
   "execution_count": 15,
   "id": "d57bb516-a58a-418d-8bb0-c1e832a1826c",
   "metadata": {},
   "outputs": [
    {
     "name": "stdout",
     "output_type": "stream",
     "text": [
      "10이 더 큽니다.\n",
      "None\n"
     ]
    }
   ],
   "source": [
    "# 두 개의 정수를 받아, 큰 수를 출력하는 내장함수를 구하라 \n",
    "\n",
    "def my_max(num1,num2):                \n",
    "    if num1 > num2:                \n",
    "        print(f'{num1}이 더 큽니다.') \n",
    "    elif num1 < num2: \n",
    "        print(f'{num2}이 더 큽니다.') \n",
    "    else: \n",
    "        print(f'{num1}과 {num2}는 같습니다.') \n",
    "\n",
    "print(my_max(9,10))   # 반환문 Return 없기 때문에 None이 추가된다. \n",
    "                        "
   ]
  },
  {
   "cell_type": "code",
   "execution_count": 14,
   "id": "d99037fc-80c8-46bd-b7c4-cd246042c596",
   "metadata": {},
   "outputs": [
    {
     "name": "stdout",
     "output_type": "stream",
     "text": [
      "10이 더 큽니다.\n",
      "None\n"
     ]
    }
   ],
   "source": [
    "result=my_max(9,10)   # result변수에 저장해서 출력해도 된다. \n",
    "print(result)"
   ]
  },
  {
   "cell_type": "markdown",
   "id": "9384fe70-52a2-4af4-9286-650299a6ef05",
   "metadata": {},
   "source": [
    "## 1.2 함수의 return \n",
    "\n",
    "- 함수가 return 을 만나면 해당 값을 반환하고 함수를 종료한다. \n",
    "- 만약 return 이 없다면, None을 자동으로 출력(반환) 한다. \n",
    "- return 은 오직 하나의 객체만 반환한다. "
   ]
  },
  {
   "cell_type": "code",
   "execution_count": 25,
   "id": "ff735d01-e4b9-413a-857c-25ff76ee4a40",
   "metadata": {},
   "outputs": [
    {
     "name": "stdout",
     "output_type": "stream",
     "text": [
      "10가 더 큽니다.\n"
     ]
    }
   ],
   "source": [
    "# 다시 위의 코드에서 return 을 추가해보자. \n",
    "# return (반환문) 작성하기 위해선 print(문장) 대신 결과(변수)를 기재해야한다. \n",
    "\n",
    "def my_max2(num3,num4): \n",
    "    if num3 > num4: \n",
    "        return num3\n",
    "    elif num3 < num4: \n",
    "        return num4 \n",
    "    else: \n",
    "        return 0 \n",
    "    \n",
    "result2 = my_max2(3,10)              # 새 변수값에 만들어진 함수 저장 \n",
    "print(f'{result2}가 더 큽니다.')        # 해당 변수를 이용한 f-string "
   ]
  },
  {
   "cell_type": "code",
   "execution_count": 27,
   "id": "3c89bd81-80e0-49d9-ba52-12fe9a655724",
   "metadata": {},
   "outputs": [
    {
     "data": {
      "text/plain": [
       "[11, 12]"
      ]
     },
     "execution_count": 27,
     "metadata": {},
     "output_type": "execute_result"
    }
   ],
   "source": [
    "def my_list_max(list_a, list_b):\n",
    "    if sum(list_a) > sum(list_b):\n",
    "        return list_a\n",
    "    else:\n",
    "        return list_b\n",
    "\n",
    "\n",
    "my_list_max([10, 11], [11, 12])"
   ]
  },
  {
   "cell_type": "markdown",
   "id": "d4926583-5dc1-4acc-bd42-32f99d40dbb2",
   "metadata": {},
   "source": [
    "## 1.3 함수의 인수"
   ]
  },
  {
   "cell_type": "markdown",
   "id": "cf3ee887-56d2-4268-b7b4-0856f76632ca",
   "metadata": {},
   "source": [
    "## 1.3.1 위치 인수 \n",
    "\n",
    "기본적으로 함수는 `위치의 인수`로 판단합니다."
   ]
  },
  {
   "cell_type": "code",
   "execution_count": 28,
   "id": "aaaa1736-819e-431d-94ac-826d990a37ad",
   "metadata": {},
   "outputs": [
    {
     "name": "stdout",
     "output_type": "stream",
     "text": [
      "1570.0\n",
      "785.0\n"
     ]
    }
   ],
   "source": [
    "def cylinder(r, h):\n",
    "    return 3.14 * r**2 * h\n",
    "\n",
    "print(cylinder(10, 5))\n",
    "print(cylinder(5, 10))"
   ]
  },
  {
   "cell_type": "markdown",
   "id": "4b767ac4-6c9c-4850-9863-1c16c6bfc8a0",
   "metadata": {},
   "source": [
    "## 1.3.2 기본값 \n",
    "```\n",
    "def func(p1=v1): \n",
    "   return v1 \n",
    "```"
   ]
  },
  {
   "cell_type": "code",
   "execution_count": 29,
   "id": "9459a901-a7d5-47ef-af29-ecb62cb676bf",
   "metadata": {},
   "outputs": [
    {
     "name": "stdout",
     "output_type": "stream",
     "text": [
      "혜진님 안녕하세요.\n",
      "익명님 안녕하세요.\n"
     ]
    }
   ],
   "source": [
    "def say_hi(name='익명'): \n",
    "    return f'{name}님 안녕하세요.' \n",
    "\n",
    "print(say_hi('혜진')) \n",
    "print(say_hi())"
   ]
  },
  {
   "cell_type": "code",
   "execution_count": 30,
   "id": "0c7b2c39-180b-4047-877f-fd3bc9e6e315",
   "metadata": {},
   "outputs": [
    {
     "name": "stdout",
     "output_type": "stream",
     "text": [
      "29살인 혜진님 안녕하세요.\n",
      "31살인 익명님 안녕하세요.\n"
     ]
    }
   ],
   "source": [
    "def say_hi_age(age,name='익명'): \n",
    "    return f'{age}살인 {name}님 안녕하세요.'\n",
    "\n",
    "print(say_hi_age(29,'혜진')) \n",
    "print(say_hi_age(31))"
   ]
  },
  {
   "cell_type": "markdown",
   "id": "4e03558d-f626-42da-8364-003f49438248",
   "metadata": {},
   "source": [
    "## 1.3.3 키워드 인자 \n",
    "\n",
    "함수를 호출(실행)할 때, 내가 원하는 위치에 직접적으로 특정인자를 전달 가능"
   ]
  },
  {
   "cell_type": "code",
   "execution_count": 38,
   "id": "b919f23a-9878-4d76-9ad8-5867f9c26251",
   "metadata": {},
   "outputs": [
    {
     "name": "stdout",
     "output_type": "stream",
     "text": [
      "29살인 혜진님 안녕하세요.\n",
      "99살인 백혜진님 안녕하세요.\n"
     ]
    }
   ],
   "source": [
    "def say_hi_age(age,name='익명'): \n",
    "    return f'{age}살인 {name}님 안녕하세요.'\n",
    "\n",
    "print(say_hi_age(29,'혜진'))     # 여기까진 똑같다\n",
    "\n",
    "print(say_hi_age(name='백혜진',age=99)) "
   ]
  },
  {
   "cell_type": "markdown",
   "id": "8a5ef0d4-69fa-43c4-b896-0f44ff3a87e4",
   "metadata": {},
   "source": [
    "## 1.3.4 가변 인자 리스트\n",
    "```\n",
    "def func(*params): \n",
    "   pass                \n",
    "```"
   ]
  },
  {
   "cell_type": "code",
   "execution_count": 42,
   "id": "cd36927c-30d6-41b9-8b32-5f47e62db86d",
   "metadata": {},
   "outputs": [
    {
     "name": "stdout",
     "output_type": "stream",
     "text": [
      "딱 하나의 단어만 가능합니다\n"
     ]
    }
   ],
   "source": [
    "def my_print(words):  \n",
    "    print(words) \n",
    "\n",
    "my_print('딱 하나의 단어만 가능합니다')"
   ]
  },
  {
   "cell_type": "code",
   "execution_count": 44,
   "id": "a9ce55fb-6e7f-4620-8d6d-460af913f61c",
   "metadata": {},
   "outputs": [
    {
     "name": "stdout",
     "output_type": "stream",
     "text": [
      "한단어 두단어\n"
     ]
    }
   ],
   "source": [
    "def my_print(words,words2):  \n",
    "    print(words,words2) \n",
    "\n",
    "my_print('한단어','두단어')"
   ]
  },
  {
   "cell_type": "code",
   "execution_count": 54,
   "id": "a7c038d2-4700-4454-b271-51ceffc82df0",
   "metadata": {},
   "outputs": [
    {
     "name": "stdout",
     "output_type": "stream",
     "text": [
      "('단어를', '이렇게 막', '계속', '추가', '가능합니다')\n",
      "<class 'tuple'>\n"
     ]
    }
   ],
   "source": [
    "def my_print(*words):         # *를 붙힘으로써, \n",
    "                            # 갯수가 정해지지 않아 막 넣어도 됨 \n",
    "    \n",
    "    print(words)\n",
    "    print(type(words))          # 대신 튜플 () 형식으로 나옴 \n",
    "\n",
    "my_print('단어를','이렇게 막','계속','추가','가능합니다')"
   ]
  },
  {
   "cell_type": "code",
   "execution_count": 65,
   "id": "9bb24d9f-8d2c-40a1-9366-6713b260aef7",
   "metadata": {},
   "outputs": [
    {
     "name": "stdout",
     "output_type": "stream",
     "text": [
      "99\n"
     ]
    }
   ],
   "source": [
    "# * (가변인자리스트) 를 이용하여 \n",
    "# 여러개의 숫자들을 입력받아, 가장 큰 값을 출력하는 코드를 입력하라\n",
    "\n",
    "def my_max(*numbers):     # 가장 큰 값 찾는 함수 만들기  \n",
    "    result = numbers[0]    # 가장 큰 값을 담는 변수 만들기 -> 나중에 출력 \n",
    "    \n",
    "    for number in numbers: # numbers가 뭐가될진 모르겠지만 그 값 하나하나\n",
    "        if result < number: # 그 값 하나하나가 result변수값 보단 크다면 \n",
    "            result = number  # 그게 result 값이 되는거다. \n",
    "            \n",
    "    return result \n",
    "\n",
    "print(my_max(1,4,99,6))"
   ]
  },
  {
   "cell_type": "code",
   "execution_count": 68,
   "id": "d1cdcf1c-c9d6-4d2b-ad14-724d81abb160",
   "metadata": {},
   "outputs": [
    {
     "name": "stdout",
     "output_type": "stream",
     "text": [
      "-4\n"
     ]
    }
   ],
   "source": [
    "# * (가변인자리스트) 를 이용하여 \n",
    "# 여러개의 숫자들을 입력받아, 가장 작은 값을 출력하는 코드를 입력하라\n",
    "\n",
    "def my_max(*numbers):     # 함수 \n",
    "    result = numbers[0]    # 변수 (출력 할 값) \n",
    "    \n",
    "    for number in numbers: # numbers 안의 숫자 하나하나 \n",
    "        if result > number: # result보다는 작다면 \n",
    "            result = number  # 그게 result 값이 되는거다. \n",
    "            \n",
    "    return result \n",
    "\n",
    "print(my_max(1,-4,99,6))"
   ]
  },
  {
   "cell_type": "markdown",
   "id": "f255561e-cda5-4aae-9caf-4cdeff770357",
   "metadata": {},
   "source": [
    "## 1.3.5 정의되지 않은 키워드 인자 처리\n",
    "\n",
    "```\n",
    "def func( **kwargs): \n",
    "    pass \n",
    "```"
   ]
  },
  {
   "cell_type": "code",
   "execution_count": 69,
   "id": "ca0b1303-5fab-4504-9e1c-42d41fbf85df",
   "metadata": {},
   "outputs": [
    {
     "name": "stdout",
     "output_type": "stream",
     "text": [
      "{'name': 'hong', 'age': 20}\n"
     ]
    }
   ],
   "source": [
    "info = {\n",
    "    'name': 'hong',       # 딕셔너리\n",
    "    'age': 20,\n",
    "}\n",
    "\n",
    "print(info)"
   ]
  },
  {
   "cell_type": "code",
   "execution_count": 74,
   "id": "4f3391db-3cb8-4009-a114-e70c72208446",
   "metadata": {},
   "outputs": [
    {
     "name": "stdout",
     "output_type": "stream",
     "text": [
      "{'name': 'hong', 'age': 20, 'location': 'anyang'}\n"
     ]
    }
   ],
   "source": [
    "info = dict(name='hong', age=20, location='anyang')\n",
    "print(info)               # 딕셔너리 형태에 key: value 추가하기 "
   ]
  },
  {
   "cell_type": "code",
   "execution_count": 75,
   "id": "491e63c4-06b0-4880-8c3f-1c28579be59a",
   "metadata": {},
   "outputs": [
    {
     "name": "stdout",
     "output_type": "stream",
     "text": [
      "korean는 안녕입니다.\n",
      "english는 hello입니다.\n"
     ]
    }
   ],
   "source": [
    "def fake_dict(**kwargs):\n",
    "    for key, value in kwargs.items():\n",
    "        print(f'{key}는 {value}입니다.')\n",
    "\n",
    "fake_dict(korean='안녕', english='hello')"
   ]
  },
  {
   "cell_type": "code",
   "execution_count": 80,
   "id": "dce61e1b-f2bf-4c2a-99dd-e6302507a483",
   "metadata": {},
   "outputs": [
    {
     "name": "stdout",
     "output_type": "stream",
     "text": [
      "my_dad는 백양건입니다.\n",
      "my_mom는 박순옥입니다.\n",
      "my_dog는 뽀롱이입니다.\n",
      "neighbor는 다른 가족입니다.\n"
     ]
    }
   ],
   "source": [
    "def my_family(** becks):                #key,value 2개 등록 키워드\n",
    "    for key,value in becks.items():     #변수.items 는 key,value가져옴\n",
    "        print(f'{key}는 {value}입니다.') \n",
    "        \n",
    "my_family(my_dad='백양건',my_mom='박순옥',my_dog='뽀롱이',neighbor='다른 가족')"
   ]
  },
  {
   "cell_type": "markdown",
   "id": "47d32619-ab8b-478a-927f-18cd1b11ac84",
   "metadata": {},
   "source": [
    "## 1.3.6 딕셔너리를 인자로 넣기 (unpacking) "
   ]
  },
  {
   "cell_type": "code",
   "execution_count": 84,
   "id": "b75e0dc9-0f0c-4012-9e88-ff81019f17a2",
   "metadata": {},
   "outputs": [
    {
     "name": "stdout",
     "output_type": "stream",
     "text": [
      "becky님 비밀번호가 일치하지 않습니다.\n"
     ]
    }
   ],
   "source": [
    "# 유저네임,비밀번호,비밀번호확인 이 3가지를 입력받아 \n",
    "# 회원가입하는 함수를 만들어보자 \n",
    "# [출력] username님 회원가입이 완료되었습니다.\n",
    "\n",
    "def sign_up(username,password,password_confirmation):\n",
    "    if password == password_confirmation: \n",
    "        print(f'{username}님 회원가입이 완료되었습니다.') \n",
    "    else: \n",
    "        print(f'{username}님 비밀번호가 일치하지 않습니다.')\n",
    "\n",
    "sign_up ('becky','1234e','1234ee')"
   ]
  },
  {
   "cell_type": "code",
   "execution_count": 86,
   "id": "bf2dff72-b112-4495-9e21-d0c00afa3e56",
   "metadata": {},
   "outputs": [
    {
     "name": "stdout",
     "output_type": "stream",
     "text": [
      "becky님 회원가입이 완료되었습니다.\n"
     ]
    }
   ],
   "source": [
    "sign_up ('becky', '1234','1234')"
   ]
  },
  {
   "cell_type": "code",
   "execution_count": 90,
   "id": "6dff76e2-818a-46b6-a302-e7c5507f6fdb",
   "metadata": {},
   "outputs": [
    {
     "name": "stdout",
     "output_type": "stream",
     "text": [
      "becky님 회원가입이 완료되었습니다.\n"
     ]
    }
   ],
   "source": [
    "# 이전 ** 키워드를 이용하여 동일한 내용을 \n",
    "# my_account 에 저장해보자. \n",
    "\n",
    "# sign_up(**my_account) \n",
    "\n",
    "my_account = {\n",
    "    'username': 'becky',\n",
    "    'password': '1234', \n",
    "    'password_confirmation': '1234',\n",
    "    \n",
    "}\n",
    "\n",
    "sign_up(**my_account)"
   ]
  },
  {
   "cell_type": "markdown",
   "id": "450276c6-f8ee-4129-ae54-7e9c20729ca3",
   "metadata": {},
   "source": [
    "## 1.3.7 lambda 표현식 \n",
    "\n",
    "`lambda` parameter: expression \n",
    "\n",
    "lambda 인자들: 표현식 \n",
    "\n",
    "- 간단하고 이름이 없는 함수를 만드는 방법 \n",
    "- 함수를 정의하는 방법은 def 를 이용하지만 \n",
    "- lambda 를 이용해서 간결하게 표현할 수 있다. \n"
   ]
  },
  {
   "cell_type": "code",
   "execution_count": 91,
   "id": "cb3b5254-9b34-4920-b774-ab71133278b2",
   "metadata": {},
   "outputs": [
    {
     "data": {
      "text/plain": [
       "6"
      ]
     },
     "execution_count": 91,
     "metadata": {},
     "output_type": "execute_result"
    }
   ],
   "source": [
    "(lambda a,b : a+b) (2,4)"
   ]
  },
  {
   "cell_type": "code",
   "execution_count": 97,
   "id": "5cd14d64-0d38-4e1e-8c5f-ae1fe1675289",
   "metadata": {},
   "outputs": [
    {
     "data": {
      "text/plain": [
       "6"
      ]
     },
     "execution_count": 97,
     "metadata": {},
     "output_type": "execute_result"
    }
   ],
   "source": [
    "def my_sum(a,b): \n",
    "    return a + b \n",
    "\n",
    "my_sum(2,4)"
   ]
  },
  {
   "cell_type": "markdown",
   "id": "858d2494-65c5-4bfa-99fe-d4ef1ae52f00",
   "metadata": {},
   "source": [
    "#### 위와 같이 def 를 통한 표현식 보다, \n",
    "#### lambda 를 이용해서 더 간단하게 표현할 수 있다. "
   ]
  },
  {
   "cell_type": "markdown",
   "id": "1f772c66-72f7-457f-be3e-864d5007e7e9",
   "metadata": {},
   "source": [
    "## 1.3.8 타입 힌트 "
   ]
  },
  {
   "cell_type": "markdown",
   "id": "d5be59d0-c06a-4377-8031-9e98b2f2a6c6",
   "metadata": {},
   "source": [
    "def add(x  `:int`  , y  `:int` ) `-> int` :\n",
    "\n",
    "    return x + y \n",
    "    \n",
    "- 주석처럼 각각의 변수에 추가 설명을 적는것 \n",
    "- 프로그램 동작에 직접적 영향을 주지 않음(단순 설명 기재) "
   ]
  },
  {
   "cell_type": "code",
   "execution_count": 99,
   "id": "f097ccf8-1a79-4bac-8a88-796fc695a877",
   "metadata": {},
   "outputs": [
    {
     "data": {
      "text/plain": [
       "30"
      ]
     },
     "execution_count": 99,
     "metadata": {},
     "output_type": "execute_result"
    }
   ],
   "source": [
    "def my_age(this_year:int,birth_year:int)-> int: \n",
    "    ''' \n",
    "    현재 년도에 태어난 년도를 이용하여 \n",
    "    현재 나이를 구하는 함수입니다. \n",
    "    생일이 지났을 때의 기준 나이입니다. \n",
    "    '''\n",
    "    return this_year - birth_year\n",
    "my_age(2023,1993)\n",
    "    "
   ]
  },
  {
   "cell_type": "code",
   "execution_count": 101,
   "id": "22a2fdf4-9720-4cc1-b4e0-154c7e6ef0b7",
   "metadata": {},
   "outputs": [
    {
     "ename": "NameError",
     "evalue": "name 'this_year' is not defined",
     "output_type": "error",
     "traceback": [
      "\u001b[0;31m---------------------------------------------------------------------------\u001b[0m",
      "\u001b[0;31mNameError\u001b[0m                                 Traceback (most recent call last)",
      "\u001b[0;32m/var/folders/ld/lw14806d1tnctxswkwdvry_80000gn/T/ipykernel_1076/18772937.py\u001b[0m in \u001b[0;36m<module>\u001b[0;34m\u001b[0m\n\u001b[1;32m      1\u001b[0m \u001b[0;32mdef\u001b[0m \u001b[0mmy_age\u001b[0m\u001b[0;34m(\u001b[0m\u001b[0mthis_year\u001b[0m\u001b[0;34m:\u001b[0m\u001b[0mint\u001b[0m\u001b[0;34m,\u001b[0m\u001b[0mbirth_year\u001b[0m\u001b[0;34m:\u001b[0m\u001b[0mint\u001b[0m\u001b[0;34m)\u001b[0m\u001b[0;34m->\u001b[0m \u001b[0mint\u001b[0m\u001b[0;34m:\u001b[0m\u001b[0;34m\u001b[0m\u001b[0;34m\u001b[0m\u001b[0m\n\u001b[1;32m      2\u001b[0m     \u001b[0;32mreturn\u001b[0m \u001b[0mthis_year\u001b[0m \u001b[0;34m-\u001b[0m \u001b[0mbirth_year\u001b[0m\u001b[0;34m\u001b[0m\u001b[0;34m\u001b[0m\u001b[0m\n\u001b[0;32m----> 3\u001b[0;31m \u001b[0mprint\u001b[0m\u001b[0;34m(\u001b[0m\u001b[0;34mf'올해 {this_year}기준, {birth_year}년생은 {my_age}살입니다.'\u001b[0m\u001b[0;34m)\u001b[0m\u001b[0;34m\u001b[0m\u001b[0;34m\u001b[0m\u001b[0m\n\u001b[0m\u001b[1;32m      4\u001b[0m \u001b[0;34m\u001b[0m\u001b[0m\n\u001b[1;32m      5\u001b[0m \u001b[0;31m# NameError\u001b[0m\u001b[0;34m\u001b[0m\u001b[0;34m\u001b[0m\u001b[0m\n",
      "\u001b[0;31mNameError\u001b[0m: name 'this_year' is not defined"
     ]
    }
   ],
   "source": [
    "def my_age(this_year:int,birth_year:int)-> int: \n",
    "    return this_year - birth_year\n",
    "print(f'올해 {this_year}기준, {birth_year}년생은 {my_age}살입니다.')\n",
    "\n",
    "# NameError \n",
    "# my_age 는 함수를 입력했을 뿐, 변수가 아니기 때문에 f-string에서\n",
    "# my_age가 없다."
   ]
  },
  {
   "cell_type": "code",
   "execution_count": 115,
   "id": "128f22c7-112f-4f65-bb5d-5b2d2e8ed309",
   "metadata": {},
   "outputs": [
    {
     "name": "stdout",
     "output_type": "stream",
     "text": [
      "올해 2023기준, 1993년생은 30살입니다.\n"
     ]
    },
    {
     "data": {
      "text/plain": [
       "30"
      ]
     },
     "execution_count": 115,
     "metadata": {},
     "output_type": "execute_result"
    }
   ],
   "source": [
    "def my_age(this_year:int,birth_year:int)-> int: \n",
    "    \n",
    "    age = this_year - birth_year\n",
    "    print (f'올해 {this_year}기준, {birth_year}년생은 {age}살입니다.')\n",
    "    return age \n",
    "\n",
    "my_age(2023,1993)      # 문장 구조 파악 중요 \n",
    "                       # def 변수(인자1,인자2) :   -> 함수 생성 \n",
    "                         \n",
    "                       # 새변수 = 인자와 인자 조건   -> 변수 생성 \n",
    "             \n",
    "                       # return 새변수           -> 변수로 함수종료\n",
    "                    \n",
    "                    # 변수                      -> 함수 출력 "
   ]
  },
  {
   "cell_type": "code",
   "execution_count": 119,
   "id": "13493a3b-e1df-45f5-9f58-d21cdcd687e0",
   "metadata": {},
   "outputs": [
    {
     "name": "stdout",
     "output_type": "stream",
     "text": [
      "올해 2023기준, 1993년생은 30살입니다.\n"
     ]
    }
   ],
   "source": [
    "def my_age(this_year: int, birth_year: int) -> int:\n",
    "    age = this_year - birth_year\n",
    "    print(f'올해 {this_year}기준, {birth_year}년생은 {age}살입니다.')\n",
    "\n",
    "# 함수 호출하여 문장 출력\n",
    "my_age(2023, 1993)       # return age 없으면, age값(30) 이 안나옴"
   ]
  },
  {
   "cell_type": "markdown",
   "id": "bc4f782a-8a69-4153-87d7-af1b9f0fba4d",
   "metadata": {},
   "source": [
    "## 1.3.9 이름공간 (scope) "
   ]
  },
  {
   "cell_type": "markdown",
   "id": "a5ccbfb6-8440-48f9-b1d3-5ff3dddc5d0c",
   "metadata": {},
   "source": [
    "파이썬에서 사용되는 이름들은 이름공간(namespace)에 저장되어있습니다. \n",
    "\n",
    "- Local scope : 정의된 함수 내부\n",
    "- Enclosed scope : 상위 함수\n",
    "- Global scope : 함수 밖의 변수 혹은 import된 모듈\n",
    "- Built-in scope : 파이썬이 기본적으로 가지고 있는 함수 혹은 변수"
   ]
  },
  {
   "cell_type": "code",
   "execution_count": 120,
   "id": "b2bfe8b5-8a48-4b05-81df-10b826b81c3a",
   "metadata": {},
   "outputs": [
    {
     "name": "stdout",
     "output_type": "stream",
     "text": [
      "123\n"
     ]
    }
   ],
   "source": [
    "str = '123'      # str는 문장형으로 바꾸어주는 함수인데 \n",
    "print(str)       # 지금처럼 변수값으로 사용 한다면, "
   ]
  },
  {
   "cell_type": "code",
   "execution_count": 121,
   "id": "dab23cd9-c54e-49e8-9bcc-f53d02685e8d",
   "metadata": {},
   "outputs": [
    {
     "ename": "TypeError",
     "evalue": "'str' object is not callable",
     "output_type": "error",
     "traceback": [
      "\u001b[0;31m---------------------------------------------------------------------------\u001b[0m",
      "\u001b[0;31mTypeError\u001b[0m                                 Traceback (most recent call last)",
      "\u001b[0;32m/var/folders/ld/lw14806d1tnctxswkwdvry_80000gn/T/ipykernel_1076/2959971506.py\u001b[0m in \u001b[0;36m<module>\u001b[0;34m\u001b[0m\n\u001b[0;32m----> 1\u001b[0;31m \u001b[0mstr\u001b[0m\u001b[0;34m(\u001b[0m\u001b[0;36m99\u001b[0m\u001b[0;34m)\u001b[0m          \u001b[0;31m# 기존의 문장형으로 바꾸어주는 기능을 잃는다.\u001b[0m\u001b[0;34m\u001b[0m\u001b[0;34m\u001b[0m\u001b[0m\n\u001b[0m",
      "\u001b[0;31mTypeError\u001b[0m: 'str' object is not callable"
     ]
    }
   ],
   "source": [
    "str(99)          # 기존의 문장형으로 바꾸어주는 기능을 잃는다."
   ]
  },
  {
   "cell_type": "code",
   "execution_count": 126,
   "id": "a79c82f7-d80b-497b-a40a-c6f648402c19",
   "metadata": {},
   "outputs": [],
   "source": [
    "del str           # 변수값으로 사용한 기능 제거\n",
    "                  # 딱 한 번만 사용되며, \n",
    "                  # delf str 누르고 두 번 실행 버튼 누르면 \n",
    "                  # 이미 한 번 실행되었기 때문에 error 가 나온다. "
   ]
  },
  {
   "cell_type": "code",
   "execution_count": 127,
   "id": "83348119-80eb-414a-80a7-577cb3f00242",
   "metadata": {},
   "outputs": [
    {
     "data": {
      "text/plain": [
       "'99'"
      ]
     },
     "execution_count": 127,
     "metadata": {},
     "output_type": "execute_result"
    }
   ],
   "source": [
    "str(99)           # del 통해 기능 제거했기 때문에\n",
    "                  # 정상적으로 숫자->문자로 바꾸는 기능을 한다. "
   ]
  },
  {
   "cell_type": "code",
   "execution_count": 131,
   "id": "9b149230-37e0-49be-a71b-a0e8f3e9fb64",
   "metadata": {},
   "outputs": [
    {
     "name": "stdout",
     "output_type": "stream",
     "text": [
      "5\n"
     ]
    }
   ],
   "source": [
    "a = 1                 \n",
    "def localscope(a):    # a의 값을 바꿀 수 있는 함수 \n",
    "    # a = 5\n",
    "    print(a)          # a의 값을 출력해줘 \n",
    "\n",
    "localscope(5)         # 5로 바꿀거야"
   ]
  },
  {
   "cell_type": "code",
   "execution_count": 134,
   "id": "35158a16-1185-47a4-8090-e152908a3439",
   "metadata": {},
   "outputs": [
    {
     "name": "stdout",
     "output_type": "stream",
     "text": [
      "이렇게도 바꿀수있어\n"
     ]
    }
   ],
   "source": [
    "a = 1                  \n",
    "def localscope(a):    \n",
    "    print(a)\n",
    "    \n",
    "localscope('이렇게도 바꿀수있어')  # 문장열로도 바꾸어 넣을 수 있어"
   ]
  },
  {
   "cell_type": "markdown",
   "id": "85a5a74d-9700-45f5-9bd0-77549dd64135",
   "metadata": {},
   "source": [
    "## 1.3.10 재귀함수 (recursive)\n",
    "\n",
    "재귀 함수는 함수 내부에서 자기자신을 호출하는 함수"
   ]
  },
  {
   "cell_type": "code",
   "execution_count": 137,
   "id": "f39df5e3-32ea-4217-8306-f51dfa66934b",
   "metadata": {},
   "outputs": [
    {
     "data": {
      "text/plain": [
       "120"
      ]
     },
     "execution_count": 137,
     "metadata": {},
     "output_type": "execute_result"
    }
   ],
   "source": [
    "# 팩토리얼 (1 * 2 * ... * n = n!)\n",
    "# fact(5) = 5 * 4 * 3 * 2 * 1 = 120 \n",
    "\n",
    "def fact(n):\n",
    "    result = 1                # result 변수를 1로 초기화\n",
    "\n",
    "    while n > 1:              # 반복문으로 1보다 큰 동안에 계속 반복\n",
    "        result = result * n   # 그안에서 reulst변수에 서로 곱하기\n",
    "        # result *= n         \n",
    "        n = n - 1             # 반복하되, 숫자가 점점 작아짐 \n",
    "        # n -= 1\n",
    "    \n",
    "    return result           \n",
    "\n",
    "fact(5)"
   ]
  },
  {
   "cell_type": "code",
   "execution_count": 142,
   "id": "b9032226-850e-478c-a842-3e59fc22f57d",
   "metadata": {},
   "outputs": [
    {
     "data": {
      "text/plain": [
       "120"
      ]
     },
     "execution_count": 142,
     "metadata": {},
     "output_type": "execute_result"
    }
   ],
   "source": [
    "# if~else 문을 통한 동일한 코드 \n",
    "\n",
    "def fact1(n): \n",
    "    if n <=1:                      # 이 문장은 실행 안됨 \n",
    "        return 1                   # 왜냐면 n은 1보다 클꺼거든 \n",
    "    else: \n",
    "        return fact1(n-1) * n      # 이 문장이 실행된다. \n",
    "fact1(5)"
   ]
  },
  {
   "cell_type": "code",
   "execution_count": 147,
   "id": "b66ceb9c-23b6-429c-936a-bff4e297a13a",
   "metadata": {},
   "outputs": [
    {
     "name": "stdout",
     "output_type": "stream",
     "text": [
      "1\n",
      "2\n",
      "6\n",
      "24\n",
      "120\n"
     ]
    }
   ],
   "source": [
    "print(fact1(1))    # 1 *   1                   = 1 \n",
    "print(fact1(2))    # 2 * 2-1                   = 2\n",
    "print(fact1(3))    # 3 * 3-1 * 2-1             = 6 \n",
    "print(fact1(4))    # 4 * 4-1 * 3-1 * 2-1       = 24\n",
    "print(fact1(5))    # 5 * 5-1 * 4-1 * 3-1 * 2-1 =120"
   ]
  },
  {
   "cell_type": "markdown",
   "id": "184f2de3-b5d8-4d5e-bccc-26bd02c1ad2a",
   "metadata": {},
   "source": [
    "## 피보나치 수열 \n",
    "```\n",
    "f(0) = f(1) = 1 \n",
    "f(n) = f(n-1) + f(n-2)\n",
    "```\n",
    "\n",
    "### 숫자들끼리 계속 더하는 수열 "
   ]
  },
  {
   "cell_type": "markdown",
   "id": "f574d0f3-f1af-4603-80fc-54b26f026c8d",
   "metadata": {},
   "source": [
    "0 -> 1 -> 1 -> 2 -> 3 -> 5 -> 8 -> 13 -> 21 -> 34 -> 55 .. \n",
    "```\n",
    "0 + 1 = 1\n",
    "1 + 1 = 2\n",
    "1 + 2 = 3\n",
    "2 + 3 = 5\n",
    "3 + 5 = 8\n",
    "5 + 8 = 13\n",
    "8 + 13 = 21\n",
    "13 + 21 = 34\n",
    "21 + 34 = 55\n",
    "34 + 55 = 89\n",
    "```"
   ]
  },
  {
   "cell_type": "code",
   "execution_count": 170,
   "id": "7a55f9b3-f45f-4aa8-89e1-d385d726a6ff",
   "metadata": {},
   "outputs": [],
   "source": [
    "# 반복문을 통하여 피보나치 수열 구하기\n",
    "\n",
    "def fib_loop(n):\n",
    "    result = [1, 1]\n",
    "\n",
    "    for i in range(1, n):\n",
    "        end1 = result[-1]\n",
    "        end2 = result[len(result)-2]\n",
    "        fib_num = end1 + end2\n",
    "\n",
    "        result.append(fib_num)\n",
    "\n",
    "    return result[-1]"
   ]
  },
  {
   "cell_type": "code",
   "execution_count": 169,
   "id": "800c0794-883b-42e2-88f1-2d265ab086f8",
   "metadata": {},
   "outputs": [
    {
     "data": {
      "text/plain": [
       "89"
      ]
     },
     "execution_count": 169,
     "metadata": {},
     "output_type": "execute_result"
    }
   ],
   "source": [
    "fib_loop(0)   #1    1 + 0 \n",
    "fib_loop(1)   #1    1 + 0  \n",
    "fib_loop(2)   #2    1 + 1 \n",
    "fib_loop(3)   #3    2 + 1\n",
    "fib_loop(4)   #5    3 + 2\n",
    "fib_loop(9)   #55  21 + 34 \n",
    "fib_loop(10)  #89 "
   ]
  },
  {
   "cell_type": "code",
   "execution_count": 173,
   "id": "38a58bf9-8c66-42d0-a454-0c08fa0d53f6",
   "metadata": {},
   "outputs": [
    {
     "data": {
      "text/plain": [
       "89"
      ]
     },
     "execution_count": 173,
     "metadata": {},
     "output_type": "execute_result"
    }
   ],
   "source": [
    "# 재귀함수를 이용하여 피보나치 수열 구하기\n",
    "\n",
    "def fib_rec(n):\n",
    "    if n == 0 or n == 1:           # 0과 1은 어자피 1나온다. \n",
    "        return 1\n",
    "    else :                         # 2부터는 아래 값으로  \n",
    "        return fib_rec(n-1) + fib_rec(n-2)\n",
    "    \n",
    "fib_rec(10)         # fib_rec(10-1)= fib_rec(9-1) = ... \n",
    "                    # 이렇게 계~속 하나씩 작게 계산해서 호출하고 호출하고 호출"
   ]
  }
 ],
 "metadata": {
  "kernelspec": {
   "display_name": "Python 3 (ipykernel)",
   "language": "python",
   "name": "python3"
  },
  "language_info": {
   "codemirror_mode": {
    "name": "ipython",
    "version": 3
   },
   "file_extension": ".py",
   "mimetype": "text/x-python",
   "name": "python",
   "nbconvert_exporter": "python",
   "pygments_lexer": "ipython3",
   "version": "3.9.13"
  }
 },
 "nbformat": 4,
 "nbformat_minor": 5
}
