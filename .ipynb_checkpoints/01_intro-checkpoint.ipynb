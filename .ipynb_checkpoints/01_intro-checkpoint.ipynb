{
 "cells": [
  {
   "cell_type": "markdown",
   "id": "b2ddd915-f18b-4151-a969-2bbbe009d107",
   "metadata": {},
   "source": [
    "# 01. intro 순서 \n",
    "- 단축키 \n",
    "- 주의사항\n",
    "- 1. 변수 \n",
    "  - 1.1 number 형태\n",
    "  - 1.2 boolean 참과 거짓\n",
    "  - 1.3 none \n",
    "  - 1.4 string 문자열 \n",
    "     - 1.4.1 string interpolation (f-string)\n",
    "- 2. 연산자\n",
    "  - 2.1 산술연산자 \n",
    "  - 2.2 비교연산자 \n",
    "  - 2.3 논리연산자, 복합연산자 \n",
    "  - 2.4 기타연산자 그리고 우선순위 \n",
    "- 3. 형변환\n",
    "  - 3.1 암시적 형변환 \n",
    "  - 3.2 명시적 형변환 \n",
    "- 4. 시퀀스 자료형\n",
    "  - 4.1 List [ ] \n",
    "  - 4.2 Tuple ( ) \n",
    "  - 4.3 Range(,)\n",
    "  - 4.4 String 은 설명 생략 \" \" \n",
    "  - 4.5 시퀀스 활용 연산/함수 \n",
    "- 5. 비시퀀스 자료형 \n",
    "  - 5.1 Set {, , ,} \n",
    "  - 5.2 Dictionary {key:value,,}\n",
    "---"
   ]
  },
  {
   "cell_type": "markdown",
   "id": "4a29674a-3208-448e-9ae7-9758451bee28",
   "metadata": {
    "tags": []
   },
   "source": [
    "## 단축키"
   ]
  },
  {
   "cell_type": "markdown",
   "id": "1a9e7e58-a26e-49c5-8c27-ad9fae8880c4",
   "metadata": {},
   "source": [
    "- `ctrl + enter` : 지금 cell 실행\n",
    "- `shift + enter` : 지금 cell 실행 + 아래로 이동\n",
    "- `alt(Commane) + enter` : 지금 cell 실행 + 아래에 새로운 cell 추가 \n",
    "- `Ctrl + slash` : 주석을 나타냄 \n",
    "- `Esc + m` : markdown 으로 변환 \n",
    "---"
   ]
  },
  {
   "cell_type": "markdown",
   "id": "fa361d03-0f8c-4d96-a5e2-05ffd667983a",
   "metadata": {},
   "source": [
    "## 주의사항"
   ]
  },
  {
   "cell_type": "markdown",
   "id": "c84ced16-6d51-4893-a785-6b8ec5929ea9",
   "metadata": {},
   "source": [
    "1. 대문자 주의 \n",
    "   - Apple과 apple 은 다르다. \n",
    "2. 띄어쓰기 주의 \n",
    "   - git add. 와 git add .도 다르다. \n",
    "3. 철자 주의 \n",
    "   - message 와 massage 도 다르다.\n",
    "----"
   ]
  },
  {
   "cell_type": "markdown",
   "id": "108db82f-3e8a-44f5-bff9-e4c2146d2b22",
   "metadata": {},
   "source": [
    "## 1. 변수 "
   ]
  },
  {
   "cell_type": "markdown",
   "id": "6aab4322-66a8-4f16-9522-87d206a51f55",
   "metadata": {},
   "source": [
    "변수이름 = 값 (할당) \n",
    "- 영어, 숫자, _ 를 이용 \n",
    "- 키워드 사용 불가 "
   ]
  },
  {
   "cell_type": "code",
   "execution_count": 4,
   "id": "4f3dfb59-bd99-4391-b49e-f5b003c5e81b",
   "metadata": {},
   "outputs": [
    {
     "name": "stdout",
     "output_type": "stream",
     "text": [
      "10\n",
      "hyejin\n"
     ]
    }
   ],
   "source": [
    "a = 10 \n",
    "name = 'hyejin'\n",
    "print(a)\n",
    "print(name)"
   ]
  },
  {
   "cell_type": "code",
   "execution_count": 6,
   "id": "3cfc2f1d-18e4-4b88-9e1a-866550df2824",
   "metadata": {},
   "outputs": [
    {
     "data": {
      "text/plain": [
       "['False',\n",
       " 'None',\n",
       " 'True',\n",
       " '__peg_parser__',\n",
       " 'and',\n",
       " 'as',\n",
       " 'assert',\n",
       " 'async',\n",
       " 'await',\n",
       " 'break',\n",
       " 'class',\n",
       " 'continue',\n",
       " 'def',\n",
       " 'del',\n",
       " 'elif',\n",
       " 'else',\n",
       " 'except',\n",
       " 'finally',\n",
       " 'for',\n",
       " 'from',\n",
       " 'global',\n",
       " 'if',\n",
       " 'import',\n",
       " 'in',\n",
       " 'is',\n",
       " 'lambda',\n",
       " 'nonlocal',\n",
       " 'not',\n",
       " 'or',\n",
       " 'pass',\n",
       " 'raise',\n",
       " 'return',\n",
       " 'try',\n",
       " 'while',\n",
       " 'with',\n",
       " 'yield']"
      ]
     },
     "execution_count": 6,
     "metadata": {},
     "output_type": "execute_result"
    }
   ],
   "source": [
    "import keyword             #사용불가 키워드\n",
    "keyword.kwlist"
   ]
  },
  {
   "cell_type": "markdown",
   "id": "fcb9ce06-d1c6-4011-a63f-c9dbc0a0e4ae",
   "metadata": {},
   "source": [
    "## 1.1 number "
   ]
  },
  {
   "cell_type": "code",
   "execution_count": 11,
   "id": "51614337-05cb-434f-97cc-92846d028b6d",
   "metadata": {},
   "outputs": [
    {
     "name": "stdout",
     "output_type": "stream",
     "text": [
      "10000000\n"
     ]
    },
    {
     "data": {
      "text/plain": [
       "int"
      ]
     },
     "execution_count": 11,
     "metadata": {},
     "output_type": "execute_result"
    }
   ],
   "source": [
    "a = 10000000 \n",
    "print(a)               \n",
    "type(a)                   # 기본적으로 숫자 = 정수 형태"
   ]
  },
  {
   "cell_type": "code",
   "execution_count": 14,
   "id": "6d9e6d5c-676a-4b5f-aadf-2feae4c36309",
   "metadata": {},
   "outputs": [
    {
     "name": "stdout",
     "output_type": "stream",
     "text": [
      "1.1\n"
     ]
    },
    {
     "data": {
      "text/plain": [
       "float"
      ]
     },
     "execution_count": 14,
     "metadata": {},
     "output_type": "execute_result"
    }
   ],
   "source": [
    "b= 1.1 \n",
    "print(b) \n",
    "type(b)                   # 소수점 = 실수"
   ]
  },
  {
   "cell_type": "code",
   "execution_count": 16,
   "id": "c73d6877-6f7d-448a-9f0d-062a16f87823",
   "metadata": {},
   "outputs": [
    {
     "name": "stdout",
     "output_type": "stream",
     "text": [
      "(1-4j)\n"
     ]
    },
    {
     "data": {
      "text/plain": [
       "complex"
      ]
     },
     "execution_count": 16,
     "metadata": {},
     "output_type": "execute_result"
    }
   ],
   "source": [
    "c = 1 - 4j\n",
    "print(c)\n",
    "type(c)                    # 복소수 "
   ]
  },
  {
   "cell_type": "code",
   "execution_count": 18,
   "id": "44bf093d-6d12-4787-a092-d8ddb93f11b2",
   "metadata": {},
   "outputs": [
    {
     "name": "stdout",
     "output_type": "stream",
     "text": [
      "-4.0\n",
      "1.0\n"
     ]
    }
   ],
   "source": [
    "print(c.imag)\n",
    "print(c.real)"
   ]
  },
  {
   "cell_type": "markdown",
   "id": "57332749-2c1f-4b36-ad1b-baf89fbb63b2",
   "metadata": {},
   "source": [
    "## 1.2 Boolean\n",
    "\n",
    "True, False 로 이루어졌다."
   ]
  },
  {
   "cell_type": "code",
   "execution_count": 21,
   "id": "c4e2d428-2595-416f-9ab7-f2dbbe1eb7da",
   "metadata": {},
   "outputs": [
    {
     "data": {
      "text/plain": [
       "bool"
      ]
     },
     "execution_count": 21,
     "metadata": {},
     "output_type": "execute_result"
    }
   ],
   "source": [
    "a = True     # bool \n",
    "b = False    # bool \n",
    "type(a)"
   ]
  },
  {
   "cell_type": "code",
   "execution_count": 24,
   "id": "a079fd32-d690-4de6-a34a-1fe9004db015",
   "metadata": {},
   "outputs": [
    {
     "data": {
      "text/plain": [
       "False"
      ]
     },
     "execution_count": 24,
     "metadata": {},
     "output_type": "execute_result"
    }
   ],
   "source": [
    "bool(0)      # 값이 True인지 False인지 확인해주는 함수"
   ]
  },
  {
   "cell_type": "code",
   "execution_count": 30,
   "id": "3a1b854e-7b6e-4a11-a07b-f17c292b2484",
   "metadata": {},
   "outputs": [
    {
     "data": {
      "text/plain": [
       "False"
      ]
     },
     "execution_count": 30,
     "metadata": {},
     "output_type": "execute_result"
    }
   ],
   "source": [
    "bool( )      # 값이 비어있거나,0이면 => False"
   ]
  },
  {
   "cell_type": "code",
   "execution_count": 27,
   "id": "3c0adb10-963c-4176-917e-4c183da7dc6d",
   "metadata": {},
   "outputs": [
    {
     "data": {
      "text/plain": [
       "True"
      ]
     },
     "execution_count": 27,
     "metadata": {},
     "output_type": "execute_result"
    }
   ],
   "source": [
    "bool(1)"
   ]
  },
  {
   "cell_type": "code",
   "execution_count": 29,
   "id": "97c2d0d2-d193-4a6b-ad07-ea09c2d2c218",
   "metadata": {},
   "outputs": [
    {
     "data": {
      "text/plain": [
       "True"
      ]
     },
     "execution_count": 29,
     "metadata": {},
     "output_type": "execute_result"
    }
   ],
   "source": [
    "bool(a)"
   ]
  },
  {
   "cell_type": "markdown",
   "id": "910f32ae-96ed-4bc7-a112-2f8c7eb0ec75",
   "metadata": {},
   "source": [
    "## 1.3 none "
   ]
  },
  {
   "cell_type": "code",
   "execution_count": 33,
   "id": "982af613-689e-4f72-9b20-34c4c1e2e125",
   "metadata": {},
   "outputs": [
    {
     "data": {
      "text/plain": [
       "NoneType"
      ]
     },
     "execution_count": 33,
     "metadata": {},
     "output_type": "execute_result"
    }
   ],
   "source": [
    "a = None          # 대문자여야함 \n",
    "type(a)           # NoneType = 값이 아무것도 들어있지 않다."
   ]
  },
  {
   "cell_type": "markdown",
   "id": "c6903185-67c6-4d9a-bfea-b390e1b1186b",
   "metadata": {},
   "source": [
    "## 1.4 String \n",
    "문자열은 `'`과 `\"`를 이용하여 표현한다.\n",
    "\n",
    "일관되게 하나만 꾸준히 사용하는 것이 암묵적 규칙이다.\n",
    "\n",
    "```\n",
    "\\n 다음줄로 줄넘김\n",
    "\\t 네 칸 띄어쓰기 (tab기능) \n",
    "```"
   ]
  },
  {
   "cell_type": "code",
   "execution_count": 37,
   "id": "d992ba12-d8e4-4bfe-b2a4-c3d300ec2bfb",
   "metadata": {},
   "outputs": [
    {
     "data": {
      "text/plain": [
       "str"
      ]
     },
     "execution_count": 37,
     "metadata": {},
     "output_type": "execute_result"
    }
   ],
   "source": [
    "a = 'hello'\n",
    "type(a)"
   ]
  },
  {
   "cell_type": "code",
   "execution_count": 43,
   "id": "39623a0b-954c-4e7e-8805-240a33e7f1a3",
   "metadata": {},
   "outputs": [
    {
     "name": "stdin",
     "output_type": "stream",
     "text": [
      " 23\n"
     ]
    },
    {
     "name": "stdout",
     "output_type": "stream",
     "text": [
      "<class 'str'>\n"
     ]
    }
   ],
   "source": [
    "age = input()       # input( ) 하게되면 값을 입력받을 수 있다.\n",
    "print(type(age))    # 어떤 값을 받아도, 문자열로 인식한다. int->str"
   ]
  },
  {
   "cell_type": "code",
   "execution_count": 46,
   "id": "b5795075-3e46-4e57-84e7-b25b6810f9d6",
   "metadata": {},
   "outputs": [
    {
     "name": "stdout",
     "output_type": "stream",
     "text": [
      "안녕하세요 \"백혜진\"입니다.\n"
     ]
    }
   ],
   "source": [
    "print('안녕하세요 \"백혜진\"입니다.')"
   ]
  },
  {
   "cell_type": "code",
   "execution_count": 48,
   "id": "17030ec7-17c0-4e42-b385-ff6da7f1412d",
   "metadata": {},
   "outputs": [
    {
     "name": "stdout",
     "output_type": "stream",
     "text": [
      "안녕하세요 '백혜진'입니다.\n"
     ]
    }
   ],
   "source": [
    "print(\"안녕하세요 '백혜진'입니다.\")"
   ]
  },
  {
   "cell_type": "code",
   "execution_count": 50,
   "id": "020337b3-8408-4106-831e-78d9443a8016",
   "metadata": {},
   "outputs": [
    {
     "name": "stdout",
     "output_type": "stream",
     "text": [
      "안녕하세요 '백혜진'입니다.\n"
     ]
    }
   ],
   "source": [
    "print('안녕하세요 \\'백혜진\\'입니다.')       #  \\'"
   ]
  },
  {
   "cell_type": "code",
   "execution_count": 53,
   "id": "27fb9090-8ff3-4949-9fe5-90a62b2d1268",
   "metadata": {},
   "outputs": [
    {
     "name": "stdout",
     "output_type": "stream",
     "text": [
      "\n",
      "여기는 문자열이며, \n",
      "엔터를 쳐서 '여러 줄'을 작성할 수 있습니다\n",
      "\n"
     ]
    }
   ],
   "source": [
    "a = '''\n",
    "여기는 문자열이며, \n",
    "엔터를 쳐서 \\'여러 줄\\'을 작성할 수 있습니다\n",
    "'''\n",
    "print(a)"
   ]
  },
  {
   "cell_type": "code",
   "execution_count": 55,
   "id": "162f43bc-ebab-4f6d-aa8f-cc2ffcc76b78",
   "metadata": {},
   "outputs": [
    {
     "name": "stdout",
     "output_type": "stream",
     "text": [
      "다음 줄로 줄넘길 경우 \n",
      "이렇게, \t들여쓰기도 가능합니다.\n"
     ]
    }
   ],
   "source": [
    "print('다음 줄로 줄넘길 경우 \\n이렇게, \\t들여쓰기도 가능합니다.')"
   ]
  },
  {
   "cell_type": "markdown",
   "id": "f92f5410-de98-4dbc-acb0-7cf3ed37bbc3",
   "metadata": {
    "tags": []
   },
   "source": [
    "## 1.4.1 String interpolation \n",
    "```\n",
    "1. %s-formatting \n",
    "2. str.format() \n",
    "3. f-string        -> 더 자주 쓰인다.\n",
    " \n",
    "```"
   ]
  },
  {
   "cell_type": "code",
   "execution_count": 57,
   "id": "4941abcb-2e64-4a95-b355-832ff63e2dc7",
   "metadata": {},
   "outputs": [
    {
     "name": "stdout",
     "output_type": "stream",
     "text": [
      "20\n"
     ]
    }
   ],
   "source": [
    "age = 20 \n",
    "print(age)"
   ]
  },
  {
   "cell_type": "code",
   "execution_count": 58,
   "id": "7b0e5d77-211f-430d-a78d-2189abe0e326",
   "metadata": {},
   "outputs": [
    {
     "name": "stdout",
     "output_type": "stream",
     "text": [
      "저는 20살입니다.\n"
     ]
    }
   ],
   "source": [
    "print('저는 %s살입니다.' % age) "
   ]
  },
  {
   "cell_type": "code",
   "execution_count": 59,
   "id": "fa09f3ef-74ba-4480-b97b-21dfdd7245ce",
   "metadata": {},
   "outputs": [
    {
     "name": "stdout",
     "output_type": "stream",
     "text": [
      "저는 20살입니다.\n"
     ]
    }
   ],
   "source": [
    "print('저는 {}살입니다.'. format(age))"
   ]
  },
  {
   "cell_type": "code",
   "execution_count": 61,
   "id": "abf03d14-4b5b-43cc-97c3-e159f260d561",
   "metadata": {},
   "outputs": [
    {
     "name": "stdout",
     "output_type": "stream",
     "text": [
      "저는 20살입니다.\n"
     ]
    }
   ],
   "source": [
    "print(f'저는 {age}살입니다.')"
   ]
  },
  {
   "cell_type": "markdown",
   "id": "374e2850-48a7-43c9-bf02-9a1ad480943b",
   "metadata": {},
   "source": [
    "---"
   ]
  },
  {
   "cell_type": "markdown",
   "id": "5dcc5477-ba75-4670-85e9-43f542f6746e",
   "metadata": {},
   "source": [
    "## 2. 연산자 "
   ]
  },
  {
   "cell_type": "markdown",
   "id": "cd18eae0-b584-45cb-8248-07c50fcc2fec",
   "metadata": {},
   "source": [
    "## 2.1 산술연산자"
   ]
  },
  {
   "cell_type": "code",
   "execution_count": 64,
   "id": "2ad675cb-00d1-4278-9256-47f9eca15ceb",
   "metadata": {},
   "outputs": [
    {
     "name": "stdout",
     "output_type": "stream",
     "text": [
      "5\n",
      "-1\n",
      "6\n",
      "0.6666666666666666\n",
      "8\n"
     ]
    }
   ],
   "source": [
    "print(2 + 3)     # 더하기 \n",
    "print(2 - 3)     # 빼기 \n",
    "print(2 * 3)     # 곱하기 \n",
    "print(2 / 3)     # 나누기 \n",
    "print(2 **3)     # 제곱"
   ]
  },
  {
   "cell_type": "code",
   "execution_count": 66,
   "id": "a1fb1f51-3c46-4b91-b215-5ba3c10c3d07",
   "metadata": {},
   "outputs": [
    {
     "name": "stdout",
     "output_type": "stream",
     "text": [
      "0\n",
      "2\n",
      "(0, 2)\n"
     ]
    }
   ],
   "source": [
    "print( 2 // 3 )    # 나누었을 때 몫만 출력 \n",
    "print( 2 %  3 )    # 나누고나서 나머지만 출력\n",
    "print(divmod(2,3)) # 나눈 (몫,나머지) 모두 출력"
   ]
  },
  {
   "cell_type": "markdown",
   "id": "af5c6e36-e6c9-46d0-be19-76c6a5683232",
   "metadata": {},
   "source": [
    "## 2.2 비교연산자\n",
    "\n",
    "`==` 는 숫자 뿐만 아니라, 문자도 비교 가능하다. "
   ]
  },
  {
   "cell_type": "code",
   "execution_count": 67,
   "id": "3c915340-0b24-4105-b377-f70aeb9715c2",
   "metadata": {},
   "outputs": [
    {
     "name": "stdout",
     "output_type": "stream",
     "text": [
      "False\n",
      "True\n",
      "False\n",
      "True\n"
     ]
    }
   ],
   "source": [
    "print( 5 > 10 ) \n",
    "print( 5 < 10 )\n",
    "print( 5 >=10 ) \n",
    "print( 5 <=10 ) "
   ]
  },
  {
   "cell_type": "code",
   "execution_count": 68,
   "id": "fc1c57ac-b597-41e6-ba20-cb8d5b340884",
   "metadata": {},
   "outputs": [
    {
     "name": "stdout",
     "output_type": "stream",
     "text": [
      "False\n",
      "True\n"
     ]
    }
   ],
   "source": [
    "print( 5 == 10 ) \n",
    "print( 5 != 10 ) "
   ]
  },
  {
   "cell_type": "code",
   "execution_count": 69,
   "id": "9b2fec84-5ca5-434e-a04a-5fc6193b88a9",
   "metadata": {},
   "outputs": [
    {
     "name": "stdout",
     "output_type": "stream",
     "text": [
      "True\n",
      "False\n"
     ]
    }
   ],
   "source": [
    "print( 'hi' == 'hi' ) \n",
    "print( 'Hi' == 'hi' ) "
   ]
  },
  {
   "cell_type": "markdown",
   "id": "14306476-b0e5-4854-ab9e-8f05374e3573",
   "metadata": {},
   "source": [
    "## 2.3 논리연산자 \n",
    "```\n",
    "and : 양쪽 모두 True 일 때 -> True \n",
    "       T and F -> F\n",
    " or : 양쪽 모두 False일 때 -> False \n",
    "       T or F  -> T\n",
    "not : 값을 반대로 전환 \n",
    "```"
   ]
  },
  {
   "cell_type": "code",
   "execution_count": 72,
   "id": "fd9a7ccf-cbd4-4086-ad9b-bce145348062",
   "metadata": {},
   "outputs": [
    {
     "name": "stdout",
     "output_type": "stream",
     "text": [
      "True\n",
      "False\n",
      "False\n",
      "False\n"
     ]
    }
   ],
   "source": [
    "print(True and True)\n",
    "print(True and False)\n",
    "print(False and True)\n",
    "print(False and False)"
   ]
  },
  {
   "cell_type": "code",
   "execution_count": 73,
   "id": "ec826c77-15b3-42dc-a004-5d7bc26c8180",
   "metadata": {},
   "outputs": [
    {
     "name": "stdout",
     "output_type": "stream",
     "text": [
      "True\n",
      "True\n",
      "True\n",
      "False\n"
     ]
    }
   ],
   "source": [
    "print(True or True)\n",
    "print(True or False)\n",
    "print(False or True)\n",
    "print(False or False)"
   ]
  },
  {
   "cell_type": "code",
   "execution_count": 74,
   "id": "c5569198-48a7-426b-acbe-031cdd16acd8",
   "metadata": {},
   "outputs": [
    {
     "name": "stdout",
     "output_type": "stream",
     "text": [
      "True\n",
      "False\n"
     ]
    }
   ],
   "source": [
    "print(True)\n",
    "print(not True)"
   ]
  },
  {
   "cell_type": "code",
   "execution_count": 77,
   "id": "a8e2e447-88fa-4381-bc5e-d391abc8c218",
   "metadata": {},
   "outputs": [
    {
     "name": "stdout",
     "output_type": "stream",
     "text": [
      "5\n",
      "0\n",
      "0\n",
      "0\n"
     ]
    }
   ],
   "source": [
    "# 단축평가\n",
    "print(3 and 5)     # 앞이 T 이면  -> 뒤 값만 출력 \n",
    "print(3 and 0)\n",
    "print(0 and 5)     # 앞이 F 이면  -> 앞 값만 출력\n",
    "print(0 and 0)       "
   ]
  },
  {
   "cell_type": "code",
   "execution_count": 78,
   "id": "99ac1423-8d32-4800-b4e5-64b922d7917f",
   "metadata": {},
   "outputs": [
    {
     "name": "stdout",
     "output_type": "stream",
     "text": [
      "3\n",
      "3\n",
      "5\n",
      "0\n"
     ]
    }
   ],
   "source": [
    "# 단축평가\n",
    "print(3 or 5)      # 앞이 T 이면   -> 앞 값만 출력 \n",
    "print(3 or 0)\n",
    "print(0 or 5)      # 앞이 F 이면   -> 뒤 값만 출력 \n",
    "print(0 or 0)"
   ]
  },
  {
   "cell_type": "markdown",
   "id": "47d925f3-5bfe-4789-bc17-48b0af068e9c",
   "metadata": {},
   "source": [
    "## 2.3 복합연산자 "
   ]
  },
  {
   "cell_type": "code",
   "execution_count": 82,
   "id": "32a462f4-705f-4f75-9593-588b623b2761",
   "metadata": {},
   "outputs": [],
   "source": [
    "a = a + b   #   a += b 와 같다. \n",
    "a = a - b   #   a -= b 와 같다. \n",
    "a = a * b   #   a *= b 와 같다. \n",
    "a = a / b   #   a /= b 와 같다. \n",
    "a = a ** b  #   a **= b와 같다. "
   ]
  },
  {
   "cell_type": "markdown",
   "id": "f5768e80-1ef0-4c7c-b30e-8ba77b59ef7a",
   "metadata": {},
   "source": [
    "## 2.4 기타연산자 "
   ]
  },
  {
   "cell_type": "code",
   "execution_count": 87,
   "id": "1cb4c650-aa01-4ddd-83e3-0b512b157513",
   "metadata": {},
   "outputs": [
    {
     "data": {
      "text/plain": [
       "'hihello'"
      ]
     },
     "execution_count": 87,
     "metadata": {},
     "output_type": "execute_result"
    }
   ],
   "source": [
    "a = 'hi'\n",
    "b = 'hello' \n",
    "\n",
    "a + b           # concatenation(연결)"
   ]
  },
  {
   "cell_type": "code",
   "execution_count": 89,
   "id": "ca6ab255-75d4-4083-8477-d1ddd7728801",
   "metadata": {},
   "outputs": [
    {
     "data": {
      "text/plain": [
       "[1, 2, 3, 4, 5, '6']"
      ]
     },
     "execution_count": 89,
     "metadata": {},
     "output_type": "execute_result"
    }
   ],
   "source": [
    "a = [1,2,3] \n",
    "b = [4,5,'6']\n",
    "\n",
    "a + b"
   ]
  },
  {
   "cell_type": "code",
   "execution_count": 91,
   "id": "31f011e5-bd30-4072-8327-f59f66270324",
   "metadata": {},
   "outputs": [
    {
     "name": "stdout",
     "output_type": "stream",
     "text": [
      "True\n",
      "False\n"
     ]
    }
   ],
   "source": [
    "print('a' in 'apple')   # containment\n",
    "print('z' in 'apple')"
   ]
  },
  {
   "cell_type": "code",
   "execution_count": 92,
   "id": "8824661c-1c1e-4f6e-a562-4a3f12179246",
   "metadata": {},
   "outputs": [
    {
     "name": "stdout",
     "output_type": "stream",
     "text": [
      "True\n",
      "False\n"
     ]
    }
   ],
   "source": [
    "print(1 in [1,2,3])\n",
    "print(10 in [1,2,3])"
   ]
  },
  {
   "cell_type": "code",
   "execution_count": 95,
   "id": "e6180f92-6a41-431d-a778-6754467400f1",
   "metadata": {},
   "outputs": [
    {
     "name": "stdout",
     "output_type": "stream",
     "text": [
      "True\n",
      "False\n"
     ]
    }
   ],
   "source": [
    "a = 1             # identity\n",
    "b = 1\n",
    "print(a is b)     # a와 b는 같니? -> True \n",
    "\n",
    "c = 553223\n",
    "d = 553223\n",
    "print(c is d)     # c와 d는 같니? -> False\n",
    "                  # 일정한 수가 넘어가면 lam저장위치값이 달라 다르게 나온다."
   ]
  },
  {
   "cell_type": "markdown",
   "id": "d7d1884e-c8ba-4df0-9cb7-9eab5139e1cd",
   "metadata": {},
   "source": [
    "## 우선순위\n",
    "```\n",
    "()를 통해 그룹\n",
    "**\n",
    "산술연산자(*, /)\n",
    "산술연산자(+, -)\n",
    "비교연산자, in, is\n",
    "not\n",
    "and\n",
    "or\n",
    "```"
   ]
  },
  {
   "cell_type": "code",
   "execution_count": 97,
   "id": "1ea47578-905c-4d1c-b3f3-4a36650d8bcb",
   "metadata": {},
   "outputs": [
    {
     "name": "stdout",
     "output_type": "stream",
     "text": [
      "-81\n",
      "81\n"
     ]
    }
   ],
   "source": [
    "print(-3 ** 4)\n",
    "print((-3) ** 4)"
   ]
  },
  {
   "cell_type": "markdown",
   "id": "5d9249d2-609d-4786-9059-6023b08a319e",
   "metadata": {},
   "source": [
    "---"
   ]
  },
  {
   "cell_type": "markdown",
   "id": "9bcdf0bb-db8d-440b-a6ec-7907288744f0",
   "metadata": {},
   "source": [
    "## 3. 형변환"
   ]
  },
  {
   "cell_type": "markdown",
   "id": "cb2dc9ec-7620-4c56-b0bf-3f8c9497bf1f",
   "metadata": {},
   "source": [
    "## 3.1 암시적 형변환"
   ]
  },
  {
   "cell_type": "code",
   "execution_count": 4,
   "id": "c909b2eb-a643-436b-8932-ad39f6eeccc3",
   "metadata": {},
   "outputs": [
    {
     "name": "stdout",
     "output_type": "stream",
     "text": [
      "2\n",
      "1\n"
     ]
    }
   ],
   "source": [
    "a = True      # bool, but 1 \n",
    "b = False     # bool, but 0 \n",
    "c = 1         # int\n",
    "\n",
    "print( a + c ) \n",
    "print( b + c ) "
   ]
  },
  {
   "cell_type": "code",
   "execution_count": 7,
   "id": "2edf5d55-5346-4631-80fc-262870db2bfa",
   "metadata": {},
   "outputs": [
    {
     "name": "stdout",
     "output_type": "stream",
     "text": [
      "6.3\n",
      "(4+3j)\n"
     ]
    }
   ],
   "source": [
    "int_num = 3\n",
    "float_num = 3.3\n",
    "complex_num = 1 +3j\n",
    "\n",
    "print(int_num + float_num)\n",
    "print(int_num + complex_num)    # 숫자끼리 더해진다.\n",
    "     # 다른타입의 숫자끼리 더할땐, 더 큰 범위 숫자로 더해진다. "
   ]
  },
  {
   "cell_type": "markdown",
   "id": "7808ce1f-12ef-4f54-a64e-dba3d7ba5628",
   "metadata": {},
   "source": [
    "## 3.2 명시적 형변환 \n",
    "\n",
    "-   Int() : string,float -> int 로 변환 \n",
    "- float() : string, int  -> float 로 변환 \n",
    "-   str() : int, float   -> string로 변환 \n",
    "-  bool() : int, list    -> boolean로 변환 "
   ]
  },
  {
   "cell_type": "code",
   "execution_count": 9,
   "id": "e75b149b-6afe-4aaa-bf4d-747daa858807",
   "metadata": {},
   "outputs": [
    {
     "ename": "TypeError",
     "evalue": "unsupported operand type(s) for +: 'int' and 'str'",
     "output_type": "error",
     "traceback": [
      "\u001b[0;31m---------------------------------------------------------------------------\u001b[0m",
      "\u001b[0;31mTypeError\u001b[0m                                 Traceback (most recent call last)",
      "\u001b[0;32m/var/folders/ld/lw14806d1tnctxswkwdvry_80000gn/T/ipykernel_4921/3020741704.py\u001b[0m in \u001b[0;36m<module>\u001b[0;34m\u001b[0m\n\u001b[1;32m      1\u001b[0m \u001b[0ma\u001b[0m \u001b[0;34m=\u001b[0m \u001b[0;36m1\u001b[0m                \u001b[0;31m# int\u001b[0m\u001b[0;34m\u001b[0m\u001b[0;34m\u001b[0m\u001b[0m\n\u001b[1;32m      2\u001b[0m \u001b[0mb\u001b[0m \u001b[0;34m=\u001b[0m \u001b[0;34m'번'\u001b[0m              \u001b[0;31m# str\u001b[0m\u001b[0;34m\u001b[0m\u001b[0;34m\u001b[0m\u001b[0m\n\u001b[0;32m----> 3\u001b[0;31m \u001b[0mprint\u001b[0m\u001b[0;34m(\u001b[0m \u001b[0ma\u001b[0m \u001b[0;34m+\u001b[0m \u001b[0mb\u001b[0m \u001b[0;34m)\u001b[0m\u001b[0;34m\u001b[0m\u001b[0;34m\u001b[0m\u001b[0m\n\u001b[0m",
      "\u001b[0;31mTypeError\u001b[0m: unsupported operand type(s) for +: 'int' and 'str'"
     ]
    }
   ],
   "source": [
    "a = 1                # int\n",
    "b = '번'              # str \n",
    "print( a + b ) "
   ]
  },
  {
   "cell_type": "code",
   "execution_count": 12,
   "id": "56104574-6e7f-43e9-a653-47d768344b82",
   "metadata": {},
   "outputs": [
    {
     "name": "stdout",
     "output_type": "stream",
     "text": [
      "1번\n"
     ]
    }
   ],
   "source": [
    "print(str(a)+b)   "
   ]
  },
  {
   "cell_type": "code",
   "execution_count": 13,
   "id": "76783a3b-e87d-4cf4-8ce1-035a401e5d77",
   "metadata": {},
   "outputs": [
    {
     "data": {
      "text/plain": [
       "int"
      ]
     },
     "execution_count": 13,
     "metadata": {},
     "output_type": "execute_result"
    }
   ],
   "source": [
    "a = '4'           # str \n",
    "type(int(a))      # str -> int "
   ]
  },
  {
   "cell_type": "code",
   "execution_count": 24,
   "id": "1a0fc489-0c31-413a-a9fc-d2593cfb91e7",
   "metadata": {},
   "outputs": [
    {
     "data": {
      "text/plain": [
       "False"
      ]
     },
     "execution_count": 24,
     "metadata": {},
     "output_type": "execute_result"
    }
   ],
   "source": [
    "a = 1        # int\n",
    "b = 0        # int \n",
    "bool(a)  #True \n",
    "bool(b)  #False"
   ]
  },
  {
   "cell_type": "code",
   "execution_count": 39,
   "id": "e55d35fe-68c2-4178-9177-a0d069eba789",
   "metadata": {},
   "outputs": [
    {
     "name": "stdout",
     "output_type": "stream",
     "text": [
      "False\n",
      "True\n"
     ]
    }
   ],
   "source": [
    "print(bool([]))       # 아무것도 없다 False\n",
    "print(bool([1,2,3]))  # 내용물이 있다 True"
   ]
  },
  {
   "cell_type": "markdown",
   "id": "fab44a71-3fdb-401f-8842-1571bcc34c33",
   "metadata": {},
   "source": [
    "---"
   ]
  },
  {
   "cell_type": "markdown",
   "id": "baceb6e4-d77b-43f4-9aea-51dc89ee2cdd",
   "metadata": {},
   "source": [
    "# 4. 시퀀스 자료형 (sequence) \n",
    "\n",
    "- Variable = 단수\n",
    "- Sequence = 복수\n",
    "\n",
    "데이터의 순서대로 나열된 자료구조 (정렬된 것과는 다르다) \n",
    "\n",
    "- 인덱스,슬라이스가 가능하다\n",
    "```\n",
    "1. List [] : 데이터 수정 가능 O\n",
    "2. tuple() :              X\n",
    "3. range   : range( , , ) X\n",
    "4. string  :              X \n",
    "```"
   ]
  },
  {
   "cell_type": "markdown",
   "id": "bdffefc8-5687-4643-9e75-147ee96c6732",
   "metadata": {},
   "source": [
    "## 4.1 List \n",
    "- 변수 = [value1, value2,,]\n",
    "- values 데이터 값 수정 가능하다."
   ]
  },
  {
   "cell_type": "code",
   "execution_count": 27,
   "id": "934b7872-d397-4dcf-9b3c-207ef67678d3",
   "metadata": {},
   "outputs": [
    {
     "name": "stdout",
     "output_type": "stream",
     "text": [
      "[]\n",
      "<class 'list'>\n"
     ]
    }
   ],
   "source": [
    "a = [ ] \n",
    "print(a)\n",
    "print(type(a))"
   ]
  },
  {
   "cell_type": "code",
   "execution_count": 31,
   "id": "e2ee4d63-ff2a-4ed4-9616-e0ad57580522",
   "metadata": {},
   "outputs": [
    {
     "name": "stdout",
     "output_type": "stream",
     "text": [
      "['사', '랑', '해']\n",
      "랑\n",
      "['사', '붕', '해']\n"
     ]
    }
   ],
   "source": [
    "#        0    1   2 \n",
    "love = ['사','랑','해']\n",
    "print(love)\n",
    "print(love[1])\n",
    "\n",
    "love[1] = '붕'          # 1번째 인덱스값 '랑' -> '붕' \n",
    "print(love)"
   ]
  },
  {
   "cell_type": "markdown",
   "id": "33a483a1-cd4c-40e9-9815-60cd05a9f08d",
   "metadata": {},
   "source": [
    "## 4.2 tuple\n",
    "- 변수 = (value1, value2,,) \n",
    "- values 데이터 값 수정 불가능하다."
   ]
  },
  {
   "cell_type": "code",
   "execution_count": 34,
   "id": "b0dad1f1-52d3-4c7a-94bb-d4da5c72b27d",
   "metadata": {},
   "outputs": [
    {
     "name": "stdout",
     "output_type": "stream",
     "text": [
      "(1, 2, 3)\n",
      "<class 'tuple'>\n",
      "3\n"
     ]
    }
   ],
   "source": [
    "#    0  1  2\n",
    "a = (1, 2, 3) \n",
    "print(a) \n",
    "print(type(a))\n",
    "print(a[2])            # 2번째 인덱스값 '3' "
   ]
  },
  {
   "cell_type": "code",
   "execution_count": 36,
   "id": "95efedf2-1f86-4b45-b02a-e4fbf1582e94",
   "metadata": {},
   "outputs": [
    {
     "ename": "TypeError",
     "evalue": "'tuple' object does not support item assignment",
     "output_type": "error",
     "traceback": [
      "\u001b[0;31m---------------------------------------------------------------------------\u001b[0m",
      "\u001b[0;31mTypeError\u001b[0m                                 Traceback (most recent call last)",
      "\u001b[0;32m/var/folders/ld/lw14806d1tnctxswkwdvry_80000gn/T/ipykernel_4921/3983994642.py\u001b[0m in \u001b[0;36m<module>\u001b[0;34m\u001b[0m\n\u001b[0;32m----> 1\u001b[0;31m \u001b[0ma\u001b[0m\u001b[0;34m[\u001b[0m\u001b[0;36m2\u001b[0m\u001b[0;34m]\u001b[0m \u001b[0;34m=\u001b[0m \u001b[0;36m99\u001b[0m              \u001b[0;31m# 2번째 인덱스값 '3' -> '99' 수정불가\u001b[0m\u001b[0;34m\u001b[0m\u001b[0;34m\u001b[0m\u001b[0m\n\u001b[0m",
      "\u001b[0;31mTypeError\u001b[0m: 'tuple' object does not support item assignment"
     ]
    }
   ],
   "source": [
    "a[2] = 99              # 2번째 인덱스값 '3' -> '99' 수정불가"
   ]
  },
  {
   "cell_type": "code",
   "execution_count": 38,
   "id": "024219a9-ab46-416e-baa5-6809b95f2315",
   "metadata": {},
   "outputs": [
    {
     "name": "stdout",
     "output_type": "stream",
     "text": [
      "good bad\n",
      "bad good\n"
     ]
    }
   ],
   "source": [
    "# 다만, 직접적으로 두 변수의 내용을 맞바꾸는건 가능하다. \n",
    "\n",
    "mom , dad = ('good', 'bad') \n",
    "print(mom,dad)\n",
    "\n",
    "mom, dad = dad , mom        # 서로 맞바꾸는 행위\n",
    "print(mom,dad)"
   ]
  },
  {
   "cell_type": "markdown",
   "id": "f0855f88-f7a2-4a37-a129-22ece6ed5398",
   "metadata": {},
   "source": [
    "## 4.3 range \n",
    "숫자 값들의 범위를 정할 때 주로 사용한다. \n",
    "- range  ( y ) : 시작값0 부터 종료값y-1 까지 \n",
    "- range  (x,y) : 시작값x 부터 종료값y-1 까지\n",
    "- ragne (x,y,s): 시작값x 부터 종료값y-1 까지, +s 값만큼 증가"
   ]
  },
  {
   "cell_type": "code",
   "execution_count": 47,
   "id": "5440cd92-81da-4cb5-920e-e9d581c667ae",
   "metadata": {},
   "outputs": [
    {
     "name": "stdout",
     "output_type": "stream",
     "text": [
      "range(0, 7)\n",
      "<class 'range'>\n"
     ]
    }
   ],
   "source": [
    "a = range(7) \n",
    "print(a) \n",
    "print(type(a))"
   ]
  },
  {
   "cell_type": "code",
   "execution_count": 50,
   "id": "86ad12db-ff00-4d53-9cad-34cfc6d31f79",
   "metadata": {},
   "outputs": [
    {
     "name": "stdout",
     "output_type": "stream",
     "text": [
      "range(5, 15)\n",
      "<class 'range'>\n"
     ]
    }
   ],
   "source": [
    "b = range(5,15)\n",
    "print(b)\n",
    "print(type(b))"
   ]
  },
  {
   "cell_type": "code",
   "execution_count": 54,
   "id": "7bf45488-4d2d-4aac-97bb-ce663cf8e2f3",
   "metadata": {},
   "outputs": [
    {
     "name": "stdout",
     "output_type": "stream",
     "text": [
      "range(2, 15, 3)\n",
      "<class 'range'>\n"
     ]
    }
   ],
   "source": [
    "c = range(2,15,3)\n",
    "print(c) \n",
    "print(type(c))"
   ]
  },
  {
   "cell_type": "code",
   "execution_count": 55,
   "id": "9ed66b56-5dc5-462f-9b7b-4b868a36ba3e",
   "metadata": {},
   "outputs": [
    {
     "name": "stdout",
     "output_type": "stream",
     "text": [
      "[0, 1, 2, 3, 4, 5, 6]\n",
      "[5, 6, 7, 8, 9, 10, 11, 12, 13, 14]\n",
      "[2, 5, 8, 11, 14]\n"
     ]
    }
   ],
   "source": [
    "print(list(a))\n",
    "print(list(b))\n",
    "print(list(c))"
   ]
  },
  {
   "cell_type": "code",
   "execution_count": 57,
   "id": "1cde220a-4614-4534-89cb-7b0d786825a4",
   "metadata": {},
   "outputs": [
    {
     "name": "stdout",
     "output_type": "stream",
     "text": [
      "[-1, -4, -7, -10, -13]\n"
     ]
    }
   ],
   "source": [
    "d = range(-1,-15,-3)        # 음수로도 가능합니다.\n",
    "print(list(d)) "
   ]
  },
  {
   "cell_type": "markdown",
   "id": "d056f4e8-13d3-44ef-8d37-a2c41a83f61a",
   "metadata": {},
   "source": [
    "## 4.4 String \n",
    "위의 작성된 기본 데이터 구조 참조"
   ]
  },
  {
   "cell_type": "markdown",
   "id": "d3b1014f-8315-4110-ab96-8cca1a8578e9",
   "metadata": {},
   "source": [
    "## 4.5 시퀀스에서 활용가능한 연산/함수\n",
    "\n",
    "인덱싱 \n",
    "\n",
    "슬라이싱 "
   ]
  },
  {
   "cell_type": "code",
   "execution_count": 58,
   "id": "c0f07d45-fd17-4c4a-89f0-8c2ee6da3556",
   "metadata": {},
   "outputs": [],
   "source": [
    "my_list = [1, 2, 3, 4, 5]\n",
    "my_tuple = (1, 2, 3, 4, 5)\n",
    "my_range = range(1, 100)\n",
    "my_string = '12345'"
   ]
  },
  {
   "cell_type": "code",
   "execution_count": 59,
   "id": "9e3420a8-8d13-47be-abe0-de4ec6e4686c",
   "metadata": {},
   "outputs": [
    {
     "name": "stdout",
     "output_type": "stream",
     "text": [
      "2\n",
      "2\n",
      "2\n",
      "2\n"
     ]
    }
   ],
   "source": [
    "# indexing\n",
    "print(my_list[1])\n",
    "print(my_tuple[1])\n",
    "print(my_range[1])\n",
    "print(my_string[1])"
   ]
  },
  {
   "cell_type": "code",
   "execution_count": 60,
   "id": "4c841cc3-71e1-4365-989b-492d62153a5e",
   "metadata": {},
   "outputs": [
    {
     "name": "stdout",
     "output_type": "stream",
     "text": [
      "[2, 3]\n",
      "(2, 3)\n",
      "range(2, 4)\n",
      "23\n"
     ]
    }
   ],
   "source": [
    "# slicing\n",
    "print(my_list[1:3])\n",
    "print(my_tuple[1:3])\n",
    "print(my_range[1:3])\n",
    "print(my_string[1:3])"
   ]
  },
  {
   "cell_type": "code",
   "execution_count": 62,
   "id": "ae7969b6-02e0-4b54-80e1-1a6302346f7e",
   "metadata": {},
   "outputs": [
    {
     "data": {
      "text/plain": [
       "[3, 5]"
      ]
     },
     "execution_count": 62,
     "metadata": {},
     "output_type": "execute_result"
    }
   ],
   "source": [
    "# slicing (k간격으로)\n",
    "list(my_range[2:6:2])"
   ]
  },
  {
   "cell_type": "code",
   "execution_count": 63,
   "id": "4957357b-ec8d-4a08-adcd-27c701675752",
   "metadata": {},
   "outputs": [
    {
     "name": "stdout",
     "output_type": "stream",
     "text": [
      "True\n",
      "True\n",
      "True\n",
      "True\n"
     ]
    }
   ],
   "source": [
    "# in\n",
    "print(1 in my_list)\n",
    "print(1 in my_tuple)\n",
    "print(1 in my_range)\n",
    "print('1' in my_string)"
   ]
  },
  {
   "cell_type": "code",
   "execution_count": 64,
   "id": "656504a9-9c1a-4c6c-973f-c6b294afcbb1",
   "metadata": {},
   "outputs": [
    {
     "name": "stdout",
     "output_type": "stream",
     "text": [
      "False\n",
      "False\n",
      "False\n",
      "False\n"
     ]
    }
   ],
   "source": [
    "print(1 not in my_list)\n",
    "print(1 not in my_tuple)\n",
    "print(1 not in my_range)\n",
    "print('1' not in my_string)"
   ]
  },
  {
   "cell_type": "code",
   "execution_count": 65,
   "id": "b8558c7b-bb23-47d3-b0d4-e0dedcd629e6",
   "metadata": {},
   "outputs": [
    {
     "name": "stdout",
     "output_type": "stream",
     "text": [
      "[1, 2, 3, 4, 5, 1, 2, 3]\n"
     ]
    }
   ],
   "source": [
    "# concatenation\n",
    "print(my_list + [1, 2, 3])"
   ]
  },
  {
   "cell_type": "code",
   "execution_count": 66,
   "id": "1e90c623-d0cd-4905-bbde-46d5bff4b14b",
   "metadata": {},
   "outputs": [
    {
     "name": "stdout",
     "output_type": "stream",
     "text": [
      "[0, 0, 0, 0, 0, 0, 0, 0, 0, 0]\n",
      "[[0, 0, 0, 0, 0, 0, 0, 0, 0, 0], [0, 0, 0, 0, 0, 0, 0, 0, 0, 0], [0, 0, 0, 0, 0, 0, 0, 0, 0, 0], [0, 0, 0, 0, 0, 0, 0, 0, 0, 0], [0, 0, 0, 0, 0, 0, 0, 0, 0, 0], [0, 0, 0, 0, 0, 0, 0, 0, 0, 0], [0, 0, 0, 0, 0, 0, 0, 0, 0, 0], [0, 0, 0, 0, 0, 0, 0, 0, 0, 0], [0, 0, 0, 0, 0, 0, 0, 0, 0, 0], [0, 0, 0, 0, 0, 0, 0, 0, 0, 0]]\n"
     ]
    }
   ],
   "source": [
    "# *\n",
    "print([0] * 10)\n",
    "print([[0] * 10] * 10)"
   ]
  },
  {
   "cell_type": "code",
   "execution_count": 68,
   "id": "1dd655d9-3f49-4f82-825a-044535142e3d",
   "metadata": {},
   "outputs": [
    {
     "name": "stdout",
     "output_type": "stream",
     "text": [
      "5\n",
      "1\n",
      "5\n"
     ]
    },
    {
     "data": {
      "text/plain": [
       "1"
      ]
     },
     "execution_count": 68,
     "metadata": {},
     "output_type": "execute_result"
    }
   ],
   "source": [
    "print(len(my_list))    # 값의 길이  \n",
    "print(min(my_list))    # 최대값 \n",
    "print(max(my_list))    # 최소값\n",
    "my_list.count(1)       # 값 1의 갯수  "
   ]
  },
  {
   "cell_type": "markdown",
   "id": "9b31455b-95f7-4412-b0fb-86a8e88ceae7",
   "metadata": {},
   "source": [
    "---"
   ]
  },
  {
   "cell_type": "markdown",
   "id": "c0999560-abb1-4d7e-986c-46168923f18c",
   "metadata": {},
   "source": [
    "## 5. 비시퀀스데이터 \n",
    "인덱싱,슬라이싱 불가 "
   ]
  },
  {
   "cell_type": "markdown",
   "id": "644e7997-e2df-4a10-b49b-249df9b75988",
   "metadata": {},
   "source": [
    "## 5.1 Set \n",
    "수학에서 사용하는 집합과 동일하게 처리 (중복값 X) \n",
    "\n",
    "변수 = {value1, value2,,} "
   ]
  },
  {
   "cell_type": "code",
   "execution_count": 69,
   "id": "cfeea251-6b99-45bc-a57c-4ab050ba609b",
   "metadata": {},
   "outputs": [],
   "source": [
    "my_set_a = {1, 2, 3, 4, 5}\n",
    "my_set_b = {3, 4, 5, 6, 7}"
   ]
  },
  {
   "cell_type": "code",
   "execution_count": 70,
   "id": "fcda0a25-9b19-4935-ad8b-136c8386d21e",
   "metadata": {},
   "outputs": [
    {
     "name": "stdout",
     "output_type": "stream",
     "text": [
      "{1, 2}\n",
      "{1, 2, 3, 4, 5, 6, 7}\n",
      "{3, 4, 5}\n"
     ]
    }
   ],
   "source": [
    "print(my_set_a - my_set_b)   # 차집합 \n",
    "print(my_set_a | my_set_b)   # 합집합 \n",
    "print(my_set_a & my_set_b)   # 교집합"
   ]
  },
  {
   "cell_type": "code",
   "execution_count": 71,
   "id": "c6014674-246f-4a08-b221-2d67df8bb231",
   "metadata": {},
   "outputs": [
    {
     "name": "stdout",
     "output_type": "stream",
     "text": [
      "[1, 2, 3, 4, 5, 6, 7]\n"
     ]
    }
   ],
   "source": [
    "my_list = [1, 1, 1, 1, 1, 1, 1, 1, 1, 2, 3, 4, 5, 6, 7]\n",
    "print(list(set(my_list)))     # Set는 중복값 제거해서 나온다."
   ]
  },
  {
   "cell_type": "markdown",
   "id": "253731ec-5d47-40ff-b031-005e43a635ce",
   "metadata": {},
   "source": [
    "## 5.2 dictionary\n",
    "\n",
    "변수 = {key1:value1,..}\n",
    "\n",
    "key와 value 가 쌍으로 이루어져있다. \n",
    "\n",
    "key 에는 immutable 한 모든 것 사용 가능 (불변값인 str, int ,,) \n",
    "\n",
    "value 에는 모든 데이터 가능 (list, dictionary 도 가능) "
   ]
  },
  {
   "cell_type": "code",
   "execution_count": 74,
   "id": "1f944641-037d-4f3a-951a-8748b48f4f98",
   "metadata": {},
   "outputs": [
    {
     "data": {
      "text/plain": [
       "'icecream'"
      ]
     },
     "execution_count": 74,
     "metadata": {},
     "output_type": "execute_result"
    }
   ],
   "source": [
    "dict = {'spring': 'flower', 'summer': 'icecream'}\n",
    "dict['summer']        # 'summer'에 해당하는 value 값 찾기"
   ]
  },
  {
   "cell_type": "code",
   "execution_count": 76,
   "id": "03de5ff9-370a-440b-a99a-95b901410ddb",
   "metadata": {},
   "outputs": [],
   "source": [
    "dict = { \n",
    "    'spring': 'flower', \n",
    "    'summer': 'icecream',\n",
    "    'autumm': 'poem', \n",
    "    'winter': 'snow',\n",
    "}"
   ]
  },
  {
   "cell_type": "code",
   "execution_count": 77,
   "id": "743fa5ac-585e-4d70-94ed-a81551bff807",
   "metadata": {},
   "outputs": [
    {
     "name": "stdout",
     "output_type": "stream",
     "text": [
      "{'spring': 'flower', 'summer': 'icecream', 'autumm': 'poem', 'winter': 'snow'}\n"
     ]
    }
   ],
   "source": [
    "print(dict)"
   ]
  },
  {
   "cell_type": "code",
   "execution_count": 81,
   "id": "d87554de-62c4-459c-b678-a49eee5b904c",
   "metadata": {},
   "outputs": [
    {
     "data": {
      "text/plain": [
       "dict_keys(['spring', 'summer', 'autumm', 'winter'])"
      ]
     },
     "execution_count": 81,
     "metadata": {},
     "output_type": "execute_result"
    }
   ],
   "source": [
    "dict.keys()"
   ]
  },
  {
   "cell_type": "code",
   "execution_count": 82,
   "id": "460cec5b-6ff4-496f-a63e-9ec53b1c6e8e",
   "metadata": {},
   "outputs": [
    {
     "data": {
      "text/plain": [
       "dict_values(['flower', 'icecream', 'poem', 'snow'])"
      ]
     },
     "execution_count": 82,
     "metadata": {},
     "output_type": "execute_result"
    }
   ],
   "source": [
    "dict.values()"
   ]
  },
  {
   "cell_type": "markdown",
   "id": "139880a4-21f9-4ed1-9695-8e3bae1c22f6",
   "metadata": {},
   "source": [
    "## 5.2 dictionary는 수정 가능하다. \n",
    "list 형식과 함께 수정 가능한 데이터다. "
   ]
  },
  {
   "cell_type": "code",
   "execution_count": 84,
   "id": "898aa877-a344-4b8a-a784-ce705da9dc57",
   "metadata": {},
   "outputs": [
    {
     "data": {
      "text/plain": [
       "'사과'"
      ]
     },
     "execution_count": 84,
     "metadata": {},
     "output_type": "execute_result"
    }
   ],
   "source": [
    "a = {\n",
    "    'apple': '사과',\n",
    "    'banana': '바나나',\n",
    "}\n",
    "\n",
    "a['apple']"
   ]
  },
  {
   "cell_type": "code",
   "execution_count": 85,
   "id": "f8647107-2ea8-4f97-b08c-b0845ecbdd21",
   "metadata": {},
   "outputs": [
    {
     "data": {
      "text/plain": [
       "'사과아아아아아'"
      ]
     },
     "execution_count": 85,
     "metadata": {},
     "output_type": "execute_result"
    }
   ],
   "source": [
    "a['apple'] = '사과아아아아아'\n",
    "a['apple']"
   ]
  }
 ],
 "metadata": {
  "kernelspec": {
   "display_name": "Python 3 (ipykernel)",
   "language": "python",
   "name": "python3"
  },
  "language_info": {
   "codemirror_mode": {
    "name": "ipython",
    "version": 3
   },
   "file_extension": ".py",
   "mimetype": "text/x-python",
   "name": "python",
   "nbconvert_exporter": "python",
   "pygments_lexer": "ipython3",
   "version": "3.9.13"
  }
 },
 "nbformat": 4,
 "nbformat_minor": 5
}
