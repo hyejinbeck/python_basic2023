{
 "cells": [
  {
   "cell_type": "markdown",
   "id": "b2ddd915-f18b-4151-a969-2bbbe009d107",
   "metadata": {},
   "source": [
    "# 01. intro 순서 \n",
    "- 단축키 \n",
    "- 주의사항\n",
    "- 1. 변수 \n",
    "  - 1.1 number 형태\n",
    "  - 1.2 boolean 참과 거짓\n",
    "  - 1.3 none \n",
    "  - 1.4 string 문자열 \n",
    "     - 1.4.1 string interpolation (f-string)\n",
    "- 2. 연산자\n",
    "  - 2.1 산술연산자 \n",
    "  - 2.2 비교연산자 \n",
    "  - 2.3 논리연산자, 복합연산자 \n",
    "  - 2.4 기타연산자 그리고 우선순위 \n",
    "- 3. 형변환\n",
    "  - 3.1 암시적 형변환 \n",
    "  - 3.2 명시적 형변환 \n",
    "- 4. 시퀀스 자료형 \n",
    "  - 4.1 List [ ] \n",
    "  - 4.2 Tuple ( ) \n",
    "  - 4.3 Range(,)\n",
    "  - 4.4 String 은 설명 생략 \" \" \n",
    "  - 4.5 시퀀스 활용 연산/함수 \n",
    "- 5. 비시퀀스 자료형 \n",
    "  - 5.1 Set {, , ,} \n",
    "  - 5.2 Dictionary {key:value,,}\n",
    "---"
   ]
  },
  {
   "cell_type": "markdown",
   "id": "4a29674a-3208-448e-9ae7-9758451bee28",
   "metadata": {
    "tags": []
   },
   "source": [
    "## 단축키"
   ]
  },
  {
   "cell_type": "markdown",
   "id": "1a9e7e58-a26e-49c5-8c27-ad9fae8880c4",
   "metadata": {},
   "source": [
    "- `ctrl + enter` : 지금 cell 실행\n",
    "- `shift + enter` : 지금 cell 실행 + 아래로 이동\n",
    "- `alt(Commane) + enter` : 지금 cell 실행 + 아래에 새로운 cell 추가 \n",
    "- `Ctrl + slash` : 주석을 나타냄 \n",
    "- `Esc + m` : markdown 으로 변환 \n",
    "---"
   ]
  },
  {
   "cell_type": "markdown",
   "id": "fa361d03-0f8c-4d96-a5e2-05ffd667983a",
   "metadata": {},
   "source": [
    "## 주의사항"
   ]
  },
  {
   "cell_type": "markdown",
   "id": "c84ced16-6d51-4893-a785-6b8ec5929ea9",
   "metadata": {},
   "source": [
    "1. 대문자 주의 \n",
    "   - Apple과 apple 은 다르다. \n",
    "2. 띄어쓰기 주의 \n",
    "   - git add. 와 git add .도 다르다. \n",
    "3. 철자 주의 \n",
    "   - message 와 massage 도 다르다.\n",
    "----"
   ]
  },
  {
   "cell_type": "markdown",
   "id": "108db82f-3e8a-44f5-bff9-e4c2146d2b22",
   "metadata": {},
   "source": [
    "## 1. 변수 "
   ]
  },
  {
   "cell_type": "markdown",
   "id": "6aab4322-66a8-4f16-9522-87d206a51f55",
   "metadata": {},
   "source": [
    "변수이름 = 값 (할당) \n",
    "- 영어, 숫자, _ 를 이용 \n",
    "- 키워드 사용 불가 "
   ]
  },
  {
   "cell_type": "code",
   "execution_count": 4,
   "id": "4f3dfb59-bd99-4391-b49e-f5b003c5e81b",
   "metadata": {},
   "outputs": [
    {
     "name": "stdout",
     "output_type": "stream",
     "text": [
      "10\n",
      "hyejin\n"
     ]
    }
   ],
   "source": [
    "a = 10 \n",
    "name = 'hyejin'\n",
    "print(a)\n",
    "print(name)"
   ]
  },
  {
   "cell_type": "code",
   "execution_count": 6,
   "id": "3cfc2f1d-18e4-4b88-9e1a-866550df2824",
   "metadata": {},
   "outputs": [
    {
     "data": {
      "text/plain": [
       "['False',\n",
       " 'None',\n",
       " 'True',\n",
       " '__peg_parser__',\n",
       " 'and',\n",
       " 'as',\n",
       " 'assert',\n",
       " 'async',\n",
       " 'await',\n",
       " 'break',\n",
       " 'class',\n",
       " 'continue',\n",
       " 'def',\n",
       " 'del',\n",
       " 'elif',\n",
       " 'else',\n",
       " 'except',\n",
       " 'finally',\n",
       " 'for',\n",
       " 'from',\n",
       " 'global',\n",
       " 'if',\n",
       " 'import',\n",
       " 'in',\n",
       " 'is',\n",
       " 'lambda',\n",
       " 'nonlocal',\n",
       " 'not',\n",
       " 'or',\n",
       " 'pass',\n",
       " 'raise',\n",
       " 'return',\n",
       " 'try',\n",
       " 'while',\n",
       " 'with',\n",
       " 'yield']"
      ]
     },
     "execution_count": 6,
     "metadata": {},
     "output_type": "execute_result"
    }
   ],
   "source": [
    "import keyword             #사용불가 키워드\n",
    "keyword.kwlist"
   ]
  },
  {
   "cell_type": "markdown",
   "id": "fcb9ce06-d1c6-4011-a63f-c9dbc0a0e4ae",
   "metadata": {},
   "source": [
    "## 1.1 number "
   ]
  },
  {
   "cell_type": "code",
   "execution_count": 11,
   "id": "51614337-05cb-434f-97cc-92846d028b6d",
   "metadata": {},
   "outputs": [
    {
     "name": "stdout",
     "output_type": "stream",
     "text": [
      "10000000\n"
     ]
    },
    {
     "data": {
      "text/plain": [
       "int"
      ]
     },
     "execution_count": 11,
     "metadata": {},
     "output_type": "execute_result"
    }
   ],
   "source": [
    "a = 10000000 \n",
    "print(a)               \n",
    "type(a)                   # 기본적으로 숫자 = 정수 형태"
   ]
  },
  {
   "cell_type": "code",
   "execution_count": 14,
   "id": "6d9e6d5c-676a-4b5f-aadf-2feae4c36309",
   "metadata": {},
   "outputs": [
    {
     "name": "stdout",
     "output_type": "stream",
     "text": [
      "1.1\n"
     ]
    },
    {
     "data": {
      "text/plain": [
       "float"
      ]
     },
     "execution_count": 14,
     "metadata": {},
     "output_type": "execute_result"
    }
   ],
   "source": [
    "b= 1.1 \n",
    "print(b) \n",
    "type(b)                   # 소수점 = 실수"
   ]
  },
  {
   "cell_type": "code",
   "execution_count": 16,
   "id": "c73d6877-6f7d-448a-9f0d-062a16f87823",
   "metadata": {},
   "outputs": [
    {
     "name": "stdout",
     "output_type": "stream",
     "text": [
      "(1-4j)\n"
     ]
    },
    {
     "data": {
      "text/plain": [
       "complex"
      ]
     },
     "execution_count": 16,
     "metadata": {},
     "output_type": "execute_result"
    }
   ],
   "source": [
    "c = 1 - 4j\n",
    "print(c)\n",
    "type(c)                    # 복소수 "
   ]
  },
  {
   "cell_type": "code",
   "execution_count": 18,
   "id": "44bf093d-6d12-4787-a092-d8ddb93f11b2",
   "metadata": {},
   "outputs": [
    {
     "name": "stdout",
     "output_type": "stream",
     "text": [
      "-4.0\n",
      "1.0\n"
     ]
    }
   ],
   "source": [
    "print(c.imag)\n",
    "print(c.real)"
   ]
  },
  {
   "cell_type": "markdown",
   "id": "57332749-2c1f-4b36-ad1b-baf89fbb63b2",
   "metadata": {},
   "source": [
    "## 1.2 Boolean\n",
    "\n",
    "True, False 로 이루어졌다."
   ]
  },
  {
   "cell_type": "code",
   "execution_count": 21,
   "id": "c4e2d428-2595-416f-9ab7-f2dbbe1eb7da",
   "metadata": {},
   "outputs": [
    {
     "data": {
      "text/plain": [
       "bool"
      ]
     },
     "execution_count": 21,
     "metadata": {},
     "output_type": "execute_result"
    }
   ],
   "source": [
    "a = True     # bool \n",
    "b = False    # bool \n",
    "type(a)"
   ]
  },
  {
   "cell_type": "code",
   "execution_count": 24,
   "id": "a079fd32-d690-4de6-a34a-1fe9004db015",
   "metadata": {},
   "outputs": [
    {
     "data": {
      "text/plain": [
       "False"
      ]
     },
     "execution_count": 24,
     "metadata": {},
     "output_type": "execute_result"
    }
   ],
   "source": [
    "bool(0)      # 값이 True인지 False인지 확인해주는 함수"
   ]
  },
  {
   "cell_type": "code",
   "execution_count": 30,
   "id": "3a1b854e-7b6e-4a11-a07b-f17c292b2484",
   "metadata": {},
   "outputs": [
    {
     "data": {
      "text/plain": [
       "False"
      ]
     },
     "execution_count": 30,
     "metadata": {},
     "output_type": "execute_result"
    }
   ],
   "source": [
    "bool( )      # 값이 비어있거나,0이면 => False"
   ]
  },
  {
   "cell_type": "code",
   "execution_count": 27,
   "id": "3c0adb10-963c-4176-917e-4c183da7dc6d",
   "metadata": {},
   "outputs": [
    {
     "data": {
      "text/plain": [
       "True"
      ]
     },
     "execution_count": 27,
     "metadata": {},
     "output_type": "execute_result"
    }
   ],
   "source": [
    "bool(1)"
   ]
  },
  {
   "cell_type": "code",
   "execution_count": 29,
   "id": "97c2d0d2-d193-4a6b-ad07-ea09c2d2c218",
   "metadata": {},
   "outputs": [
    {
     "data": {
      "text/plain": [
       "True"
      ]
     },
     "execution_count": 29,
     "metadata": {},
     "output_type": "execute_result"
    }
   ],
   "source": [
    "bool(a)"
   ]
  },
  {
   "cell_type": "markdown",
   "id": "910f32ae-96ed-4bc7-a112-2f8c7eb0ec75",
   "metadata": {},
   "source": [
    "## 1.3 none "
   ]
  },
  {
   "cell_type": "code",
   "execution_count": 33,
   "id": "982af613-689e-4f72-9b20-34c4c1e2e125",
   "metadata": {},
   "outputs": [
    {
     "data": {
      "text/plain": [
       "NoneType"
      ]
     },
     "execution_count": 33,
     "metadata": {},
     "output_type": "execute_result"
    }
   ],
   "source": [
    "a = None          # 대문자여야함 \n",
    "type(a)           # NoneType = 값이 아무것도 들어있지 않다."
   ]
  },
  {
   "cell_type": "markdown",
   "id": "c6903185-67c6-4d9a-bfea-b390e1b1186b",
   "metadata": {},
   "source": [
    "## 1.4 String \n",
    "문자열은 `'`과 `\"`를 이용하여 표현한다.\n",
    "\n",
    "일관되게 하나만 꾸준히 사용하는 것이 암묵적 규칙이다.\n",
    "\n",
    "```\n",
    "\\n 다음줄로 줄넘김\n",
    "\\t 네 칸 띄어쓰기 (tab기능) \n",
    "```"
   ]
  },
  {
   "cell_type": "code",
   "execution_count": 37,
   "id": "d992ba12-d8e4-4bfe-b2a4-c3d300ec2bfb",
   "metadata": {},
   "outputs": [
    {
     "data": {
      "text/plain": [
       "str"
      ]
     },
     "execution_count": 37,
     "metadata": {},
     "output_type": "execute_result"
    }
   ],
   "source": [
    "a = 'hello'\n",
    "type(a)"
   ]
  },
  {
   "cell_type": "code",
   "execution_count": 43,
   "id": "39623a0b-954c-4e7e-8805-240a33e7f1a3",
   "metadata": {},
   "outputs": [
    {
     "name": "stdin",
     "output_type": "stream",
     "text": [
      " 23\n"
     ]
    },
    {
     "name": "stdout",
     "output_type": "stream",
     "text": [
      "<class 'str'>\n"
     ]
    }
   ],
   "source": [
    "age = input()       # input( ) 하게되면 값을 입력받을 수 있다.\n",
    "print(type(age))    # 어떤 값을 받아도, 문자열로 인식한다. int->str"
   ]
  },
  {
   "cell_type": "code",
   "execution_count": 46,
   "id": "b5795075-3e46-4e57-84e7-b25b6810f9d6",
   "metadata": {},
   "outputs": [
    {
     "name": "stdout",
     "output_type": "stream",
     "text": [
      "안녕하세요 \"백혜진\"입니다.\n"
     ]
    }
   ],
   "source": [
    "print('안녕하세요 \"백혜진\"입니다.')"
   ]
  },
  {
   "cell_type": "code",
   "execution_count": 48,
   "id": "17030ec7-17c0-4e42-b385-ff6da7f1412d",
   "metadata": {},
   "outputs": [
    {
     "name": "stdout",
     "output_type": "stream",
     "text": [
      "안녕하세요 '백혜진'입니다.\n"
     ]
    }
   ],
   "source": [
    "print(\"안녕하세요 '백혜진'입니다.\")"
   ]
  },
  {
   "cell_type": "code",
   "execution_count": 50,
   "id": "020337b3-8408-4106-831e-78d9443a8016",
   "metadata": {},
   "outputs": [
    {
     "name": "stdout",
     "output_type": "stream",
     "text": [
      "안녕하세요 '백혜진'입니다.\n"
     ]
    }
   ],
   "source": [
    "print('안녕하세요 \\'백혜진\\'입니다.')       #  \\'"
   ]
  },
  {
   "cell_type": "code",
   "execution_count": 53,
   "id": "27fb9090-8ff3-4949-9fe5-90a62b2d1268",
   "metadata": {},
   "outputs": [
    {
     "name": "stdout",
     "output_type": "stream",
     "text": [
      "\n",
      "여기는 문자열이며, \n",
      "엔터를 쳐서 '여러 줄'을 작성할 수 있습니다\n",
      "\n"
     ]
    }
   ],
   "source": [
    "a = '''\n",
    "여기는 문자열이며, \n",
    "엔터를 쳐서 \\'여러 줄\\'을 작성할 수 있습니다\n",
    "'''\n",
    "print(a)"
   ]
  },
  {
   "cell_type": "code",
   "execution_count": 55,
   "id": "162f43bc-ebab-4f6d-aa8f-cc2ffcc76b78",
   "metadata": {},
   "outputs": [
    {
     "name": "stdout",
     "output_type": "stream",
     "text": [
      "다음 줄로 줄넘길 경우 \n",
      "이렇게, \t들여쓰기도 가능합니다.\n"
     ]
    }
   ],
   "source": [
    "print('다음 줄로 줄넘길 경우 \\n이렇게, \\t들여쓰기도 가능합니다.')"
   ]
  },
  {
   "cell_type": "markdown",
   "id": "f92f5410-de98-4dbc-acb0-7cf3ed37bbc3",
   "metadata": {
    "tags": []
   },
   "source": [
    "## 1.4.1 String interpolation \n",
    "```\n",
    "1. %s-formatting \n",
    "2. str.format() \n",
    "3. f-string        -> 더 자주 쓰인다.\n",
    " \n",
    "```"
   ]
  },
  {
   "cell_type": "code",
   "execution_count": 57,
   "id": "4941abcb-2e64-4a95-b355-832ff63e2dc7",
   "metadata": {},
   "outputs": [
    {
     "name": "stdout",
     "output_type": "stream",
     "text": [
      "20\n"
     ]
    }
   ],
   "source": [
    "age = 20 \n",
    "print(age)"
   ]
  },
  {
   "cell_type": "code",
   "execution_count": 58,
   "id": "7b0e5d77-211f-430d-a78d-2189abe0e326",
   "metadata": {},
   "outputs": [
    {
     "name": "stdout",
     "output_type": "stream",
     "text": [
      "저는 20살입니다.\n"
     ]
    }
   ],
   "source": [
    "print('저는 %s살입니다.' % age) "
   ]
  },
  {
   "cell_type": "code",
   "execution_count": 59,
   "id": "fa09f3ef-74ba-4480-b97b-21dfdd7245ce",
   "metadata": {},
   "outputs": [
    {
     "name": "stdout",
     "output_type": "stream",
     "text": [
      "저는 20살입니다.\n"
     ]
    }
   ],
   "source": [
    "print('저는 {}살입니다.'. format(age))"
   ]
  },
  {
   "cell_type": "code",
   "execution_count": 61,
   "id": "abf03d14-4b5b-43cc-97c3-e159f260d561",
   "metadata": {},
   "outputs": [
    {
     "name": "stdout",
     "output_type": "stream",
     "text": [
      "저는 20살입니다.\n"
     ]
    }
   ],
   "source": [
    "print(f'저는 {age}살입니다.')"
   ]
  },
  {
   "cell_type": "markdown",
   "id": "374e2850-48a7-43c9-bf02-9a1ad480943b",
   "metadata": {},
   "source": [
    "---"
   ]
  },
  {
   "cell_type": "markdown",
   "id": "5dcc5477-ba75-4670-85e9-43f542f6746e",
   "metadata": {},
   "source": [
    "## 2. 연산자 "
   ]
  },
  {
   "cell_type": "markdown",
   "id": "cd18eae0-b584-45cb-8248-07c50fcc2fec",
   "metadata": {},
   "source": [
    "## 2.1 산술연산자"
   ]
  },
  {
   "cell_type": "code",
   "execution_count": 64,
   "id": "2ad675cb-00d1-4278-9256-47f9eca15ceb",
   "metadata": {},
   "outputs": [
    {
     "name": "stdout",
     "output_type": "stream",
     "text": [
      "5\n",
      "-1\n",
      "6\n",
      "0.6666666666666666\n",
      "8\n"
     ]
    }
   ],
   "source": [
    "print(2 + 3)     # 더하기 \n",
    "print(2 - 3)     # 빼기 \n",
    "print(2 * 3)     # 곱하기 \n",
    "print(2 / 3)     # 나누기 \n",
    "print(2 **3)     # 제곱"
   ]
  },
  {
   "cell_type": "code",
   "execution_count": 66,
   "id": "a1fb1f51-3c46-4b91-b215-5ba3c10c3d07",
   "metadata": {},
   "outputs": [
    {
     "name": "stdout",
     "output_type": "stream",
     "text": [
      "0\n",
      "2\n",
      "(0, 2)\n"
     ]
    }
   ],
   "source": [
    "print( 2 // 3 )    # 나누었을 때 몫만 출력 \n",
    "print( 2 %  3 )    # 나누고나서 나머지만 출력\n",
    "print(divmod(2,3)) # 나눈 (몫,나머지) 모두 출력"
   ]
  },
  {
   "cell_type": "markdown",
   "id": "af5c6e36-e6c9-46d0-be19-76c6a5683232",
   "metadata": {},
   "source": [
    "## 2.2 비교연산자\n",
    "\n",
    "`==` 는 숫자 뿐만 아니라, 문자도 비교 가능하다. "
   ]
  },
  {
   "cell_type": "code",
   "execution_count": 67,
   "id": "3c915340-0b24-4105-b377-f70aeb9715c2",
   "metadata": {},
   "outputs": [
    {
     "name": "stdout",
     "output_type": "stream",
     "text": [
      "False\n",
      "True\n",
      "False\n",
      "True\n"
     ]
    }
   ],
   "source": [
    "print( 5 > 10 ) \n",
    "print( 5 < 10 )\n",
    "print( 5 >=10 ) \n",
    "print( 5 <=10 ) "
   ]
  },
  {
   "cell_type": "code",
   "execution_count": 68,
   "id": "fc1c57ac-b597-41e6-ba20-cb8d5b340884",
   "metadata": {},
   "outputs": [
    {
     "name": "stdout",
     "output_type": "stream",
     "text": [
      "False\n",
      "True\n"
     ]
    }
   ],
   "source": [
    "print( 5 == 10 ) \n",
    "print( 5 != 10 ) "
   ]
  },
  {
   "cell_type": "code",
   "execution_count": 69,
   "id": "9b2fec84-5ca5-434e-a04a-5fc6193b88a9",
   "metadata": {},
   "outputs": [
    {
     "name": "stdout",
     "output_type": "stream",
     "text": [
      "True\n",
      "False\n"
     ]
    }
   ],
   "source": [
    "print( 'hi' == 'hi' ) \n",
    "print( 'Hi' == 'hi' ) "
   ]
  },
  {
   "cell_type": "markdown",
   "id": "14306476-b0e5-4854-ab9e-8f05374e3573",
   "metadata": {},
   "source": [
    "## 2.3 논리연산자 \n",
    "```\n",
    "and : 양쪽 모두 True 일 때 -> True \n",
    "       T and F -> F\n",
    " or : 양쪽 모두 False일 때 -> False \n",
    "       T or F  -> T\n",
    "not : 값을 반대로 전환 \n",
    "```"
   ]
  },
  {
   "cell_type": "code",
   "execution_count": 72,
   "id": "fd9a7ccf-cbd4-4086-ad9b-bce145348062",
   "metadata": {},
   "outputs": [
    {
     "name": "stdout",
     "output_type": "stream",
     "text": [
      "True\n",
      "False\n",
      "False\n",
      "False\n"
     ]
    }
   ],
   "source": [
    "print(True and True)\n",
    "print(True and False)\n",
    "print(False and True)\n",
    "print(False and False)"
   ]
  },
  {
   "cell_type": "code",
   "execution_count": 73,
   "id": "ec826c77-15b3-42dc-a004-5d7bc26c8180",
   "metadata": {},
   "outputs": [
    {
     "name": "stdout",
     "output_type": "stream",
     "text": [
      "True\n",
      "True\n",
      "True\n",
      "False\n"
     ]
    }
   ],
   "source": [
    "print(True or True)\n",
    "print(True or False)\n",
    "print(False or True)\n",
    "print(False or False)"
   ]
  },
  {
   "cell_type": "code",
   "execution_count": 74,
   "id": "c5569198-48a7-426b-acbe-031cdd16acd8",
   "metadata": {},
   "outputs": [
    {
     "name": "stdout",
     "output_type": "stream",
     "text": [
      "True\n",
      "False\n"
     ]
    }
   ],
   "source": [
    "print(True)\n",
    "print(not True)"
   ]
  },
  {
   "cell_type": "code",
   "execution_count": 77,
   "id": "a8e2e447-88fa-4381-bc5e-d391abc8c218",
   "metadata": {},
   "outputs": [
    {
     "name": "stdout",
     "output_type": "stream",
     "text": [
      "5\n",
      "0\n",
      "0\n",
      "0\n"
     ]
    }
   ],
   "source": [
    "# 단축평가\n",
    "print(3 and 5)     # 앞이 T 이면  -> 뒤 값만 출력 \n",
    "print(3 and 0)\n",
    "print(0 and 5)     # 앞이 F 이면  -> 앞 값만 출력\n",
    "print(0 and 0)       "
   ]
  },
  {
   "cell_type": "code",
   "execution_count": 78,
   "id": "99ac1423-8d32-4800-b4e5-64b922d7917f",
   "metadata": {},
   "outputs": [
    {
     "name": "stdout",
     "output_type": "stream",
     "text": [
      "3\n",
      "3\n",
      "5\n",
      "0\n"
     ]
    }
   ],
   "source": [
    "# 단축평가\n",
    "print(3 or 5)      # 앞이 T 이면   -> 앞 값만 출력 \n",
    "print(3 or 0)\n",
    "print(0 or 5)      # 앞이 F 이면   -> 뒤 값만 출력 \n",
    "print(0 or 0)"
   ]
  },
  {
   "cell_type": "markdown",
   "id": "47d925f3-5bfe-4789-bc17-48b0af068e9c",
   "metadata": {},
   "source": [
    "## 2.3 복합연산자 "
   ]
  },
  {
   "cell_type": "code",
   "execution_count": 82,
   "id": "32a462f4-705f-4f75-9593-588b623b2761",
   "metadata": {},
   "outputs": [],
   "source": [
    "a = a + b   #   a += b 와 같다. \n",
    "a = a - b   #   a -= b 와 같다. \n",
    "a = a * b   #   a *= b 와 같다. \n",
    "a = a / b   #   a /= b 와 같다. \n",
    "a = a ** b  #   a **= b와 같다. "
   ]
  },
  {
   "cell_type": "markdown",
   "id": "f5768e80-1ef0-4c7c-b30e-8ba77b59ef7a",
   "metadata": {},
   "source": [
    "## 2.4 기타연산자 "
   ]
  },
  {
   "cell_type": "code",
   "execution_count": 87,
   "id": "1cb4c650-aa01-4ddd-83e3-0b512b157513",
   "metadata": {},
   "outputs": [
    {
     "data": {
      "text/plain": [
       "'hihello'"
      ]
     },
     "execution_count": 87,
     "metadata": {},
     "output_type": "execute_result"
    }
   ],
   "source": [
    "a = 'hi'\n",
    "b = 'hello' \n",
    "\n",
    "a + b           # concatenation(연결)"
   ]
  },
  {
   "cell_type": "code",
   "execution_count": 89,
   "id": "ca6ab255-75d4-4083-8477-d1ddd7728801",
   "metadata": {},
   "outputs": [
    {
     "data": {
      "text/plain": [
       "[1, 2, 3, 4, 5, '6']"
      ]
     },
     "execution_count": 89,
     "metadata": {},
     "output_type": "execute_result"
    }
   ],
   "source": [
    "a = [1,2,3] \n",
    "b = [4,5,'6']\n",
    "\n",
    "a + b"
   ]
  },
  {
   "cell_type": "code",
   "execution_count": 91,
   "id": "31f011e5-bd30-4072-8327-f59f66270324",
   "metadata": {},
   "outputs": [
    {
     "name": "stdout",
     "output_type": "stream",
     "text": [
      "True\n",
      "False\n"
     ]
    }
   ],
   "source": [
    "print('a' in 'apple')   # containment\n",
    "print('z' in 'apple')"
   ]
  },
  {
   "cell_type": "code",
   "execution_count": 92,
   "id": "8824661c-1c1e-4f6e-a562-4a3f12179246",
   "metadata": {},
   "outputs": [
    {
     "name": "stdout",
     "output_type": "stream",
     "text": [
      "True\n",
      "False\n"
     ]
    }
   ],
   "source": [
    "print(1 in [1,2,3])\n",
    "print(10 in [1,2,3])"
   ]
  },
  {
   "cell_type": "code",
   "execution_count": 95,
   "id": "e6180f92-6a41-431d-a778-6754467400f1",
   "metadata": {},
   "outputs": [
    {
     "name": "stdout",
     "output_type": "stream",
     "text": [
      "True\n",
      "False\n"
     ]
    }
   ],
   "source": [
    "a = 1             # identity\n",
    "b = 1\n",
    "print(a is b)     # a와 b는 같니? -> True \n",
    "\n",
    "c = 553223\n",
    "d = 553223\n",
    "print(c is d)     # c와 d는 같니? -> False\n",
    "                  # 일정한 수가 넘어가면 lam저장위치값이 달라 다르게 나온다."
   ]
  },
  {
   "cell_type": "markdown",
   "id": "d7d1884e-c8ba-4df0-9cb7-9eab5139e1cd",
   "metadata": {},
   "source": [
    "## 우선순위\n",
    "```\n",
    "()를 통해 그룹\n",
    "**\n",
    "산술연산자(*, /)\n",
    "산술연산자(+, -)\n",
    "비교연산자, in, is\n",
    "not\n",
    "and\n",
    "or\n",
    "```"
   ]
  },
  {
   "cell_type": "code",
   "execution_count": 97,
   "id": "1ea47578-905c-4d1c-b3f3-4a36650d8bcb",
   "metadata": {},
   "outputs": [
    {
     "name": "stdout",
     "output_type": "stream",
     "text": [
      "-81\n",
      "81\n"
     ]
    }
   ],
   "source": [
    "print(-3 ** 4)\n",
    "print((-3) ** 4)"
   ]
  },
  {
   "cell_type": "markdown",
   "id": "5d9249d2-609d-4786-9059-6023b08a319e",
   "metadata": {},
   "source": [
    "---"
   ]
  },
  {
   "cell_type": "markdown",
   "id": "9bcdf0bb-db8d-440b-a6ec-7907288744f0",
   "metadata": {},
   "source": [
    "## 3. 형변환"
   ]
  },
  {
   "cell_type": "markdown",
   "id": "cb2dc9ec-7620-4c56-b0bf-3f8c9497bf1f",
   "metadata": {},
   "source": [
    "## 3.1 암시적 형변환"
   ]
  },
  {
   "cell_type": "markdown",
   "id": "d51d2a75-07c3-451c-bc57-05c3df5f87c2",
   "metadata": {},
   "source": []
  }
 ],
 "metadata": {
  "kernelspec": {
   "display_name": "Python 3 (ipykernel)",
   "language": "python",
   "name": "python3"
  },
  "language_info": {
   "codemirror_mode": {
    "name": "ipython",
    "version": 3
   },
   "file_extension": ".py",
   "mimetype": "text/x-python",
   "name": "python",
   "nbconvert_exporter": "python",
   "pygments_lexer": "ipython3",
   "version": "3.9.13"
  }
 },
 "nbformat": 4,
 "nbformat_minor": 5
}
