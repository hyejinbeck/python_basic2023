{
 "cells": [
  {
   "cell_type": "markdown",
   "id": "f1899af6-2041-4dae-a52b-3388b0c46e3f",
   "metadata": {},
   "source": [
    "# 02. 제어문 \n",
    "\n",
    "- 1. 조건문 \n",
    "  - 1.1 if : ~에 해당된다면 \n",
    "  - 1.2 elif : 아니면 ~에 해당된다면\n",
    "  - 1.3 조건 표현식: 문장 if~else 문장\n",
    "- 2. 반복문 (지정된 구간의 코드를 여러번 실행) \n",
    "  - 2.1 while \n",
    "  - 2.2 for \n",
    "  - 2.3 dictionary \n",
    "  - 2.4 break : 종료\n",
    "  - 2.5 continue\n",
    "  - 2.2.추가 for문에서 else는 마지막\n",
    "- 3. 기타 \n",
    "  - 3.1 pass : 문장구조를 잡기 위한 임시적 문장 \n",
    "  - 3.2 match \n",
    "---"
   ]
  },
  {
   "cell_type": "markdown",
   "id": "da33f494-d9c9-48f2-9d34-32699ce46a4b",
   "metadata": {
    "tags": []
   },
   "source": [
    "## 1. 조건문 "
   ]
  },
  {
   "cell_type": "markdown",
   "id": "4bbd2df4-b9a2-4487-941e-6dc4e76909f1",
   "metadata": {},
   "source": [
    "## 1.1 if문 \n",
    "\n",
    "- 반드시 일정한 `참/거짓을 판단할 수 있는 조건식`과 함께 사용한다. \n",
    "  - if <조건식>: \n",
    "- <조건식>이 `참`인 경우 `: 이후의 문장 실행`한다. \n",
    "- <조건식>이 `거짓`인 경우 `else : 이후의 문장 실행`한다. "
   ]
  },
  {
   "cell_type": "markdown",
   "id": "e55e846a-ad50-4726-a9f0-06051140f187",
   "metadata": {},
   "source": [
    "```\n",
    "if <조건식> : \n",
    "    if 조건식이 참인 경우 실행하는 코드 \n",
    "else: \n",
    "    if 조건식이 거짓인경우 실행하는 코드 \n",
    "```"
   ]
  },
  {
   "cell_type": "code",
   "execution_count": null,
   "id": "e868972c-004c-4cff-a530-5f7efbb63855",
   "metadata": {},
   "outputs": [],
   "source": [
    "my_string = input()\n",
    "\n",
    "if my_string == '12/25' or '1225' :\n",
    "    print('크리스마스입니다.')\n",
    "else:\n",
    "    print('크리스마스가 아닙니다.')"
   ]
  },
  {
   "cell_type": "code",
   "execution_count": null,
   "id": "c9b4e570-6519-4b28-921d-081c53a1e272",
   "metadata": {},
   "outputs": [],
   "source": [
    "num = input('숫자를 입력해주세요')\n",
    "print(num)\n",
    "print(type(num))\n",
    "num = int(num)"
   ]
  },
  {
   "cell_type": "code",
   "execution_count": null,
   "id": "f5d51b0c-d32f-46fe-ab65-b5ab6e03b6e7",
   "metadata": {},
   "outputs": [],
   "source": [
    "# 조건문을 사용해서 num에 들어있는 숫자가 홀수/짝수 인지 판별\n",
    "if (num % 2) == 0:\n",
    "    print('짝수입니다.')\n",
    "else:\n",
    "    print('홀수입니다.')"
   ]
  },
  {
   "cell_type": "code",
   "execution_count": null,
   "id": "1826aca0-af9f-4608-b0da-fe69557d5cce",
   "metadata": {},
   "outputs": [],
   "source": [
    "if (num % 2) == 1:\n",
    "    print('홀수입니다.')\n",
    "else:\n",
    "    print('짝수입니다.')"
   ]
  },
  {
   "cell_type": "code",
   "execution_count": null,
   "id": "6c008ca2-5290-4c83-8861-1b2c133a64b3",
   "metadata": {},
   "outputs": [],
   "source": [
    "# num을 2로 나눈 나머지는 0, 1 두가지 경우가 있다.\n",
    "# if문의 조건식에 0, 1은 자동형변환이 일어나 False, True로 변환된다.\n",
    "if num % 2:\n",
    "    print('홀수입니다.')\n",
    "else:\n",
    "    print('짝수입니다.')"
   ]
  },
  {
   "cell_type": "markdown",
   "id": "7c1737aa-a12b-40ae-b188-abc96263c7f8",
   "metadata": {},
   "source": [
    "## 1.2 elif \n",
    "```\n",
    "if <조건식>: \n",
    "    if 조건이 참인경우 실행 \n",
    "elif <조건식>: \n",
    "    elif 조건이 참인경우 실행 \n",
    "... \n",
    "else: \n",
    "    위의 조건에 하나도 부합하지 않는 경우 실행 \n",
    "```\n"
   ]
  },
  {
   "cell_type": "code",
   "execution_count": null,
   "id": "6c3c480a-bde3-42a9-95b0-2a1fd8a32697",
   "metadata": {},
   "outputs": [],
   "source": [
    "# 성적점수를 입력받아, 점수별 성적이 출력되게 하라. \n",
    "\n",
    "# 90점 이상 A (95점이상 '참잘했어요')\n",
    "# 80점 이상 B\n",
    "# 70점 이상 C\n",
    "# 나머지 F\n",
    "\n",
    "score = int(input())  \n",
    "\n",
    "if score >= 90:\n",
    "    print('A')\n",
    "    if score >= 95:\n",
    "        print('참잘했어요')\n",
    "elif score >= 80:\n",
    "    print('B')\n",
    "elif score >= 70:\n",
    "    print('C')\n",
    "else:\n",
    "    print('F')\n",
    "   "
   ]
  },
  {
   "cell_type": "markdown",
   "id": "591a13af-0ae9-40c1-b15d-1314862ddf93",
   "metadata": {},
   "source": [
    "## 1.3 조건표현식 \n",
    "```\n",
    "true_value if <조건식> else false_value\n",
    "```"
   ]
  },
  {
   "cell_type": "code",
   "execution_count": null,
   "id": "91fc9e2e-182a-4847-9388-66c9301ed4df",
   "metadata": {},
   "outputs": [],
   "source": [
    "print('True') if 1 < 0 else print('False')"
   ]
  },
  {
   "cell_type": "code",
   "execution_count": null,
   "id": "fa4c55dd-6a09-4ba4-9a0a-e69df7103ae6",
   "metadata": {},
   "outputs": [],
   "source": [
    "if 1 < 0:\n",
    "    print('True')\n",
    "else:\n",
    "    print('False')          # 위의 형식과 동일한 내용"
   ]
  },
  {
   "cell_type": "code",
   "execution_count": null,
   "id": "e2b1ffe6-fee5-42d3-9aba-34ba00d7d1d2",
   "metadata": {},
   "outputs": [],
   "source": [
    "# 변수 num 값이 5일 때, \n",
    "# num이 양수인경우, num값을 value에 할당하여 출력하고\n",
    "# 그렇지 않을 경우, 0의 값을 value에 할당하여 출력하라. \n",
    "\n",
    "num = 5                       \n",
    "value = num if num >= 0 else 0  \n",
    "print(value)                   "
   ]
  },
  {
   "cell_type": "code",
   "execution_count": null,
   "id": "8b619588-a1a7-4098-8f8e-41893a909a7d",
   "metadata": {},
   "outputs": [],
   "source": [
    "# 위와 동일내용이나, num 값이 -5일때를 출력하라 \n",
    "\n",
    "num = -5\n",
    "if num >= 0:\n",
    "    value = num\n",
    "else:\n",
    "    value = 0\n",
    "print(value)"
   ]
  },
  {
   "cell_type": "code",
   "execution_count": null,
   "id": "68a9ad37-06b3-4f15-8837-b2d1695366f8",
   "metadata": {},
   "outputs": [],
   "source": [
    "num = 2\n",
    "if num % 2 == 1:\n",
    "    result = '홀수'\n",
    "else:\n",
    "    result = '짝수'\n",
    "\n",
    "print(result)"
   ]
  },
  {
   "cell_type": "code",
   "execution_count": null,
   "id": "dda5fca1-3623-4b6f-9de5-b63caa1d9bc0",
   "metadata": {},
   "outputs": [],
   "source": [
    "num = 2\n",
    "\n",
    "result = '홀수' if num % 2 == 1 else '짝수'\n",
    "print(result)"
   ]
  },
  {
   "cell_type": "markdown",
   "id": "cd74c619-343a-4443-b75d-f25618799351",
   "metadata": {},
   "source": [
    "## 2. 반복문 \n",
    "지정된 구간의 코드를 여러번 실행"
   ]
  },
  {
   "cell_type": "markdown",
   "id": "53bce9dc-2e64-4b15-93eb-0c8e7cb6bcd6",
   "metadata": {},
   "source": [
    "## 2.1 while문 "
   ]
  },
  {
   "cell_type": "markdown",
   "id": "0e6accfa-080a-4cd0-a3fc-c7a185389161",
   "metadata": {},
   "source": [
    "```\n",
    "while <조건식>:\n",
    "    반복적으로 실행할 코드\n",
    "```\n",
    "- 조건문처럼 조건이 참(True) -> 코드 반복 \n",
    "- 조건이 거짓(Falus) -> 해당 코드 탈출 "
   ]
  },
  {
   "cell_type": "code",
   "execution_count": null,
   "id": "ade280a2-7e82-4af6-9a0a-12d39413a411",
   "metadata": {},
   "outputs": [],
   "source": [
    "# 1부터 6까지 해당되는 숫자 구하기 \n",
    "\n",
    "num = 1               # 처음에는 변수값 정하기 (시작점 = 1부터) \n",
    "while num <= 6:       # 조건 & 범위지정 (6을 포함하여 종료)  \n",
    "    print(num)        # 조건이 참인경우 실행코드 입력\n",
    "    num +=1           # 반복 조건 "
   ]
  },
  {
   "cell_type": "code",
   "execution_count": null,
   "id": "3650b562-c584-4c71-9b93-5c34d6f9dc93",
   "metadata": {},
   "outputs": [],
   "source": [
    "num = 1               # 처음에는 변수값 정하기 (시작점 = 1부터) \n",
    "while num <= 6:       # 범위지정 (6을 포함하여 종료)  \n",
    "    num +=1           # 출력하기 전에 +1 하면 (시작점 = 1+1부터) \n",
    "    print(num)        # "
   ]
  },
  {
   "cell_type": "code",
   "execution_count": null,
   "id": "565e65b8-2943-4bcf-923e-3795915a79dd",
   "metadata": {},
   "outputs": [],
   "source": [
    "num = 0 \n",
    "while num <=4: \n",
    "    print(num)\n",
    "    num+=1"
   ]
  },
  {
   "cell_type": "code",
   "execution_count": null,
   "id": "fb99b9f0-42e2-45b0-96fe-87692534192d",
   "metadata": {},
   "outputs": [],
   "source": [
    "# 사용자가 '안녕' 이라고 입력할때까지 계속 입력요청하라 \n",
    "# True = '안녕' 이라고 입력 \n",
    "# False = '안녕' 이라고 입력 X \n",
    "\n",
    "greeting = ' '                        # 빈 문자열이라 False\n",
    "while greeting == '안녕':               # 아래의 조건이 진행X\n",
    "    greeting = input('안녕이라고해줘: ')"
   ]
  },
  {
   "cell_type": "code",
   "execution_count": null,
   "id": "0c4848dd-ea69-41aa-91df-f66e78c3b486",
   "metadata": {},
   "outputs": [],
   "source": [
    "greeting = ' '                        # 빈 문자열이라 False\n",
    "while greeting != '안녕':              \n",
    "    greeting = input('안녕이라고해줘: ')"
   ]
  },
  {
   "cell_type": "code",
   "execution_count": null,
   "id": "4e217d74-fdcd-4b35-8ac4-f132b9c5336d",
   "metadata": {},
   "outputs": [],
   "source": [
    "attack = 0\n",
    "while attack <5 : \n",
    "    attack += 1 \n",
    "    print(f'몬스터를 {attack}번 공격했다') \n",
    "    if attack == 5:\n",
    "        print('게임종료')"
   ]
  },
  {
   "cell_type": "markdown",
   "id": "9381c38d-b7d9-4ddf-97db-7e031f86fde2",
   "metadata": {},
   "source": [
    "## 2.2 for \n",
    "정해진 범위 내의 반복 "
   ]
  },
  {
   "cell_type": "markdown",
   "id": "01d1c73e-997e-4f72-b6a2-514564c22749",
   "metadata": {},
   "source": [
    "```\n",
    "변수명(복수) = \n",
    "for 변수명(단수) in 변수명(복수)  \n",
    "    하나씩 대입하는 명령문 \n",
    "```"
   ]
  },
  {
   "cell_type": "code",
   "execution_count": null,
   "id": "ee2d39c1-6e61-41c9-8e6d-a3da666dab9c",
   "metadata": {},
   "outputs": [],
   "source": [
    "numbers= [1, 2, 3, 4, 5]    # 정해진 범위 \n",
    "\n",
    "for nums in numbers:        # numbers안에 값을 하나 하나씩 \n",
    "    print(nums)             # 출력해줘 (nums값 단위로)"
   ]
  },
  {
   "cell_type": "code",
   "execution_count": null,
   "id": "ebb5c304-28b0-427a-8de4-a5846321531c",
   "metadata": {},
   "outputs": [],
   "source": [
    "word = input('영어 단어를 입력하세요: ') # 정해진 범위 \n",
    "\n",
    "for w in word:                     # word입력값 알파벳 하나하나 \n",
    "    print(w)                       # 출력해줘 (w 값 단위로)"
   ]
  },
  {
   "cell_type": "code",
   "execution_count": null,
   "id": "4b2a09da-c9fa-4492-94f4-0c8a012ac984",
   "metadata": {},
   "outputs": [],
   "source": [
    "word = input('한글도 됩니다: ') # 정해진 범위 \n",
    "\n",
    "for w in word:                     # word입력값 알파벳 하나하나 \n",
    "    print(w)                       # 출력해줘 (w 값 단위로)"
   ]
  },
  {
   "cell_type": "markdown",
   "id": "dbb7d40e-2a95-461b-87a4-44cecd0563d0",
   "metadata": {},
   "source": [
    "### 세로로 출력되는게 싫다면, 리스트[ ] 변수에 추가"
   ]
  },
  {
   "cell_type": "code",
   "execution_count": null,
   "id": "05008770-9f01-4625-9461-8dd88f2d59a3",
   "metadata": {},
   "outputs": [],
   "source": [
    "word = input(' ' )\n",
    "hahaha = [ ] \n",
    "\n",
    "for w in word: \n",
    "    hahaha.append(w)\n",
    "print(hahaha)"
   ]
  },
  {
   "cell_type": "code",
   "execution_count": null,
   "id": "43288c92-d09f-4f42-9580-728a1a80fa75",
   "metadata": {},
   "outputs": [],
   "source": [
    "word = ['안','녕']\n",
    "hahaha = [ ] \n",
    "\n",
    "for w in word: \n",
    "    hahaha.append(w)\n",
    "print(hahaha)"
   ]
  },
  {
   "cell_type": "code",
   "execution_count": null,
   "id": "1a5f3322-7756-42d0-8205-cbcb9dc939bd",
   "metadata": {},
   "outputs": [],
   "source": [
    "nums = range(2,7) \n",
    "test = [] \n",
    "\n",
    "for n in nums: \n",
    "    test.append(n)\n",
    "print(test)"
   ]
  },
  {
   "cell_type": "code",
   "execution_count": null,
   "id": "68bf313d-9b24-4c55-bb6e-1ea04cbb1877",
   "metadata": {},
   "outputs": [],
   "source": [
    "menus = ['라면', '김밥', '돈까스']\n",
    "\n",
    "for menu in enumerate(menus):\n",
    "    print(menu)"
   ]
  },
  {
   "cell_type": "code",
   "execution_count": null,
   "id": "46fb4cb6-3bfa-4147-b20c-cfd53ecf0680",
   "metadata": {},
   "outputs": [],
   "source": [
    "menus = ['라면', '김밥', '돈까스']\n",
    "\n",
    "for index,menu in enumerate(menus):\n",
    "    if index == 1: \n",
    "        print(index,menu)"
   ]
  },
  {
   "cell_type": "code",
   "execution_count": null,
   "id": "e6c858b6-958f-423b-a92e-6db6ef3a6fdc",
   "metadata": {},
   "outputs": [],
   "source": [
    "menus = ['라면', '김밥', '돈까스']\n",
    "\n",
    "for menu in enumerate(menus):\n",
    "    print(menu[0])    #-> 인덱스값 0, 1, 2 만 나옴 \n",
    "    print(menu[1])    #-> 라면 김밥 돈까스만 나옴"
   ]
  },
  {
   "cell_type": "markdown",
   "id": "55280370-f2d2-4dcb-897d-45db7f802a2b",
   "metadata": {},
   "source": [
    "## 2.3 dictionary 반복문 "
   ]
  },
  {
   "cell_type": "markdown",
   "id": "9a53e7b7-e4da-4af5-95d2-9477a3ab75a7",
   "metadata": {},
   "source": [
    "```\n",
    "for key in dict:\n",
    "for key in dict.keys():\n",
    "for value in dict.values():\n",
    "for key, value in dict.items():\n",
    "```"
   ]
  },
  {
   "cell_type": "code",
   "execution_count": null,
   "id": "733fecda-d1ac-4581-b91a-fed94beed1aa",
   "metadata": {},
   "outputs": [],
   "source": [
    "blood_type = {\n",
    "    'A': 5,\n",
    "    'B': 4,\n",
    "    'O': 2,\n",
    "    'AB': 3,\n",
    "}"
   ]
  },
  {
   "cell_type": "code",
   "execution_count": null,
   "id": "6adb8767-3e9e-4058-a272-f8121dfdf7be",
   "metadata": {},
   "outputs": [],
   "source": [
    "for i in blood_type:    # For i in 변수(복수) --> key값만 분류된다. \n",
    "#for i in blood_type.keys():   #와 동일하다. \n",
    "    print(i)"
   ]
  },
  {
   "cell_type": "code",
   "execution_count": null,
   "id": "3e3fbfd2-87a0-41c2-834e-de4e892c953d",
   "metadata": {},
   "outputs": [],
   "source": [
    "result = 0\n",
    "\n",
    "for value in blood_type.values():\n",
    "    result = result + value\n",
    "print(f'총인원은 {result}명입니다.')"
   ]
  },
  {
   "cell_type": "code",
   "execution_count": null,
   "id": "72499c0d-aee8-48e8-a205-f597501ccbe1",
   "metadata": {},
   "outputs": [],
   "source": [
    "blood_type.items()"
   ]
  },
  {
   "cell_type": "markdown",
   "id": "1b509122-e6fd-4bd9-81c0-74ac5cc7a5d6",
   "metadata": {},
   "source": [
    "## 2.4 break 종료 \n",
    "\n",
    "반복문을 종료시키는 키워드 "
   ]
  },
  {
   "cell_type": "code",
   "execution_count": null,
   "id": "f46b7732-89dc-4555-ab75-26a4e56f0128",
   "metadata": {},
   "outputs": [],
   "source": [
    "for i in range(7):\n",
    "    if i > 4:\n",
    "        print('4넘었어')\n",
    "        break\n",
    "    print(i)"
   ]
  },
  {
   "cell_type": "code",
   "execution_count": null,
   "id": "cf3d810a-f943-4bc7-99f7-a0b62f8c858b",
   "metadata": {},
   "outputs": [],
   "source": [
    "rice = ['보리', '보리', '쌀', '보리', '보리']\n",
    "# 보리, 보리, 쌀, 잡았다! => X\n",
    "\n",
    "for r in rice:\n",
    "    print(r)\n",
    "    if r == '쌀':\n",
    "        print('잡았다!')\n",
    "        break"
   ]
  },
  {
   "cell_type": "markdown",
   "id": "de08e3d0-bbb5-49cd-bde0-5cf708569747",
   "metadata": {},
   "source": [
    "## 2.5 continue \n",
    "``` \n",
    "<조건문> :             조건문에 부합하는것만 빼고 \n",
    "   continue          계속 진행해\n",
    "                         즉, 조건문 제외하고 계속 진행 \n",
    "```"
   ]
  },
  {
   "cell_type": "code",
   "execution_count": null,
   "id": "044b7a9b-f2bd-4058-b957-bbd7df37e1d3",
   "metadata": {},
   "outputs": [],
   "source": [
    "for i in range(10):      # 0,1,2,3,4,5,6,7,8,9 숫자 중에 \n",
    "    if i % 2:            # if i%2 == 1 이 생략됨. 즉, 위 숫자중에 홀수를 뜻함 \n",
    "        continue         # 홀수값 만 제외하고 계속해\n",
    "    print(i)             # 0포함 짝수가 나옴"
   ]
  },
  {
   "cell_type": "code",
   "execution_count": null,
   "id": "217cbcfa-2170-4a1d-86c3-9b52374192a9",
   "metadata": {},
   "outputs": [],
   "source": [
    "nums = ['a','a','b','a'] \n",
    "\n",
    "for n in nums:\n",
    "    if n == 'b':                         # 'b' 인 것 제외하고 \n",
    "        continue                          # 계속 실행해 \n",
    "    print('실행')                           # 'a' 값 3번 실행 "
   ]
  },
  {
   "cell_type": "markdown",
   "id": "2a1c0b3b-ae6a-4134-8ec5-579bd266b48a",
   "metadata": {},
   "source": [
    "## 2.2.추가 for문에서 else는 마지막 \n",
    "\n",
    "### else 문은 끝까지 반복이 된 후, 실행됩니다."
   ]
  },
  {
   "cell_type": "code",
   "execution_count": null,
   "id": "a2190b14-eaab-4ab1-9220-7490c43900bb",
   "metadata": {},
   "outputs": [],
   "source": [
    "for i in range(10):\n",
    "    if i > 100:\n",
    "        break\n",
    "    print(i)\n",
    "else:\n",
    "    print('break 못만남')"
   ]
  },
  {
   "cell_type": "code",
   "execution_count": null,
   "id": "5fd09466-4d5c-4c57-ab6a-9523743c4136",
   "metadata": {},
   "outputs": [],
   "source": [
    "for i in range(10):\n",
    "    if i > 5:\n",
    "        break\n",
    "    print(i)\n",
    "else:\n",
    "    print('break 못만남')"
   ]
  },
  {
   "cell_type": "code",
   "execution_count": null,
   "id": "68fcfcb2-86c1-4b52-a95e-b257970a41d7",
   "metadata": {},
   "outputs": [],
   "source": [
    "numbers = [1, 3, 5, 7, 9]\n",
    "target = 9\n",
    "\n",
    "for number in numbers:\n",
    "    # if문을 통해 내가 원하는 숫자가 있으면 True\n",
    "    if number == target:\n",
    "        print('True')\n",
    "        break\n",
    "else:\n",
    "    print('False')"
   ]
  },
  {
   "cell_type": "code",
   "execution_count": null,
   "id": "b685982a-aa28-419e-8984-c9e4638c6aeb",
   "metadata": {},
   "outputs": [],
   "source": [
    "names = ['민선','승헌','혜진']\n",
    "me = '혜진' \n",
    "\n",
    "for name in names: \n",
    "    if name == me: \n",
    "        print('혜진이 찾았다')\n",
    "        break\n",
    "else: \n",
    "    print('혜진이 못찾았다')"
   ]
  },
  {
   "cell_type": "markdown",
   "id": "23482fe0-f3fb-46a1-9a3d-b3d0c67fff33",
   "metadata": {},
   "source": [
    "## 3.1 pass\n",
    "\n",
    "코드입력시 문장구조를 대강 잡을 때, 임시적으로 pass를 적어둠 \n",
    "``` \n",
    "if 조건문 : \n",
    "    pass \n",
    "elif 조건문 : \n",
    "    pass \n",
    "``` "
   ]
  },
  {
   "cell_type": "markdown",
   "id": "81495cb4-c4c7-426b-8534-b7dbb61404bb",
   "metadata": {},
   "source": [
    "## 3.2 match "
   ]
  },
  {
   "cell_type": "code",
   "execution_count": null,
   "id": "876036fe-603a-47a0-ac2a-c8ac1c640abc",
   "metadata": {},
   "outputs": [],
   "source": [
    "status = 404\n",
    "\n",
    "match status:\n",
    "    case 400:\n",
    "        print('Bad request')\n",
    "    case 404:\n",
    "        print('Not found')\n",
    "    case _:\n",
    "        print('something is wrong')"
   ]
  },
  {
   "cell_type": "code",
   "execution_count": null,
   "id": "8bcb17d8-0030-45e9-a9a8-8f41e003cf3b",
   "metadata": {},
   "outputs": [],
   "source": [
    "# 기본적으로 Python 3.10 버전 이상을 사용하는 환경에서는 match 구문이 정상적으로 작동\n",
    "# [출력] Not found"
   ]
  }
 ],
 "metadata": {
  "kernelspec": {
   "display_name": "Python 3 (ipykernel)",
   "language": "python",
   "name": "python3"
  },
  "language_info": {
   "codemirror_mode": {
    "name": "ipython",
    "version": 3
   },
   "file_extension": ".py",
   "mimetype": "text/x-python",
   "name": "python",
   "nbconvert_exporter": "python",
   "pygments_lexer": "ipython3",
   "version": "3.9.13"
  }
 },
 "nbformat": 4,
 "nbformat_minor": 5
}
