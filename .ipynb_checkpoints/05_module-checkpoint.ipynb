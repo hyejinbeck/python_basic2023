{
 "cells": [
  {
   "cell_type": "markdown",
   "id": "1e7d77e5-3957-45e2-9066-bc380fecc02d",
   "metadata": {},
   "source": [
    "# 1. 모듈\n",
    "\n",
    "단일 파일 사용할 때 쓴다"
   ]
  },
  {
   "cell_type": "code",
   "execution_count": 6,
   "id": "53e54f9b-d8f0-45a1-9b02-a95e6429d157",
   "metadata": {},
   "outputs": [],
   "source": [
    "import fibo                #fibo.py 파일 불러오기\n",
    "                           # 실행해도 따로 결과가 눈에 보이진 않다. "
   ]
  },
  {
   "cell_type": "code",
   "execution_count": 5,
   "id": "e98e512d-041e-4c99-8a15-dddd06eb9090",
   "metadata": {},
   "outputs": [
    {
     "name": "stdout",
     "output_type": "stream",
     "text": [
      "<module 'fibo' from '/Users/beckhyejin/Desktop/camp29/python_basic2023/fibo.py'>\n"
     ]
    }
   ],
   "source": [
    "print(fibo)"
   ]
  },
  {
   "cell_type": "code",
   "execution_count": 7,
   "id": "3b8439c1-f213-41a9-a4f5-6a912af667c8",
   "metadata": {},
   "outputs": [
    {
     "data": {
      "text/plain": [
       "5"
      ]
     },
     "execution_count": 7,
     "metadata": {},
     "output_type": "execute_result"
    }
   ],
   "source": [
    "fibo.fib_loop(4)"
   ]
  },
  {
   "cell_type": "code",
   "execution_count": 8,
   "id": "71845f66-de69-4926-9fce-5b925d3e6c88",
   "metadata": {},
   "outputs": [
    {
     "data": {
      "text/plain": [
       "3"
      ]
     },
     "execution_count": 8,
     "metadata": {},
     "output_type": "execute_result"
    }
   ],
   "source": [
    "fibo.fib_rec(3)"
   ]
  },
  {
   "cell_type": "markdown",
   "id": "f3129a8c-dece-4eb3-8af2-466715d8b80c",
   "metadata": {},
   "source": [
    "# 2. 패키지 "
   ]
  },
  {
   "cell_type": "markdown",
   "id": "a86ab6d7-8edf-4cec-bd6f-dcab5e15ea4c",
   "metadata": {},
   "source": [
    "```\n",
    "myPackage/ \n",
    "    __init__.py\n",
    "    math/\n",
    "        __init__.py\n",
    "        fibo.py\n",
    "        formula.py\n",
    "```\n",
    "\n",
    "패키지 안에 ' __ init __ .py ' 파일이 있어야 패키지로 인식한다.  "
   ]
  },
  {
   "cell_type": "code",
   "execution_count": 14,
   "id": "5335a9ec-b17f-42cc-aee2-c068fb611ae7",
   "metadata": {},
   "outputs": [],
   "source": [
    "import myPackage      # myPackae 폴더를 불러온다. "
   ]
  },
  {
   "cell_type": "code",
   "execution_count": 13,
   "id": "a1bc9b7e-ee68-4cac-a1df-b8dbb07083cd",
   "metadata": {},
   "outputs": [
    {
     "name": "stdout",
     "output_type": "stream",
     "text": [
      "<module 'myPackage' from '/Users/beckhyejin/Desktop/camp29/python_basic2023/myPackage/__init__.py'>\n"
     ]
    }
   ],
   "source": [
    "print(myPackage)      # myPackage 폴더 안에 __init__.py 파일을 타겟팅 한다. "
   ]
  },
  {
   "cell_type": "code",
   "execution_count": 24,
   "id": "205eb22b-ed9b-42ff-9a7e-2229218113ea",
   "metadata": {},
   "outputs": [],
   "source": [
    "from myPackage.math import formula    # myPackage폴더 안에 math 에 들어가서, formula 파일을 불러온다. \n",
    "                                       # 패키지폴더에서 필요한 모듈을 꺼내오는 코드 "
   ]
  },
  {
   "cell_type": "code",
   "execution_count": 19,
   "id": "14b43d23-86b8-476d-9603-205e9c5da51c",
   "metadata": {},
   "outputs": [
    {
     "data": {
      "text/plain": [
       "3.14"
      ]
     },
     "execution_count": 19,
     "metadata": {},
     "output_type": "execute_result"
    }
   ],
   "source": [
    "formula.pi"
   ]
  },
  {
   "cell_type": "code",
   "execution_count": 20,
   "id": "375bfa8e-f543-421b-9a2f-6f317838877e",
   "metadata": {},
   "outputs": [],
   "source": [
    "from myPackage.math import fibo"
   ]
  },
  {
   "cell_type": "code",
   "execution_count": 25,
   "id": "b1de09ad-3ea4-44c3-a419-75591040ac0e",
   "metadata": {},
   "outputs": [],
   "source": [
    "from myPackage.math.fibo import *    # myPackage폴더 -> math폴더 -> fibo 파일 에 있는 모든 함수 (*) \n",
    "                                      # 경로에 있는 모듈이 가지고 있는 모든 변수와 함수를 추가 "
   ]
  },
  {
   "cell_type": "code",
   "execution_count": 22,
   "id": "0b5ae01a-05d2-4b84-8af9-b4bf1f9229f8",
   "metadata": {},
   "outputs": [
    {
     "data": {
      "text/plain": [
       "89"
      ]
     },
     "execution_count": 22,
     "metadata": {},
     "output_type": "execute_result"
    }
   ],
   "source": [
    "fib_loop(10)"
   ]
  },
  {
   "cell_type": "code",
   "execution_count": 32,
   "id": "2e093602-174d-4bbd-bdb1-35143b07ce04",
   "metadata": {},
   "outputs": [
    {
     "name": "stdout",
     "output_type": "stream",
     "text": [
      "1234\n"
     ]
    }
   ],
   "source": [
    "formula = 1234                         # formula 변수에 1234를 넣는다. \n",
    "#from myPackage.math import formula     # (원래만들어진) myPackage 및 math 에 있는 formula 불러오기 \n",
    "                           \n",
    "           # 이렇게 기존 변수와 불러오는 파일의 이름이 겹칠 때에는, 마지막 코드인 myPackage 에 있는 formula 가 나온다. \n",
    "print(formula)"
   ]
  },
  {
   "cell_type": "code",
   "execution_count": 33,
   "id": "f14c5fb2-b547-4e1e-b25d-61df1ec73937",
   "metadata": {},
   "outputs": [
    {
     "name": "stdout",
     "output_type": "stream",
     "text": [
      "<module 'myPackage.math.formula' from '/Users/beckhyejin/Desktop/camp29/python_basic2023/myPackage/math/formula.py'>\n",
      "1234\n"
     ]
    }
   ],
   "source": [
    "# 파일 불러올 때, 기존 변수 이름과 겹칠 경우, \n",
    "# 파일 불러올 때, 예외적으로 ~라고 부르겠어. 라는 의미의 \n",
    "# as 를 덧붙힐 수 있다. \n",
    "\n",
    "from myPackage.math import formula as f \n",
    "print(f)\n",
    "\n",
    "print(formula)"
   ]
  },
  {
   "cell_type": "markdown",
   "id": "5eccfa18-cdf0-4d24-bfd4-8fca253652e7",
   "metadata": {},
   "source": [
    "# 작은단위 = 모듈\n",
    "# 그걸 감싸고 있는게  = 패키지 = 라이브러리 "
   ]
  },
  {
   "cell_type": "markdown",
   "id": "5b091310-610c-439e-a239-c7d45a45fd09",
   "metadata": {},
   "source": [
    "# 3. 파이썬 기본 내장 패키지 "
   ]
  },
  {
   "cell_type": "markdown",
   "id": "668934fe-6c91-44e8-b266-9db4a06c2b8b",
   "metadata": {},
   "source": [
    "## 3.1 math \n",
    "기본 수학 기능이 있는 함수"
   ]
  },
  {
   "cell_type": "code",
   "execution_count": 34,
   "id": "ad182059-189d-4e9f-9181-6fd987d1e24e",
   "metadata": {},
   "outputs": [],
   "source": [
    "import math "
   ]
  },
  {
   "cell_type": "code",
   "execution_count": 35,
   "id": "67818016-7848-40b7-bb49-6e00286c36d2",
   "metadata": {},
   "outputs": [
    {
     "data": {
      "text/plain": [
       "3.141592653589793"
      ]
     },
     "execution_count": 35,
     "metadata": {},
     "output_type": "execute_result"
    }
   ],
   "source": [
    "math.pi"
   ]
  },
  {
   "cell_type": "code",
   "execution_count": 38,
   "id": "c4a3f53c-baef-431a-b895-d4d094a28c29",
   "metadata": {},
   "outputs": [
    {
     "name": "stdout",
     "output_type": "stream",
     "text": [
      "3.141592653589793\n"
     ]
    }
   ],
   "source": [
    "print(math.pi)"
   ]
  },
  {
   "cell_type": "code",
   "execution_count": 39,
   "id": "209dbb88-b72e-4712-962d-02e4301c6c8d",
   "metadata": {},
   "outputs": [
    {
     "data": {
      "text/plain": [
       "2.718281828459045"
      ]
     },
     "execution_count": 39,
     "metadata": {},
     "output_type": "execute_result"
    }
   ],
   "source": [
    "math.e"
   ]
  },
  {
   "cell_type": "code",
   "execution_count": 46,
   "id": "12ed0382-fea5-4b95-ade6-c077e9789da8",
   "metadata": {},
   "outputs": [],
   "source": [
    "pi_number = 3.141592          # pi 에 새 변수 생성 "
   ]
  },
  {
   "cell_type": "code",
   "execution_count": 47,
   "id": "b6daeeb0-99e9-4a4b-9f1d-001ccaf2ef94",
   "metadata": {},
   "outputs": [
    {
     "data": {
      "text/plain": [
       "4"
      ]
     },
     "execution_count": 47,
     "metadata": {},
     "output_type": "execute_result"
    }
   ],
   "source": [
    "math.ceil(pi_number)          # 숫자 올림 "
   ]
  },
  {
   "cell_type": "code",
   "execution_count": 48,
   "id": "77acda72-bf18-4767-a020-4edee3961ab1",
   "metadata": {},
   "outputs": [
    {
     "data": {
      "text/plain": [
       "3"
      ]
     },
     "execution_count": 48,
     "metadata": {},
     "output_type": "execute_result"
    }
   ],
   "source": [
    "math.floor(pi_number)         # 숫자 내림 "
   ]
  },
  {
   "cell_type": "code",
   "execution_count": 49,
   "id": "955d390d-2da9-40f9-87ff-e23695cd8229",
   "metadata": {},
   "outputs": [
    {
     "data": {
      "text/plain": [
       "4"
      ]
     },
     "execution_count": 49,
     "metadata": {},
     "output_type": "execute_result"
    }
   ],
   "source": [
    "math.ceil(pi)"
   ]
  },
  {
   "cell_type": "code",
   "execution_count": 50,
   "id": "5b0a3f35-294e-4fb0-bc8b-a37bc800b7fb",
   "metadata": {},
   "outputs": [
    {
     "data": {
      "text/plain": [
       "3"
      ]
     },
     "execution_count": 50,
     "metadata": {},
     "output_type": "execute_result"
    }
   ],
   "source": [
    "math.floor(pi)"
   ]
  },
  {
   "cell_type": "markdown",
   "id": "9dc096bf-48ba-415b-a0ac-eb448847e837",
   "metadata": {},
   "source": [
    "## 3.2 랜덤모듈 random module"
   ]
  },
  {
   "cell_type": "code",
   "execution_count": 51,
   "id": "0c63e572-88c0-4b8c-9627-c645868dc6fa",
   "metadata": {},
   "outputs": [],
   "source": [
    "import random "
   ]
  },
  {
   "cell_type": "code",
   "execution_count": 52,
   "id": "739e119a-8abe-43a2-b71e-7072aa05abf2",
   "metadata": {},
   "outputs": [
    {
     "data": {
      "text/plain": [
       "0.1973240181468623"
      ]
     },
     "execution_count": 52,
     "metadata": {},
     "output_type": "execute_result"
    }
   ],
   "source": [
    "random.random() "
   ]
  },
  {
   "cell_type": "code",
   "execution_count": 57,
   "id": "601104b7-8faa-476d-b52d-5630d5637aca",
   "metadata": {},
   "outputs": [
    {
     "data": {
      "text/plain": [
       "0.3206666676002141"
      ]
     },
     "execution_count": 57,
     "metadata": {},
     "output_type": "execute_result"
    }
   ],
   "source": [
    "random.random()       # 실행할 때마다 \"소수가\" 무작위로 바뀜"
   ]
  },
  {
   "cell_type": "code",
   "execution_count": 63,
   "id": "e6e56c77-4984-4d20-ae26-8d80da06a0f4",
   "metadata": {},
   "outputs": [
    {
     "data": {
      "text/plain": [
       "5"
      ]
     },
     "execution_count": 63,
     "metadata": {},
     "output_type": "execute_result"
    }
   ],
   "source": [
    "random.randint(1,10)   # 실행할 때마다 \"정수가\" 무작위로 바뀜 ( 1부터 10까지) "
   ]
  },
  {
   "cell_type": "code",
   "execution_count": 66,
   "id": "cd8360fa-6abd-47ff-9963-db8c13f06f31",
   "metadata": {},
   "outputs": [
    {
     "data": {
      "text/plain": [
       "0.13436424411240122"
      ]
     },
     "execution_count": 66,
     "metadata": {},
     "output_type": "execute_result"
    }
   ],
   "source": [
    "# seed \n",
    "\n",
    "random.seed(1)           # 임의의 난수를 출력하지만, 이후 똑같은 고정된 랜덤값이 필요할 때 사용\n",
    "random.random()"
   ]
  },
  {
   "cell_type": "code",
   "execution_count": 65,
   "id": "568b26da-fd98-42c6-8df4-88314c1cdef8",
   "metadata": {},
   "outputs": [
    {
     "data": {
      "text/plain": [
       "0.8474337369372327"
      ]
     },
     "execution_count": 65,
     "metadata": {},
     "output_type": "execute_result"
    }
   ],
   "source": [
    "random.random()          # 무작위"
   ]
  },
  {
   "cell_type": "code",
   "execution_count": 70,
   "id": "8db74455-0f27-4f02-bd6e-6702ee1428a6",
   "metadata": {},
   "outputs": [
    {
     "data": {
      "text/plain": [
       "0.13436424411240122"
      ]
     },
     "execution_count": 70,
     "metadata": {},
     "output_type": "execute_result"
    }
   ],
   "source": [
    "random.seed(1)\n",
    "random.random()           # 고정된 랜던값 "
   ]
  },
  {
   "cell_type": "code",
   "execution_count": 73,
   "id": "8835f8d6-5f44-4bbc-8a45-1c5f43d813fb",
   "metadata": {},
   "outputs": [
    {
     "name": "stdout",
     "output_type": "stream",
     "text": [
      "[3, 4, 5, 1, 2]\n"
     ]
    }
   ],
   "source": [
    "# shuffle\n",
    "a = [1,2,3,4,5]         # 리스트 값이 주어지고 \n",
    "random.shuffle(a)          # 그 안에서 무작위로 \n",
    "print(a)"
   ]
  },
  {
   "cell_type": "code",
   "execution_count": 77,
   "id": "c3544707-0815-4d1d-8168-ca9da5f868eb",
   "metadata": {},
   "outputs": [
    {
     "name": "stdout",
     "output_type": "stream",
     "text": [
      "[5, 3, 4, 2, 1]\n"
     ]
    }
   ],
   "source": [
    "random.shuffle(a)        \n",
    "print(a)"
   ]
  },
  {
   "cell_type": "code",
   "execution_count": 78,
   "id": "67251bfb-ba83-4375-943f-7eab12b59af9",
   "metadata": {},
   "outputs": [
    {
     "name": "stdout",
     "output_type": "stream",
     "text": [
      "3\n",
      "99\n"
     ]
    }
   ],
   "source": [
    "# choice\n",
    "a = ['e', '가위', 2,3,4,'99']\n",
    "print(random.choice(a)) \n",
    "print(random.choice(a))"
   ]
  },
  {
   "cell_type": "code",
   "execution_count": 79,
   "id": "089f88be-f4e5-4fd8-9aab-c93703785fa7",
   "metadata": {},
   "outputs": [
    {
     "name": "stdout",
     "output_type": "stream",
     "text": [
      "가위\n"
     ]
    }
   ],
   "source": [
    "print(random.choice(a))"
   ]
  },
  {
   "cell_type": "code",
   "execution_count": 81,
   "id": "d80327a8-82b9-48a5-bd74-2ae6cfef1dfb",
   "metadata": {},
   "outputs": [
    {
     "data": {
      "text/plain": [
       "[36, 15, 23, 44, 42, 30]"
      ]
     },
     "execution_count": 81,
     "metadata": {},
     "output_type": "execute_result"
    }
   ],
   "source": [
    "# sample \n",
    "a = range(1,46)           # 1부터 45 숫자중에 \n",
    "random.sample(a,6)       # a 변수 안에 6개의 숫자를 랜덤 뽑아줘 "
   ]
  },
  {
   "cell_type": "code",
   "execution_count": 82,
   "id": "52eca9ae-afc5-4a18-8708-a689a1e1017e",
   "metadata": {},
   "outputs": [
    {
     "data": {
      "text/plain": [
       "[19, 2, 27]"
      ]
     },
     "execution_count": 82,
     "metadata": {},
     "output_type": "execute_result"
    }
   ],
   "source": [
    "random.sample(a,3)"
   ]
  },
  {
   "cell_type": "code",
   "execution_count": 85,
   "id": "3d8532c3-1fe9-4378-a6db-c13ddbc5d14f",
   "metadata": {},
   "outputs": [
    {
     "data": {
      "text/plain": [
       "[41, 19]"
      ]
     },
     "execution_count": 85,
     "metadata": {},
     "output_type": "execute_result"
    }
   ],
   "source": [
    "random.sample(a,2)       # 주로 로또프로그램 같이    또한 중복값 X"
   ]
  },
  {
   "cell_type": "markdown",
   "id": "d8290200-dfc0-41d8-a5d0-3df803c8de20",
   "metadata": {},
   "source": [
    "# 3.3 datetime \n",
    "날짜 데이터를 다룸 "
   ]
  },
  {
   "cell_type": "code",
   "execution_count": 87,
   "id": "47a4da9b-08b2-48d1-874f-a343e9590584",
   "metadata": {},
   "outputs": [],
   "source": [
    "from datetime import datetime        # datetime 폴더 안에 datetime 파일 불러오기 "
   ]
  },
  {
   "cell_type": "code",
   "execution_count": 95,
   "id": "2cae4f10-88b7-47b4-b179-6100eb4291d0",
   "metadata": {},
   "outputs": [
    {
     "name": "stdout",
     "output_type": "stream",
     "text": [
      "2023-07-31 16:21:43.507684\n"
     ]
    }
   ],
   "source": [
    "now = datetime.now()\n",
    "print(now)"
   ]
  },
  {
   "cell_type": "code",
   "execution_count": 96,
   "id": "08a9f20f-dc26-4f6a-9b69-b4c042c04f9b",
   "metadata": {},
   "outputs": [
    {
     "name": "stdout",
     "output_type": "stream",
     "text": [
      "2023-07-31 16:21:45.296151\n"
     ]
    }
   ],
   "source": [
    "today = datetime.today() \n",
    "print(today)"
   ]
  },
  {
   "cell_type": "code",
   "execution_count": 98,
   "id": "687a7457-da2e-4411-ae21-b66622ae13fc",
   "metadata": {},
   "outputs": [
    {
     "name": "stdout",
     "output_type": "stream",
     "text": [
      "2023-07-31 07:23:16.983076\n"
     ]
    }
   ],
   "source": [
    "utc = datetime.utcnow()             # utc 기준 = 영국 그리치천문대 \n",
    "print(utc)"
   ]
  },
  {
   "cell_type": "code",
   "execution_count": 99,
   "id": "0d6ed494-0fad-4ab0-be4e-0ea3c2cd3135",
   "metadata": {},
   "outputs": [
    {
     "data": {
      "text/plain": [
       "'2023년'"
      ]
     },
     "execution_count": 99,
     "metadata": {},
     "output_type": "execute_result"
    }
   ],
   "source": [
    "# now.strftime('')             # 우리가 편하게 살짝 바꾸어 본다. \n",
    "now.strftime('%Y년') "
   ]
  },
  {
   "cell_type": "code",
   "execution_count": 104,
   "id": "2e7308db-34a6-479d-9ddc-e8da3bed487a",
   "metadata": {},
   "outputs": [
    {
     "data": {
      "text/plain": [
       "'2023년 07월 31일'"
      ]
     },
     "execution_count": 104,
     "metadata": {},
     "output_type": "execute_result"
    }
   ],
   "source": [
    "now.strftime('%Y년 %m월 %d일') \n",
    "             \n",
    "# %b  Sep\n",
    "# %B  September\n",
    "# %m  09"
   ]
  },
  {
   "cell_type": "code",
   "execution_count": 105,
   "id": "0e3e63b6-4e03-422d-9d89-5d2a0171e19e",
   "metadata": {},
   "outputs": [
    {
     "data": {
      "text/plain": [
       "'2023년/07월/31일'"
      ]
     },
     "execution_count": 105,
     "metadata": {},
     "output_type": "execute_result"
    }
   ],
   "source": [
    "now.strftime('%Y년/%m월/%d일') "
   ]
  },
  {
   "cell_type": "code",
   "execution_count": 106,
   "id": "36f0ab90-3a9f-48fa-bba2-e1f822319b64",
   "metadata": {},
   "outputs": [
    {
     "data": {
      "text/plain": [
       "2023"
      ]
     },
     "execution_count": 106,
     "metadata": {},
     "output_type": "execute_result"
    }
   ],
   "source": [
    "now.year"
   ]
  },
  {
   "cell_type": "code",
   "execution_count": 110,
   "id": "e06a0c3c-0cdb-4614-8bb1-96c1badd902d",
   "metadata": {},
   "outputs": [
    {
     "data": {
      "text/plain": [
       "7"
      ]
     },
     "execution_count": 110,
     "metadata": {},
     "output_type": "execute_result"
    }
   ],
   "source": [
    "now.month"
   ]
  },
  {
   "cell_type": "code",
   "execution_count": 109,
   "id": "568fcdc3-05c2-4be7-a5ad-482d6df5353f",
   "metadata": {},
   "outputs": [
    {
     "data": {
      "text/plain": [
       "31"
      ]
     },
     "execution_count": 109,
     "metadata": {},
     "output_type": "execute_result"
    }
   ],
   "source": [
    "now.day"
   ]
  },
  {
   "cell_type": "code",
   "execution_count": 112,
   "id": "1e3e87e9-42af-46d2-a65d-8b0b7be7a9f9",
   "metadata": {},
   "outputs": [
    {
     "data": {
      "text/plain": [
       "0"
      ]
     },
     "execution_count": 112,
     "metadata": {},
     "output_type": "execute_result"
    }
   ],
   "source": [
    "# weekday => 0~6, 월~일 \n",
    "now.weekday()             # 월요일 = 0 "
   ]
  },
  {
   "cell_type": "code",
   "execution_count": 123,
   "id": "09c9c3a6-9df2-45ad-a008-e0506b14a5de",
   "metadata": {},
   "outputs": [
    {
     "name": "stdout",
     "output_type": "stream",
     "text": [
      "2023-01-01 00:00:00\n"
     ]
    }
   ],
   "source": [
    "# 내가 원하는 시간을 만드려면 \n",
    "\n",
    "datetime(2023,1,1)\n",
    "birth = datetime(2023,1,1) \n",
    "print(birth)"
   ]
  },
  {
   "cell_type": "code",
   "execution_count": 124,
   "id": "34fc124d-07ac-432a-ac8c-bdb3e4248034",
   "metadata": {},
   "outputs": [],
   "source": [
    "from datetime import timedelta"
   ]
  },
  {
   "cell_type": "code",
   "execution_count": 125,
   "id": "912a9916-86a2-4d50-914e-5c69398d4fd0",
   "metadata": {},
   "outputs": [
    {
     "name": "stdout",
     "output_type": "stream",
     "text": [
      "3 days, 0:00:00\n"
     ]
    }
   ],
   "source": [
    "future = timedelta(days =3)\n",
    "print(future)"
   ]
  },
  {
   "cell_type": "code",
   "execution_count": 126,
   "id": "81d1f1ba-7e16-4500-863d-0c27432cc47e",
   "metadata": {},
   "outputs": [
    {
     "data": {
      "text/plain": [
       "datetime.datetime(2023, 1, 4, 0, 0)"
      ]
     },
     "execution_count": 126,
     "metadata": {},
     "output_type": "execute_result"
    }
   ],
   "source": [
    "birth + future "
   ]
  },
  {
   "cell_type": "code",
   "execution_count": 131,
   "id": "f6d89cff-d840-4867-b373-d2589654cf4e",
   "metadata": {},
   "outputs": [],
   "source": [
    "# 크리스마스 까지 얼마 남았는지 계산해보는 코드를 입력하자 \n",
    "christmas = datetime(2023,12,25) "
   ]
  },
  {
   "cell_type": "code",
   "execution_count": 130,
   "id": "e6836b12-7e3e-48d0-92c7-e3d2f7f9d3be",
   "metadata": {},
   "outputs": [
    {
     "data": {
      "text/plain": [
       "datetime.timedelta(days=146, seconds=27496, microseconds=492316)"
      ]
     },
     "execution_count": 130,
     "metadata": {},
     "output_type": "execute_result"
    }
   ],
   "source": [
    "christmas - now "
   ]
  },
  {
   "cell_type": "code",
   "execution_count": null,
   "id": "9627c806-4c92-4278-911a-a0048500741b",
   "metadata": {},
   "outputs": [],
   "source": []
  }
 ],
 "metadata": {
  "kernelspec": {
   "display_name": "Python 3 (ipykernel)",
   "language": "python",
   "name": "python3"
  },
  "language_info": {
   "codemirror_mode": {
    "name": "ipython",
    "version": 3
   },
   "file_extension": ".py",
   "mimetype": "text/x-python",
   "name": "python",
   "nbconvert_exporter": "python",
   "pygments_lexer": "ipython3",
   "version": "3.9.13"
  }
 },
 "nbformat": 4,
 "nbformat_minor": 5
}
